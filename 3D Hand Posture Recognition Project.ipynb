{
 "cells": [
  {
   "cell_type": "markdown",
   "metadata": {},
   "source": [
    "# 3D Hand Posture Recognition Project#\n",
    "\n",
    "__Name:__ Zexi Ye\n",
    "\n",
    "__Project Name:__ Hand Posture Project\n",
    "\n",
    "__Date of Completion:__ 12/03/2018\n",
    "\n",
    "__Goal:__ Using machine learning methods to classify hand postures\n",
    "\n",
    "__Introduction:__\n",
    "\n",
    "In this project, we will use two feature engineering methods and a number of machine learning methods to build predictive classifiers that aim to classify the type of hand posture given the 3-D coordinates of the points in the instances. There are 5 classes of hand posture, which is our target variable.\n",
    "\n",
    "The dataset at hand consists of 78,095 observations in a file called \"postures.csv\". Each observation has a class field, labeled from 1 to 5, a user field, and 12 points in a three-dimensional coordinate system given in the form $(X_{i}, Y_{i}, Z_{i})$. Note that a significant number of points are missing in the given dataset, which will be addressed accordingly. In addition, the points do not follow any meaningful order. For instance, the first point $(X_{1}, Y_{1}, Z_{1})$ in observation 1 does not necessarily have correspondance to the first point $(X_{1}, Y_{1}, Z_{1})$ in observation 2, which is another caveat.\n",
    "\n",
    "The goal is to develop a number of machine learning models that are able to accurately classify new observations in the presence of the aforementioned issues.\n",
    "\n",
    "__Feature Engineering Methods:__\n",
    "\n",
    "Two feature engineering methods will be used in this project. The methods are\n",
    "\n",
    "   _A) Aggregate features_\n",
    "   \n",
    "   _B) Pseudo-rasterized features_\n",
    "\n",
    "Details about the feature generating processes will be provided in later sections.\n",
    "\n",
    "__Machine Learning Methods:__\n",
    "\n",
    "For each feature engineering method, we will apply the following machine learning methods to construct our classifiers:\n",
    "\n",
    "   _1) Naive Bayes_\n",
    "   \n",
    "   _2) Linear Discriminant Analysis (LDA)_\n",
    "   \n",
    "   _3) Quadratic Discriminant Analysis (QDA)_\n",
    "   \n",
    "   _4) Support Vector Machine (SVM)_\n",
    "   \n",
    "   _5) Decision Tree_\n",
    "   \n",
    "   _6) K-Nearest Neighbors (K-NN)_\n"
   ]
  },
  {
   "cell_type": "markdown",
   "metadata": {},
   "source": [
    "# STAGE I: DATA CLEANING\n",
    "\n",
    "## Overview\n",
    "\n",
    "In this section, we will read in the dataset and clean the data.\n",
    "\n",
    "Note that the data have two issues. First, it has an extraneous row at the beginning. Second, the missing values are marked as a \"?\" in the entries. We will address each issue accordingly. In particular, we will remove the first row and replace \"?\" with NaN."
   ]
  },
  {
   "cell_type": "code",
   "execution_count": 1,
   "metadata": {},
   "outputs": [
    {
     "data": {
      "text/html": [
       "<div>\n",
       "<style scoped>\n",
       "    .dataframe tbody tr th:only-of-type {\n",
       "        vertical-align: middle;\n",
       "    }\n",
       "\n",
       "    .dataframe tbody tr th {\n",
       "        vertical-align: top;\n",
       "    }\n",
       "\n",
       "    .dataframe thead th {\n",
       "        text-align: right;\n",
       "    }\n",
       "</style>\n",
       "<table border=\"1\" class=\"dataframe\">\n",
       "  <thead>\n",
       "    <tr style=\"text-align: right;\">\n",
       "      <th></th>\n",
       "      <th>Class</th>\n",
       "      <th>User</th>\n",
       "      <th>X0</th>\n",
       "      <th>Y0</th>\n",
       "      <th>Z0</th>\n",
       "      <th>X1</th>\n",
       "      <th>Y1</th>\n",
       "      <th>Z1</th>\n",
       "      <th>X2</th>\n",
       "      <th>Y2</th>\n",
       "      <th>...</th>\n",
       "      <th>Z8</th>\n",
       "      <th>X9</th>\n",
       "      <th>Y9</th>\n",
       "      <th>Z9</th>\n",
       "      <th>X10</th>\n",
       "      <th>Y10</th>\n",
       "      <th>Z10</th>\n",
       "      <th>X11</th>\n",
       "      <th>Y11</th>\n",
       "      <th>Z11</th>\n",
       "    </tr>\n",
       "  </thead>\n",
       "  <tbody>\n",
       "    <tr>\n",
       "      <th>1</th>\n",
       "      <td>1</td>\n",
       "      <td>0</td>\n",
       "      <td>54.263880</td>\n",
       "      <td>71.466776</td>\n",
       "      <td>-64.807709</td>\n",
       "      <td>76.895635</td>\n",
       "      <td>42.462500</td>\n",
       "      <td>-72.780545</td>\n",
       "      <td>36.621229</td>\n",
       "      <td>81.680557</td>\n",
       "      <td>...</td>\n",
       "      <td>NaN</td>\n",
       "      <td>NaN</td>\n",
       "      <td>NaN</td>\n",
       "      <td>NaN</td>\n",
       "      <td>NaN</td>\n",
       "      <td>NaN</td>\n",
       "      <td>NaN</td>\n",
       "      <td>NaN</td>\n",
       "      <td>NaN</td>\n",
       "      <td>NaN</td>\n",
       "    </tr>\n",
       "    <tr>\n",
       "      <th>2</th>\n",
       "      <td>1</td>\n",
       "      <td>0</td>\n",
       "      <td>56.527558</td>\n",
       "      <td>72.266609</td>\n",
       "      <td>-61.935252</td>\n",
       "      <td>39.135978</td>\n",
       "      <td>82.538530</td>\n",
       "      <td>-49.596509</td>\n",
       "      <td>79.223743</td>\n",
       "      <td>43.254091</td>\n",
       "      <td>...</td>\n",
       "      <td>NaN</td>\n",
       "      <td>NaN</td>\n",
       "      <td>NaN</td>\n",
       "      <td>NaN</td>\n",
       "      <td>NaN</td>\n",
       "      <td>NaN</td>\n",
       "      <td>NaN</td>\n",
       "      <td>NaN</td>\n",
       "      <td>NaN</td>\n",
       "      <td>NaN</td>\n",
       "    </tr>\n",
       "    <tr>\n",
       "      <th>3</th>\n",
       "      <td>1</td>\n",
       "      <td>0</td>\n",
       "      <td>55.849928</td>\n",
       "      <td>72.469064</td>\n",
       "      <td>-62.562788</td>\n",
       "      <td>37.988804</td>\n",
       "      <td>82.631347</td>\n",
       "      <td>-50.606259</td>\n",
       "      <td>78.451526</td>\n",
       "      <td>43.567403</td>\n",
       "      <td>...</td>\n",
       "      <td>NaN</td>\n",
       "      <td>NaN</td>\n",
       "      <td>NaN</td>\n",
       "      <td>NaN</td>\n",
       "      <td>NaN</td>\n",
       "      <td>NaN</td>\n",
       "      <td>NaN</td>\n",
       "      <td>NaN</td>\n",
       "      <td>NaN</td>\n",
       "      <td>NaN</td>\n",
       "    </tr>\n",
       "    <tr>\n",
       "      <th>4</th>\n",
       "      <td>1</td>\n",
       "      <td>0</td>\n",
       "      <td>55.329647</td>\n",
       "      <td>71.707275</td>\n",
       "      <td>-63.688956</td>\n",
       "      <td>36.561863</td>\n",
       "      <td>81.868749</td>\n",
       "      <td>-52.752784</td>\n",
       "      <td>86.320630</td>\n",
       "      <td>68.214645</td>\n",
       "      <td>...</td>\n",
       "      <td>NaN</td>\n",
       "      <td>NaN</td>\n",
       "      <td>NaN</td>\n",
       "      <td>NaN</td>\n",
       "      <td>NaN</td>\n",
       "      <td>NaN</td>\n",
       "      <td>NaN</td>\n",
       "      <td>NaN</td>\n",
       "      <td>NaN</td>\n",
       "      <td>NaN</td>\n",
       "    </tr>\n",
       "    <tr>\n",
       "      <th>5</th>\n",
       "      <td>1</td>\n",
       "      <td>0</td>\n",
       "      <td>55.142401</td>\n",
       "      <td>71.435607</td>\n",
       "      <td>-64.177303</td>\n",
       "      <td>36.175818</td>\n",
       "      <td>81.556874</td>\n",
       "      <td>-53.475747</td>\n",
       "      <td>76.986143</td>\n",
       "      <td>42.426849</td>\n",
       "      <td>...</td>\n",
       "      <td>NaN</td>\n",
       "      <td>NaN</td>\n",
       "      <td>NaN</td>\n",
       "      <td>NaN</td>\n",
       "      <td>NaN</td>\n",
       "      <td>NaN</td>\n",
       "      <td>NaN</td>\n",
       "      <td>NaN</td>\n",
       "      <td>NaN</td>\n",
       "      <td>NaN</td>\n",
       "    </tr>\n",
       "  </tbody>\n",
       "</table>\n",
       "<p>5 rows × 38 columns</p>\n",
       "</div>"
      ],
      "text/plain": [
       "   Class  User         X0         Y0         Z0         X1         Y1  \\\n",
       "1      1     0  54.263880  71.466776 -64.807709  76.895635  42.462500   \n",
       "2      1     0  56.527558  72.266609 -61.935252  39.135978  82.538530   \n",
       "3      1     0  55.849928  72.469064 -62.562788  37.988804  82.631347   \n",
       "4      1     0  55.329647  71.707275 -63.688956  36.561863  81.868749   \n",
       "5      1     0  55.142401  71.435607 -64.177303  36.175818  81.556874   \n",
       "\n",
       "          Z1         X2         Y2 ...   Z8  X9  Y9  Z9  X10  Y10  Z10  X11  \\\n",
       "1 -72.780545  36.621229  81.680557 ...  NaN NaN NaN NaN  NaN  NaN  NaN  NaN   \n",
       "2 -49.596509  79.223743  43.254091 ...  NaN NaN NaN NaN  NaN  NaN  NaN  NaN   \n",
       "3 -50.606259  78.451526  43.567403 ...  NaN NaN NaN NaN  NaN  NaN  NaN  NaN   \n",
       "4 -52.752784  86.320630  68.214645 ...  NaN NaN NaN NaN  NaN  NaN  NaN  NaN   \n",
       "5 -53.475747  76.986143  42.426849 ...  NaN NaN NaN NaN  NaN  NaN  NaN  NaN   \n",
       "\n",
       "   Y11  Z11  \n",
       "1  NaN  NaN  \n",
       "2  NaN  NaN  \n",
       "3  NaN  NaN  \n",
       "4  NaN  NaN  \n",
       "5  NaN  NaN  \n",
       "\n",
       "[5 rows x 38 columns]"
      ]
     },
     "execution_count": 1,
     "metadata": {},
     "output_type": "execute_result"
    }
   ],
   "source": [
    "import numpy as np\n",
    "import pandas as pd\n",
    "\n",
    "# Read in the data\n",
    "\n",
    "mydata = pd.read_csv(\"Postures.csv\")\n",
    "\n",
    "# Drop the first row\n",
    "\n",
    "mydata.drop(0, inplace=True)\n",
    "\n",
    "# Replace \"?\" with NaN\n",
    "mydata.replace('?', np.NaN, inplace=True)\n",
    "\n",
    "# Change the types of columns that contain coordinates into float\n",
    "mydata.X3 = mydata.X3.astype(float)\n",
    "mydata.Y3 = mydata.Y3.astype(float)\n",
    "mydata.Z3 = mydata.Z3.astype(float)\n",
    "mydata.X4 = mydata.X4.astype(float)\n",
    "mydata.Y4 = mydata.Y4.astype(float)\n",
    "mydata.Z4 = mydata.Z4.astype(float)\n",
    "mydata.X5 = mydata.X5.astype(float)\n",
    "mydata.Y5 = mydata.Y5.astype(float)\n",
    "mydata.Z5 = mydata.Z5.astype(float)\n",
    "mydata.X6 = mydata.X6.astype(float)\n",
    "mydata.Y6 = mydata.Y6.astype(float)\n",
    "mydata.Z6 = mydata.Z6.astype(float)\n",
    "mydata.X7 = mydata.X7.astype(float)\n",
    "mydata.Y7 = mydata.Y7.astype(float)\n",
    "mydata.Z7 = mydata.Z7.astype(float)\n",
    "mydata.X8 = mydata.X8.astype(float)\n",
    "mydata.Y8 = mydata.Y8.astype(float)\n",
    "mydata.Z8 = mydata.Z8.astype(float)\n",
    "mydata.X9 = mydata.X9.astype(float)\n",
    "mydata.Y9 = mydata.Y9.astype(float)\n",
    "mydata.Z9 = mydata.Z9.astype(float)\n",
    "mydata.X10 = mydata.X10.astype(float)\n",
    "mydata.Y10 = mydata.Y10.astype(float)\n",
    "mydata.Z10 = mydata.Z10.astype(float)\n",
    "mydata.X11 = mydata.X11.astype(float)\n",
    "mydata.Y11 = mydata.Y11.astype(float)\n",
    "mydata.Z11 = mydata.Z11.astype(float)\n",
    "\n",
    "mydata.head()"
   ]
  },
  {
   "cell_type": "code",
   "execution_count": 2,
   "metadata": {},
   "outputs": [
    {
     "data": {
      "text/plain": [
       "Class      int64\n",
       "User       int64\n",
       "X0       float64\n",
       "Y0       float64\n",
       "Z0       float64\n",
       "X1       float64\n",
       "Y1       float64\n",
       "Z1       float64\n",
       "X2       float64\n",
       "Y2       float64\n",
       "Z2       float64\n",
       "X3       float64\n",
       "Y3       float64\n",
       "Z3       float64\n",
       "X4       float64\n",
       "Y4       float64\n",
       "Z4       float64\n",
       "X5       float64\n",
       "Y5       float64\n",
       "Z5       float64\n",
       "X6       float64\n",
       "Y6       float64\n",
       "Z6       float64\n",
       "X7       float64\n",
       "Y7       float64\n",
       "Z7       float64\n",
       "X8       float64\n",
       "Y8       float64\n",
       "Z8       float64\n",
       "X9       float64\n",
       "Y9       float64\n",
       "Z9       float64\n",
       "X10      float64\n",
       "Y10      float64\n",
       "Z10      float64\n",
       "X11      float64\n",
       "Y11      float64\n",
       "Z11      float64\n",
       "dtype: object"
      ]
     },
     "execution_count": 2,
     "metadata": {},
     "output_type": "execute_result"
    }
   ],
   "source": [
    "mydata.dtypes"
   ]
  },
  {
   "cell_type": "markdown",
   "metadata": {},
   "source": [
    "# STAGE II: FEATURE ENGINEERING\n",
    "\n",
    "## Overview\n",
    "In this section, we will generate features that will be used to build our classifiers. Two feature engineering approaches will be employed, each having a subsection exclusively devoted to it."
   ]
  },
  {
   "cell_type": "markdown",
   "metadata": {},
   "source": [
    "## Method I: Aggregate Features\n",
    "\n",
    "Due to the fact that the points across the observations are unordered, it does not make sense to apply machine learning algorithms directly upon the raw data, otherwise it would erroneously assume that each point has a supposed correspondance and lead to confusion.\n",
    "\n",
    "Therefore, a collection of aggregate features will be created in order to avoid the false correspondance issue above. We will extract the general information about each observation from the dataset and build our classifiers upon it. Specifically, the following features will be created:\n",
    "\n",
    "   _1) Number of markers_\n",
    "   \n",
    "   _2) Mean in each dimension (X, Y and Z)_\n",
    "   \n",
    "   _3) Variance and covariance between each dimension_\n",
    "   \n",
    "   _4) Dimension of the bounding box_\n",
    "\n",
    "Additionally, we will also consider adding interaction terms to our features, based on the performance of the validation dataset.\n"
   ]
  },
  {
   "cell_type": "markdown",
   "metadata": {},
   "source": [
    "__Rationale:__\n",
    "\n",
    "\n",
    "The rationale for using these 4 sets of features is that, after eyeballing the dataset, I observe that the number of markers is somewhat correlated with the class of the markers, as some classes tend to have more missing points than others. Moreover, I expect that the mean, variance and covariance will display a systematically different patterns across different classes due to the shape of each type of hand posture. Finally, the degree of expansiveness might differ among different types of hand postures, so the dimension of the bounding box, computed by the 1D distance between the two farthest points in each dimension, is included here."
   ]
  },
  {
   "cell_type": "code",
   "execution_count": 3,
   "metadata": {},
   "outputs": [],
   "source": [
    "# 1) Number of markers\n",
    "\n",
    "def num_marker(df):\n",
    "    return int((sum(pd.notna(df)) - 2) /3)\n",
    "\n",
    "num_mark = mydata.apply(num_marker, axis=1)\n",
    "mydata['num_mark'] = num_mark\n"
   ]
  },
  {
   "cell_type": "markdown",
   "metadata": {},
   "source": [
    "Knowing the number of markers that each observation has, we are able to further clean the data. Specifically, we now group the data by num_mark and Class and remove observations that have too many missing coordinates, i.e. too few number of markers."
   ]
  },
  {
   "cell_type": "code",
   "execution_count": 4,
   "metadata": {},
   "outputs": [
    {
     "data": {
      "text/plain": [
       "num_mark  Class\n",
       "3         1          661\n",
       "          3           22\n",
       "          4            1\n",
       "          5            6\n",
       "4         1         1414\n",
       "          2           28\n",
       "          3          942\n",
       "          4            5\n",
       "          5           41\n",
       "5         1         4999\n",
       "          2           41\n",
       "          3         4634\n",
       "          4          191\n",
       "          5           38\n",
       "6         1         6552\n",
       "          2          148\n",
       "          3         4323\n",
       "          4         1560\n",
       "          5          242\n",
       "7         1         2587\n",
       "          2           93\n",
       "          3         2867\n",
       "          4         7251\n",
       "          5          506\n",
       "8         1            4\n",
       "          2          118\n",
       "          3         3475\n",
       "          4         3418\n",
       "          5         1365\n",
       "9         2         1026\n",
       "          3           81\n",
       "          4         2336\n",
       "          5         3153\n",
       "10        2         3000\n",
       "          4           13\n",
       "          5         6202\n",
       "11        1           48\n",
       "          2        10493\n",
       "          5         4180\n",
       "12        2           31\n",
       "dtype: int64"
      ]
     },
     "execution_count": 4,
     "metadata": {},
     "output_type": "execute_result"
    }
   ],
   "source": [
    "grp = mydata.groupby([mydata.num_mark, mydata.Class])\n",
    "grp.size()"
   ]
  },
  {
   "cell_type": "markdown",
   "metadata": {},
   "source": [
    "Here we observe that groups with a number of markers 3 or 4 contain a relatively small number of instances compared to the size of the entire dataset. Thus, we drop observations with less than or equal to 4 markers since a number of markers too small is not sufficiently informative for training our predictive models."
   ]
  },
  {
   "cell_type": "code",
   "execution_count": 5,
   "metadata": {},
   "outputs": [
    {
     "data": {
      "text/html": [
       "<div>\n",
       "<style scoped>\n",
       "    .dataframe tbody tr th:only-of-type {\n",
       "        vertical-align: middle;\n",
       "    }\n",
       "\n",
       "    .dataframe tbody tr th {\n",
       "        vertical-align: top;\n",
       "    }\n",
       "\n",
       "    .dataframe thead th {\n",
       "        text-align: right;\n",
       "    }\n",
       "</style>\n",
       "<table border=\"1\" class=\"dataframe\">\n",
       "  <thead>\n",
       "    <tr style=\"text-align: right;\">\n",
       "      <th></th>\n",
       "      <th>Class</th>\n",
       "      <th>User</th>\n",
       "      <th>X0</th>\n",
       "      <th>Y0</th>\n",
       "      <th>Z0</th>\n",
       "      <th>X1</th>\n",
       "      <th>Y1</th>\n",
       "      <th>Z1</th>\n",
       "      <th>X2</th>\n",
       "      <th>Y2</th>\n",
       "      <th>...</th>\n",
       "      <th>X9</th>\n",
       "      <th>Y9</th>\n",
       "      <th>Z9</th>\n",
       "      <th>X10</th>\n",
       "      <th>Y10</th>\n",
       "      <th>Z10</th>\n",
       "      <th>X11</th>\n",
       "      <th>Y11</th>\n",
       "      <th>Z11</th>\n",
       "      <th>num_mark</th>\n",
       "    </tr>\n",
       "  </thead>\n",
       "  <tbody>\n",
       "    <tr>\n",
       "      <th>1</th>\n",
       "      <td>1</td>\n",
       "      <td>0</td>\n",
       "      <td>54.263880</td>\n",
       "      <td>71.466776</td>\n",
       "      <td>-64.807709</td>\n",
       "      <td>76.895635</td>\n",
       "      <td>42.462500</td>\n",
       "      <td>-72.780545</td>\n",
       "      <td>36.621229</td>\n",
       "      <td>81.680557</td>\n",
       "      <td>...</td>\n",
       "      <td>NaN</td>\n",
       "      <td>NaN</td>\n",
       "      <td>NaN</td>\n",
       "      <td>NaN</td>\n",
       "      <td>NaN</td>\n",
       "      <td>NaN</td>\n",
       "      <td>NaN</td>\n",
       "      <td>NaN</td>\n",
       "      <td>NaN</td>\n",
       "      <td>5</td>\n",
       "    </tr>\n",
       "    <tr>\n",
       "      <th>2</th>\n",
       "      <td>1</td>\n",
       "      <td>0</td>\n",
       "      <td>56.527558</td>\n",
       "      <td>72.266609</td>\n",
       "      <td>-61.935252</td>\n",
       "      <td>39.135978</td>\n",
       "      <td>82.538530</td>\n",
       "      <td>-49.596509</td>\n",
       "      <td>79.223743</td>\n",
       "      <td>43.254091</td>\n",
       "      <td>...</td>\n",
       "      <td>NaN</td>\n",
       "      <td>NaN</td>\n",
       "      <td>NaN</td>\n",
       "      <td>NaN</td>\n",
       "      <td>NaN</td>\n",
       "      <td>NaN</td>\n",
       "      <td>NaN</td>\n",
       "      <td>NaN</td>\n",
       "      <td>NaN</td>\n",
       "      <td>5</td>\n",
       "    </tr>\n",
       "    <tr>\n",
       "      <th>3</th>\n",
       "      <td>1</td>\n",
       "      <td>0</td>\n",
       "      <td>55.849928</td>\n",
       "      <td>72.469064</td>\n",
       "      <td>-62.562788</td>\n",
       "      <td>37.988804</td>\n",
       "      <td>82.631347</td>\n",
       "      <td>-50.606259</td>\n",
       "      <td>78.451526</td>\n",
       "      <td>43.567403</td>\n",
       "      <td>...</td>\n",
       "      <td>NaN</td>\n",
       "      <td>NaN</td>\n",
       "      <td>NaN</td>\n",
       "      <td>NaN</td>\n",
       "      <td>NaN</td>\n",
       "      <td>NaN</td>\n",
       "      <td>NaN</td>\n",
       "      <td>NaN</td>\n",
       "      <td>NaN</td>\n",
       "      <td>5</td>\n",
       "    </tr>\n",
       "    <tr>\n",
       "      <th>4</th>\n",
       "      <td>1</td>\n",
       "      <td>0</td>\n",
       "      <td>55.329647</td>\n",
       "      <td>71.707275</td>\n",
       "      <td>-63.688956</td>\n",
       "      <td>36.561863</td>\n",
       "      <td>81.868749</td>\n",
       "      <td>-52.752784</td>\n",
       "      <td>86.320630</td>\n",
       "      <td>68.214645</td>\n",
       "      <td>...</td>\n",
       "      <td>NaN</td>\n",
       "      <td>NaN</td>\n",
       "      <td>NaN</td>\n",
       "      <td>NaN</td>\n",
       "      <td>NaN</td>\n",
       "      <td>NaN</td>\n",
       "      <td>NaN</td>\n",
       "      <td>NaN</td>\n",
       "      <td>NaN</td>\n",
       "      <td>5</td>\n",
       "    </tr>\n",
       "    <tr>\n",
       "      <th>5</th>\n",
       "      <td>1</td>\n",
       "      <td>0</td>\n",
       "      <td>55.142401</td>\n",
       "      <td>71.435607</td>\n",
       "      <td>-64.177303</td>\n",
       "      <td>36.175818</td>\n",
       "      <td>81.556874</td>\n",
       "      <td>-53.475747</td>\n",
       "      <td>76.986143</td>\n",
       "      <td>42.426849</td>\n",
       "      <td>...</td>\n",
       "      <td>NaN</td>\n",
       "      <td>NaN</td>\n",
       "      <td>NaN</td>\n",
       "      <td>NaN</td>\n",
       "      <td>NaN</td>\n",
       "      <td>NaN</td>\n",
       "      <td>NaN</td>\n",
       "      <td>NaN</td>\n",
       "      <td>NaN</td>\n",
       "      <td>5</td>\n",
       "    </tr>\n",
       "  </tbody>\n",
       "</table>\n",
       "<p>5 rows × 39 columns</p>\n",
       "</div>"
      ],
      "text/plain": [
       "   Class  User         X0         Y0         Z0         X1         Y1  \\\n",
       "1      1     0  54.263880  71.466776 -64.807709  76.895635  42.462500   \n",
       "2      1     0  56.527558  72.266609 -61.935252  39.135978  82.538530   \n",
       "3      1     0  55.849928  72.469064 -62.562788  37.988804  82.631347   \n",
       "4      1     0  55.329647  71.707275 -63.688956  36.561863  81.868749   \n",
       "5      1     0  55.142401  71.435607 -64.177303  36.175818  81.556874   \n",
       "\n",
       "          Z1         X2         Y2    ...     X9  Y9  Z9  X10  Y10  Z10  X11  \\\n",
       "1 -72.780545  36.621229  81.680557    ...    NaN NaN NaN  NaN  NaN  NaN  NaN   \n",
       "2 -49.596509  79.223743  43.254091    ...    NaN NaN NaN  NaN  NaN  NaN  NaN   \n",
       "3 -50.606259  78.451526  43.567403    ...    NaN NaN NaN  NaN  NaN  NaN  NaN   \n",
       "4 -52.752784  86.320630  68.214645    ...    NaN NaN NaN  NaN  NaN  NaN  NaN   \n",
       "5 -53.475747  76.986143  42.426849    ...    NaN NaN NaN  NaN  NaN  NaN  NaN   \n",
       "\n",
       "   Y11  Z11  num_mark  \n",
       "1  NaN  NaN         5  \n",
       "2  NaN  NaN         5  \n",
       "3  NaN  NaN         5  \n",
       "4  NaN  NaN         5  \n",
       "5  NaN  NaN         5  \n",
       "\n",
       "[5 rows x 39 columns]"
      ]
     },
     "execution_count": 5,
     "metadata": {},
     "output_type": "execute_result"
    }
   ],
   "source": [
    "# Drop instances with num_mark <= 4\n",
    "\n",
    "mydata = mydata[mydata.num_mark > 4]\n",
    "mydata.head()"
   ]
  },
  {
   "cell_type": "code",
   "execution_count": 8,
   "metadata": {},
   "outputs": [
    {
     "name": "stderr",
     "output_type": "stream",
     "text": [
      "/Users/zexi_ye/anaconda3/lib/python3.6/site-packages/ipykernel_launcher.py:8: SettingWithCopyWarning: \n",
      "A value is trying to be set on a copy of a slice from a DataFrame.\n",
      "Try using .loc[row_indexer,col_indexer] = value instead\n",
      "\n",
      "See the caveats in the documentation: http://pandas.pydata.org/pandas-docs/stable/indexing.html#indexing-view-versus-copy\n",
      "  \n",
      "/Users/zexi_ye/anaconda3/lib/python3.6/site-packages/ipykernel_launcher.py:15: SettingWithCopyWarning: \n",
      "A value is trying to be set on a copy of a slice from a DataFrame.\n",
      "Try using .loc[row_indexer,col_indexer] = value instead\n",
      "\n",
      "See the caveats in the documentation: http://pandas.pydata.org/pandas-docs/stable/indexing.html#indexing-view-versus-copy\n",
      "  from ipykernel import kernelapp as app\n",
      "/Users/zexi_ye/anaconda3/lib/python3.6/site-packages/ipykernel_launcher.py:22: SettingWithCopyWarning: \n",
      "A value is trying to be set on a copy of a slice from a DataFrame.\n",
      "Try using .loc[row_indexer,col_indexer] = value instead\n",
      "\n",
      "See the caveats in the documentation: http://pandas.pydata.org/pandas-docs/stable/indexing.html#indexing-view-versus-copy\n"
     ]
    },
    {
     "data": {
      "text/html": [
       "<div>\n",
       "<style scoped>\n",
       "    .dataframe tbody tr th:only-of-type {\n",
       "        vertical-align: middle;\n",
       "    }\n",
       "\n",
       "    .dataframe tbody tr th {\n",
       "        vertical-align: top;\n",
       "    }\n",
       "\n",
       "    .dataframe thead th {\n",
       "        text-align: right;\n",
       "    }\n",
       "</style>\n",
       "<table border=\"1\" class=\"dataframe\">\n",
       "  <thead>\n",
       "    <tr style=\"text-align: right;\">\n",
       "      <th></th>\n",
       "      <th>Class</th>\n",
       "      <th>User</th>\n",
       "      <th>X0</th>\n",
       "      <th>Y0</th>\n",
       "      <th>Z0</th>\n",
       "      <th>X1</th>\n",
       "      <th>Y1</th>\n",
       "      <th>Z1</th>\n",
       "      <th>X2</th>\n",
       "      <th>Y2</th>\n",
       "      <th>...</th>\n",
       "      <th>X10</th>\n",
       "      <th>Y10</th>\n",
       "      <th>Z10</th>\n",
       "      <th>X11</th>\n",
       "      <th>Y11</th>\n",
       "      <th>Z11</th>\n",
       "      <th>num_mark</th>\n",
       "      <th>x_mean</th>\n",
       "      <th>y_mean</th>\n",
       "      <th>z_mean</th>\n",
       "    </tr>\n",
       "  </thead>\n",
       "  <tbody>\n",
       "    <tr>\n",
       "      <th>1</th>\n",
       "      <td>1</td>\n",
       "      <td>0</td>\n",
       "      <td>54.263880</td>\n",
       "      <td>71.466776</td>\n",
       "      <td>-64.807709</td>\n",
       "      <td>76.895635</td>\n",
       "      <td>42.462500</td>\n",
       "      <td>-72.780545</td>\n",
       "      <td>36.621229</td>\n",
       "      <td>81.680557</td>\n",
       "      <td>...</td>\n",
       "      <td>NaN</td>\n",
       "      <td>NaN</td>\n",
       "      <td>NaN</td>\n",
       "      <td>NaN</td>\n",
       "      <td>NaN</td>\n",
       "      <td>NaN</td>\n",
       "      <td>5</td>\n",
       "      <td>62.440317</td>\n",
       "      <td>54.807598</td>\n",
       "      <td>-67.097888</td>\n",
       "    </tr>\n",
       "    <tr>\n",
       "      <th>2</th>\n",
       "      <td>1</td>\n",
       "      <td>0</td>\n",
       "      <td>56.527558</td>\n",
       "      <td>72.266609</td>\n",
       "      <td>-61.935252</td>\n",
       "      <td>39.135978</td>\n",
       "      <td>82.538530</td>\n",
       "      <td>-49.596509</td>\n",
       "      <td>79.223743</td>\n",
       "      <td>43.254091</td>\n",
       "      <td>...</td>\n",
       "      <td>NaN</td>\n",
       "      <td>NaN</td>\n",
       "      <td>NaN</td>\n",
       "      <td>NaN</td>\n",
       "      <td>NaN</td>\n",
       "      <td>NaN</td>\n",
       "      <td>5</td>\n",
       "      <td>64.785121</td>\n",
       "      <td>55.647991</td>\n",
       "      <td>-64.209132</td>\n",
       "    </tr>\n",
       "    <tr>\n",
       "      <th>3</th>\n",
       "      <td>1</td>\n",
       "      <td>0</td>\n",
       "      <td>55.849928</td>\n",
       "      <td>72.469064</td>\n",
       "      <td>-62.562788</td>\n",
       "      <td>37.988804</td>\n",
       "      <td>82.631347</td>\n",
       "      <td>-50.606259</td>\n",
       "      <td>78.451526</td>\n",
       "      <td>43.567403</td>\n",
       "      <td>...</td>\n",
       "      <td>NaN</td>\n",
       "      <td>NaN</td>\n",
       "      <td>NaN</td>\n",
       "      <td>NaN</td>\n",
       "      <td>NaN</td>\n",
       "      <td>NaN</td>\n",
       "      <td>5</td>\n",
       "      <td>64.162415</td>\n",
       "      <td>55.873836</td>\n",
       "      <td>-64.771039</td>\n",
       "    </tr>\n",
       "    <tr>\n",
       "      <th>4</th>\n",
       "      <td>1</td>\n",
       "      <td>0</td>\n",
       "      <td>55.329647</td>\n",
       "      <td>71.707275</td>\n",
       "      <td>-63.688956</td>\n",
       "      <td>36.561863</td>\n",
       "      <td>81.868749</td>\n",
       "      <td>-52.752784</td>\n",
       "      <td>86.320630</td>\n",
       "      <td>68.214645</td>\n",
       "      <td>...</td>\n",
       "      <td>NaN</td>\n",
       "      <td>NaN</td>\n",
       "      <td>NaN</td>\n",
       "      <td>NaN</td>\n",
       "      <td>NaN</td>\n",
       "      <td>NaN</td>\n",
       "      <td>5</td>\n",
       "      <td>63.439104</td>\n",
       "      <td>55.151830</td>\n",
       "      <td>-65.928355</td>\n",
       "    </tr>\n",
       "    <tr>\n",
       "      <th>5</th>\n",
       "      <td>1</td>\n",
       "      <td>0</td>\n",
       "      <td>55.142401</td>\n",
       "      <td>71.435607</td>\n",
       "      <td>-64.177303</td>\n",
       "      <td>36.175818</td>\n",
       "      <td>81.556874</td>\n",
       "      <td>-53.475747</td>\n",
       "      <td>76.986143</td>\n",
       "      <td>42.426849</td>\n",
       "      <td>...</td>\n",
       "      <td>NaN</td>\n",
       "      <td>NaN</td>\n",
       "      <td>NaN</td>\n",
       "      <td>NaN</td>\n",
       "      <td>NaN</td>\n",
       "      <td>NaN</td>\n",
       "      <td>5</td>\n",
       "      <td>63.189702</td>\n",
       "      <td>54.832340</td>\n",
       "      <td>-66.390470</td>\n",
       "    </tr>\n",
       "  </tbody>\n",
       "</table>\n",
       "<p>5 rows × 42 columns</p>\n",
       "</div>"
      ],
      "text/plain": [
       "   Class  User         X0         Y0         Z0         X1         Y1  \\\n",
       "1      1     0  54.263880  71.466776 -64.807709  76.895635  42.462500   \n",
       "2      1     0  56.527558  72.266609 -61.935252  39.135978  82.538530   \n",
       "3      1     0  55.849928  72.469064 -62.562788  37.988804  82.631347   \n",
       "4      1     0  55.329647  71.707275 -63.688956  36.561863  81.868749   \n",
       "5      1     0  55.142401  71.435607 -64.177303  36.175818  81.556874   \n",
       "\n",
       "          Z1         X2         Y2    ...      X10  Y10  Z10  X11  Y11  Z11  \\\n",
       "1 -72.780545  36.621229  81.680557    ...      NaN  NaN  NaN  NaN  NaN  NaN   \n",
       "2 -49.596509  79.223743  43.254091    ...      NaN  NaN  NaN  NaN  NaN  NaN   \n",
       "3 -50.606259  78.451526  43.567403    ...      NaN  NaN  NaN  NaN  NaN  NaN   \n",
       "4 -52.752784  86.320630  68.214645    ...      NaN  NaN  NaN  NaN  NaN  NaN   \n",
       "5 -53.475747  76.986143  42.426849    ...      NaN  NaN  NaN  NaN  NaN  NaN   \n",
       "\n",
       "   num_mark     x_mean     y_mean     z_mean  \n",
       "1         5  62.440317  54.807598 -67.097888  \n",
       "2         5  64.785121  55.647991 -64.209132  \n",
       "3         5  64.162415  55.873836 -64.771039  \n",
       "4         5  63.439104  55.151830 -65.928355  \n",
       "5         5  63.189702  54.832340 -66.390470  \n",
       "\n",
       "[5 rows x 42 columns]"
      ]
     },
     "execution_count": 8,
     "metadata": {},
     "output_type": "execute_result"
    }
   ],
   "source": [
    "# 2) Mean in each dimension\n",
    "\n",
    "# Mean of X coordinates\n",
    "\n",
    "\n",
    "x_col = ['X0', 'X1', 'X2', 'X3', 'X4', 'X5', 'X6', 'X7', 'X8', 'X9', 'X10', 'X11']\n",
    "df_x = mydata[x_col]\n",
    "x_mean = df_x.apply(np.nanmean, axis=1)\n",
    "mydata['x_mean'] = x_mean\n",
    "\n",
    "# Mean of Y coordinates\n",
    "\n",
    "\n",
    "y_col = ['Y0', 'Y1', 'Y2', 'Y3', 'Y4', 'Y5', 'Y6', 'Y7', 'Y8', 'Y9', 'Y10', 'Y11']\n",
    "df_y = mydata[y_col]\n",
    "y_mean = df_y.apply(np.nanmean, axis=1)\n",
    "mydata['y_mean'] = y_mean\n",
    "\n",
    "# Mean of Z coordinates\n",
    "\n",
    "\n",
    "z_col = ['Z0', 'Z1', 'Z2', 'Z3', 'Z4', 'Z5', 'Z6', 'Z7', 'Z8', 'Z9', 'Z10', 'Z11']\n",
    "df_z = mydata[z_col]\n",
    "z_mean = df_z.apply(np.nanmean, axis=1)\n",
    "mydata['z_mean'] = z_mean\n",
    "\n",
    "mydata.head()"
   ]
  },
  {
   "cell_type": "code",
   "execution_count": 11,
   "metadata": {},
   "outputs": [
    {
     "name": "stderr",
     "output_type": "stream",
     "text": [
      "/Users/zexi_ye/anaconda3/lib/python3.6/site-packages/ipykernel_launcher.py:6: SettingWithCopyWarning: \n",
      "A value is trying to be set on a copy of a slice from a DataFrame.\n",
      "Try using .loc[row_indexer,col_indexer] = value instead\n",
      "\n",
      "See the caveats in the documentation: http://pandas.pydata.org/pandas-docs/stable/indexing.html#indexing-view-versus-copy\n",
      "  \n",
      "/Users/zexi_ye/anaconda3/lib/python3.6/site-packages/ipykernel_launcher.py:11: SettingWithCopyWarning: \n",
      "A value is trying to be set on a copy of a slice from a DataFrame.\n",
      "Try using .loc[row_indexer,col_indexer] = value instead\n",
      "\n",
      "See the caveats in the documentation: http://pandas.pydata.org/pandas-docs/stable/indexing.html#indexing-view-versus-copy\n",
      "  # This is added back by InteractiveShellApp.init_path()\n",
      "/Users/zexi_ye/anaconda3/lib/python3.6/site-packages/ipykernel_launcher.py:16: SettingWithCopyWarning: \n",
      "A value is trying to be set on a copy of a slice from a DataFrame.\n",
      "Try using .loc[row_indexer,col_indexer] = value instead\n",
      "\n",
      "See the caveats in the documentation: http://pandas.pydata.org/pandas-docs/stable/indexing.html#indexing-view-versus-copy\n",
      "  app.launch_new_instance()\n"
     ]
    },
    {
     "data": {
      "text/html": [
       "<div>\n",
       "<style scoped>\n",
       "    .dataframe tbody tr th:only-of-type {\n",
       "        vertical-align: middle;\n",
       "    }\n",
       "\n",
       "    .dataframe tbody tr th {\n",
       "        vertical-align: top;\n",
       "    }\n",
       "\n",
       "    .dataframe thead th {\n",
       "        text-align: right;\n",
       "    }\n",
       "</style>\n",
       "<table border=\"1\" class=\"dataframe\">\n",
       "  <thead>\n",
       "    <tr style=\"text-align: right;\">\n",
       "      <th></th>\n",
       "      <th>Class</th>\n",
       "      <th>User</th>\n",
       "      <th>X0</th>\n",
       "      <th>Y0</th>\n",
       "      <th>Z0</th>\n",
       "      <th>X1</th>\n",
       "      <th>Y1</th>\n",
       "      <th>Z1</th>\n",
       "      <th>X2</th>\n",
       "      <th>Y2</th>\n",
       "      <th>...</th>\n",
       "      <th>X11</th>\n",
       "      <th>Y11</th>\n",
       "      <th>Z11</th>\n",
       "      <th>num_mark</th>\n",
       "      <th>x_mean</th>\n",
       "      <th>y_mean</th>\n",
       "      <th>z_mean</th>\n",
       "      <th>x_var</th>\n",
       "      <th>y_var</th>\n",
       "      <th>z_var</th>\n",
       "    </tr>\n",
       "  </thead>\n",
       "  <tbody>\n",
       "    <tr>\n",
       "      <th>1</th>\n",
       "      <td>1</td>\n",
       "      <td>0</td>\n",
       "      <td>54.263880</td>\n",
       "      <td>71.466776</td>\n",
       "      <td>-64.807709</td>\n",
       "      <td>76.895635</td>\n",
       "      <td>42.462500</td>\n",
       "      <td>-72.780545</td>\n",
       "      <td>36.621229</td>\n",
       "      <td>81.680557</td>\n",
       "      <td>...</td>\n",
       "      <td>NaN</td>\n",
       "      <td>NaN</td>\n",
       "      <td>NaN</td>\n",
       "      <td>5</td>\n",
       "      <td>62.440317</td>\n",
       "      <td>54.807598</td>\n",
       "      <td>-67.097888</td>\n",
       "      <td>368.120574</td>\n",
       "      <td>816.727481</td>\n",
       "      <td>74.897086</td>\n",
       "    </tr>\n",
       "    <tr>\n",
       "      <th>2</th>\n",
       "      <td>1</td>\n",
       "      <td>0</td>\n",
       "      <td>56.527558</td>\n",
       "      <td>72.266609</td>\n",
       "      <td>-61.935252</td>\n",
       "      <td>39.135978</td>\n",
       "      <td>82.538530</td>\n",
       "      <td>-49.596509</td>\n",
       "      <td>79.223743</td>\n",
       "      <td>43.254091</td>\n",
       "      <td>...</td>\n",
       "      <td>NaN</td>\n",
       "      <td>NaN</td>\n",
       "      <td>NaN</td>\n",
       "      <td>5</td>\n",
       "      <td>64.785121</td>\n",
       "      <td>55.647991</td>\n",
       "      <td>-64.209132</td>\n",
       "      <td>364.625268</td>\n",
       "      <td>809.982596</td>\n",
       "      <td>78.885669</td>\n",
       "    </tr>\n",
       "    <tr>\n",
       "      <th>3</th>\n",
       "      <td>1</td>\n",
       "      <td>0</td>\n",
       "      <td>55.849928</td>\n",
       "      <td>72.469064</td>\n",
       "      <td>-62.562788</td>\n",
       "      <td>37.988804</td>\n",
       "      <td>82.631347</td>\n",
       "      <td>-50.606259</td>\n",
       "      <td>78.451526</td>\n",
       "      <td>43.567403</td>\n",
       "      <td>...</td>\n",
       "      <td>NaN</td>\n",
       "      <td>NaN</td>\n",
       "      <td>NaN</td>\n",
       "      <td>5</td>\n",
       "      <td>64.162415</td>\n",
       "      <td>55.873836</td>\n",
       "      <td>-64.771039</td>\n",
       "      <td>369.632067</td>\n",
       "      <td>813.945768</td>\n",
       "      <td>74.420553</td>\n",
       "    </tr>\n",
       "    <tr>\n",
       "      <th>4</th>\n",
       "      <td>1</td>\n",
       "      <td>0</td>\n",
       "      <td>55.329647</td>\n",
       "      <td>71.707275</td>\n",
       "      <td>-63.688956</td>\n",
       "      <td>36.561863</td>\n",
       "      <td>81.868749</td>\n",
       "      <td>-52.752784</td>\n",
       "      <td>86.320630</td>\n",
       "      <td>68.214645</td>\n",
       "      <td>...</td>\n",
       "      <td>NaN</td>\n",
       "      <td>NaN</td>\n",
       "      <td>NaN</td>\n",
       "      <td>5</td>\n",
       "      <td>63.439104</td>\n",
       "      <td>55.151830</td>\n",
       "      <td>-65.928355</td>\n",
       "      <td>377.415042</td>\n",
       "      <td>810.107918</td>\n",
       "      <td>66.130036</td>\n",
       "    </tr>\n",
       "    <tr>\n",
       "      <th>5</th>\n",
       "      <td>1</td>\n",
       "      <td>0</td>\n",
       "      <td>55.142401</td>\n",
       "      <td>71.435607</td>\n",
       "      <td>-64.177303</td>\n",
       "      <td>36.175818</td>\n",
       "      <td>81.556874</td>\n",
       "      <td>-53.475747</td>\n",
       "      <td>76.986143</td>\n",
       "      <td>42.426849</td>\n",
       "      <td>...</td>\n",
       "      <td>NaN</td>\n",
       "      <td>NaN</td>\n",
       "      <td>NaN</td>\n",
       "      <td>5</td>\n",
       "      <td>63.189702</td>\n",
       "      <td>54.832340</td>\n",
       "      <td>-66.390470</td>\n",
       "      <td>381.445880</td>\n",
       "      <td>812.447612</td>\n",
       "      <td>63.733840</td>\n",
       "    </tr>\n",
       "  </tbody>\n",
       "</table>\n",
       "<p>5 rows × 45 columns</p>\n",
       "</div>"
      ],
      "text/plain": [
       "   Class  User         X0         Y0         Z0         X1         Y1  \\\n",
       "1      1     0  54.263880  71.466776 -64.807709  76.895635  42.462500   \n",
       "2      1     0  56.527558  72.266609 -61.935252  39.135978  82.538530   \n",
       "3      1     0  55.849928  72.469064 -62.562788  37.988804  82.631347   \n",
       "4      1     0  55.329647  71.707275 -63.688956  36.561863  81.868749   \n",
       "5      1     0  55.142401  71.435607 -64.177303  36.175818  81.556874   \n",
       "\n",
       "          Z1         X2         Y2    ...      X11  Y11  Z11  num_mark  \\\n",
       "1 -72.780545  36.621229  81.680557    ...      NaN  NaN  NaN         5   \n",
       "2 -49.596509  79.223743  43.254091    ...      NaN  NaN  NaN         5   \n",
       "3 -50.606259  78.451526  43.567403    ...      NaN  NaN  NaN         5   \n",
       "4 -52.752784  86.320630  68.214645    ...      NaN  NaN  NaN         5   \n",
       "5 -53.475747  76.986143  42.426849    ...      NaN  NaN  NaN         5   \n",
       "\n",
       "      x_mean     y_mean     z_mean       x_var       y_var      z_var  \n",
       "1  62.440317  54.807598 -67.097888  368.120574  816.727481  74.897086  \n",
       "2  64.785121  55.647991 -64.209132  364.625268  809.982596  78.885669  \n",
       "3  64.162415  55.873836 -64.771039  369.632067  813.945768  74.420553  \n",
       "4  63.439104  55.151830 -65.928355  377.415042  810.107918  66.130036  \n",
       "5  63.189702  54.832340 -66.390470  381.445880  812.447612  63.733840  \n",
       "\n",
       "[5 rows x 45 columns]"
      ]
     },
     "execution_count": 11,
     "metadata": {},
     "output_type": "execute_result"
    }
   ],
   "source": [
    "# 3) Variance and Covariance\n",
    "\n",
    "# Variances of X\n",
    "\n",
    "x_var = df_x.apply(lambda t: np.nanvar(t, ddof=1), axis=1)\n",
    "mydata['x_var'] = x_var\n",
    "\n",
    "# Variances of Y\n",
    "\n",
    "y_var = df_y.apply(lambda t: np.nanvar(t, ddof=1), axis=1)\n",
    "mydata['y_var'] = y_var\n",
    "\n",
    "# Variances of Z\n",
    "\n",
    "z_var = df_z.apply(lambda t: np.nanvar(t, ddof=1), axis=1)\n",
    "mydata['z_var'] = z_var\n",
    "\n",
    "mydata.head()"
   ]
  },
  {
   "cell_type": "code",
   "execution_count": 14,
   "metadata": {},
   "outputs": [
    {
     "name": "stderr",
     "output_type": "stream",
     "text": [
      "/Users/zexi_ye/anaconda3/lib/python3.6/site-packages/ipykernel_launcher.py:18: SettingWithCopyWarning: \n",
      "A value is trying to be set on a copy of a slice from a DataFrame.\n",
      "Try using .loc[row_indexer,col_indexer] = value instead\n",
      "\n",
      "See the caveats in the documentation: http://pandas.pydata.org/pandas-docs/stable/indexing.html#indexing-view-versus-copy\n",
      "/Users/zexi_ye/anaconda3/lib/python3.6/site-packages/ipykernel_launcher.py:25: SettingWithCopyWarning: \n",
      "A value is trying to be set on a copy of a slice from a DataFrame.\n",
      "Try using .loc[row_indexer,col_indexer] = value instead\n",
      "\n",
      "See the caveats in the documentation: http://pandas.pydata.org/pandas-docs/stable/indexing.html#indexing-view-versus-copy\n",
      "/Users/zexi_ye/anaconda3/lib/python3.6/site-packages/ipykernel_launcher.py:32: SettingWithCopyWarning: \n",
      "A value is trying to be set on a copy of a slice from a DataFrame.\n",
      "Try using .loc[row_indexer,col_indexer] = value instead\n",
      "\n",
      "See the caveats in the documentation: http://pandas.pydata.org/pandas-docs/stable/indexing.html#indexing-view-versus-copy\n"
     ]
    }
   ],
   "source": [
    "# Define a function that computes the covariance between two variables\n",
    "\n",
    "def cov(x, y):\n",
    "    x2 = x.dropna()\n",
    "    y2 = y.dropna()\n",
    "    temp = 0\n",
    "    x2_mean = x2.mean()\n",
    "    y2_mean = y2.mean()\n",
    "    for i in range(x2.size):\n",
    "        temp += (x2.iloc[i] - x2_mean)*(y2.iloc[i] - y2_mean)\n",
    "    return temp / (x2.size - 1)\n",
    "        \n",
    "# Covariances between X and Y\n",
    "def xy_c(df):\n",
    "    return cov(df[x_col], df[y_col])\n",
    "\n",
    "xy_cov = mydata.apply(xy_c, axis=1)\n",
    "mydata['xy_cov'] = xy_cov\n",
    "\n",
    "# Covariances between X and Z\n",
    "def xz_c(df):\n",
    "    return cov(df[x_col], df[z_col])\n",
    "\n",
    "xz_cov = mydata.apply(xz_c, axis=1)\n",
    "mydata['xz_cov'] = xz_cov\n",
    "\n",
    "# Covariances between Y and Z\n",
    "def yz_c(df):\n",
    "    return cov(df[y_col], df[z_col])\n",
    "\n",
    "yz_cov = mydata.apply(yz_c, axis=1)\n",
    "mydata['yz_cov'] = yz_cov"
   ]
  },
  {
   "cell_type": "code",
   "execution_count": 8,
   "metadata": {},
   "outputs": [
    {
     "data": {
      "text/html": [
       "<div>\n",
       "<style scoped>\n",
       "    .dataframe tbody tr th:only-of-type {\n",
       "        vertical-align: middle;\n",
       "    }\n",
       "\n",
       "    .dataframe tbody tr th {\n",
       "        vertical-align: top;\n",
       "    }\n",
       "\n",
       "    .dataframe thead th {\n",
       "        text-align: right;\n",
       "    }\n",
       "</style>\n",
       "<table border=\"1\" class=\"dataframe\">\n",
       "  <thead>\n",
       "    <tr style=\"text-align: right;\">\n",
       "      <th></th>\n",
       "      <th>Class</th>\n",
       "      <th>User</th>\n",
       "      <th>X0</th>\n",
       "      <th>Y0</th>\n",
       "      <th>Z0</th>\n",
       "      <th>X1</th>\n",
       "      <th>Y1</th>\n",
       "      <th>Z1</th>\n",
       "      <th>X2</th>\n",
       "      <th>Y2</th>\n",
       "      <th>...</th>\n",
       "      <th>num_mark</th>\n",
       "      <th>x_mean</th>\n",
       "      <th>y_mean</th>\n",
       "      <th>z_mean</th>\n",
       "      <th>x_var</th>\n",
       "      <th>y_var</th>\n",
       "      <th>z_var</th>\n",
       "      <th>xy_cov</th>\n",
       "      <th>xz_cov</th>\n",
       "      <th>yz_cov</th>\n",
       "    </tr>\n",
       "  </thead>\n",
       "  <tbody>\n",
       "    <tr>\n",
       "      <th>1</th>\n",
       "      <td>1</td>\n",
       "      <td>0</td>\n",
       "      <td>54.263880</td>\n",
       "      <td>71.466776</td>\n",
       "      <td>-64.807709</td>\n",
       "      <td>76.895635</td>\n",
       "      <td>42.462500</td>\n",
       "      <td>-72.780545</td>\n",
       "      <td>36.621229</td>\n",
       "      <td>81.680557</td>\n",
       "      <td>...</td>\n",
       "      <td>5</td>\n",
       "      <td>62.440317</td>\n",
       "      <td>54.807598</td>\n",
       "      <td>-67.097888</td>\n",
       "      <td>368.120574</td>\n",
       "      <td>816.727481</td>\n",
       "      <td>74.897086</td>\n",
       "      <td>-142.510146</td>\n",
       "      <td>-150.851339</td>\n",
       "      <td>147.356460</td>\n",
       "    </tr>\n",
       "    <tr>\n",
       "      <th>2</th>\n",
       "      <td>1</td>\n",
       "      <td>0</td>\n",
       "      <td>56.527558</td>\n",
       "      <td>72.266609</td>\n",
       "      <td>-61.935252</td>\n",
       "      <td>39.135978</td>\n",
       "      <td>82.538530</td>\n",
       "      <td>-49.596509</td>\n",
       "      <td>79.223743</td>\n",
       "      <td>43.254091</td>\n",
       "      <td>...</td>\n",
       "      <td>5</td>\n",
       "      <td>64.785121</td>\n",
       "      <td>55.647991</td>\n",
       "      <td>-64.209132</td>\n",
       "      <td>364.625268</td>\n",
       "      <td>809.982596</td>\n",
       "      <td>78.885669</td>\n",
       "      <td>-144.142900</td>\n",
       "      <td>-152.345094</td>\n",
       "      <td>155.512996</td>\n",
       "    </tr>\n",
       "    <tr>\n",
       "      <th>3</th>\n",
       "      <td>1</td>\n",
       "      <td>0</td>\n",
       "      <td>55.849928</td>\n",
       "      <td>72.469064</td>\n",
       "      <td>-62.562788</td>\n",
       "      <td>37.988804</td>\n",
       "      <td>82.631347</td>\n",
       "      <td>-50.606259</td>\n",
       "      <td>78.451526</td>\n",
       "      <td>43.567403</td>\n",
       "      <td>...</td>\n",
       "      <td>5</td>\n",
       "      <td>64.162415</td>\n",
       "      <td>55.873836</td>\n",
       "      <td>-64.771039</td>\n",
       "      <td>369.632067</td>\n",
       "      <td>813.945768</td>\n",
       "      <td>74.420553</td>\n",
       "      <td>-152.368059</td>\n",
       "      <td>-151.848714</td>\n",
       "      <td>146.664366</td>\n",
       "    </tr>\n",
       "    <tr>\n",
       "      <th>4</th>\n",
       "      <td>1</td>\n",
       "      <td>0</td>\n",
       "      <td>55.329647</td>\n",
       "      <td>71.707275</td>\n",
       "      <td>-63.688956</td>\n",
       "      <td>36.561863</td>\n",
       "      <td>81.868749</td>\n",
       "      <td>-52.752784</td>\n",
       "      <td>86.320630</td>\n",
       "      <td>68.214645</td>\n",
       "      <td>...</td>\n",
       "      <td>5</td>\n",
       "      <td>63.439104</td>\n",
       "      <td>55.151830</td>\n",
       "      <td>-65.928355</td>\n",
       "      <td>377.415042</td>\n",
       "      <td>810.107918</td>\n",
       "      <td>66.130036</td>\n",
       "      <td>-161.489736</td>\n",
       "      <td>-148.939518</td>\n",
       "      <td>128.851696</td>\n",
       "    </tr>\n",
       "    <tr>\n",
       "      <th>5</th>\n",
       "      <td>1</td>\n",
       "      <td>0</td>\n",
       "      <td>55.142401</td>\n",
       "      <td>71.435607</td>\n",
       "      <td>-64.177303</td>\n",
       "      <td>36.175818</td>\n",
       "      <td>81.556874</td>\n",
       "      <td>-53.475747</td>\n",
       "      <td>76.986143</td>\n",
       "      <td>42.426849</td>\n",
       "      <td>...</td>\n",
       "      <td>5</td>\n",
       "      <td>63.189702</td>\n",
       "      <td>54.832340</td>\n",
       "      <td>-66.390470</td>\n",
       "      <td>381.445880</td>\n",
       "      <td>812.447612</td>\n",
       "      <td>63.733840</td>\n",
       "      <td>-159.889770</td>\n",
       "      <td>-146.701673</td>\n",
       "      <td>126.648243</td>\n",
       "    </tr>\n",
       "  </tbody>\n",
       "</table>\n",
       "<p>5 rows × 48 columns</p>\n",
       "</div>"
      ],
      "text/plain": [
       "   Class  User         X0         Y0         Z0         X1         Y1  \\\n",
       "1      1     0  54.263880  71.466776 -64.807709  76.895635  42.462500   \n",
       "2      1     0  56.527558  72.266609 -61.935252  39.135978  82.538530   \n",
       "3      1     0  55.849928  72.469064 -62.562788  37.988804  82.631347   \n",
       "4      1     0  55.329647  71.707275 -63.688956  36.561863  81.868749   \n",
       "5      1     0  55.142401  71.435607 -64.177303  36.175818  81.556874   \n",
       "\n",
       "          Z1         X2         Y2     ...      num_mark     x_mean  \\\n",
       "1 -72.780545  36.621229  81.680557     ...             5  62.440317   \n",
       "2 -49.596509  79.223743  43.254091     ...             5  64.785121   \n",
       "3 -50.606259  78.451526  43.567403     ...             5  64.162415   \n",
       "4 -52.752784  86.320630  68.214645     ...             5  63.439104   \n",
       "5 -53.475747  76.986143  42.426849     ...             5  63.189702   \n",
       "\n",
       "      y_mean     z_mean       x_var       y_var      z_var      xy_cov  \\\n",
       "1  54.807598 -67.097888  368.120574  816.727481  74.897086 -142.510146   \n",
       "2  55.647991 -64.209132  364.625268  809.982596  78.885669 -144.142900   \n",
       "3  55.873836 -64.771039  369.632067  813.945768  74.420553 -152.368059   \n",
       "4  55.151830 -65.928355  377.415042  810.107918  66.130036 -161.489736   \n",
       "5  54.832340 -66.390470  381.445880  812.447612  63.733840 -159.889770   \n",
       "\n",
       "       xz_cov      yz_cov  \n",
       "1 -150.851339  147.356460  \n",
       "2 -152.345094  155.512996  \n",
       "3 -151.848714  146.664366  \n",
       "4 -148.939518  128.851696  \n",
       "5 -146.701673  126.648243  \n",
       "\n",
       "[5 rows x 48 columns]"
      ]
     },
     "execution_count": 8,
     "metadata": {},
     "output_type": "execute_result"
    }
   ],
   "source": [
    "mydata.head()"
   ]
  },
  {
   "cell_type": "code",
   "execution_count": 16,
   "metadata": {},
   "outputs": [
    {
     "name": "stderr",
     "output_type": "stream",
     "text": [
      "/Users/zexi_ye/anaconda3/lib/python3.6/site-packages/ipykernel_launcher.py:2: SettingWithCopyWarning: \n",
      "A value is trying to be set on a copy of a slice from a DataFrame.\n",
      "Try using .loc[row_indexer,col_indexer] = value instead\n",
      "\n",
      "See the caveats in the documentation: http://pandas.pydata.org/pandas-docs/stable/indexing.html#indexing-view-versus-copy\n",
      "  \n"
     ]
    }
   ],
   "source": [
    "x_dim = df_x.apply(lambda t: t.max() - t.min(), axis=1)\n",
    "mydata['x_dim'] = x_dim\n"
   ]
  },
  {
   "cell_type": "code",
   "execution_count": 17,
   "metadata": {},
   "outputs": [
    {
     "data": {
      "text/html": [
       "<div>\n",
       "<style scoped>\n",
       "    .dataframe tbody tr th:only-of-type {\n",
       "        vertical-align: middle;\n",
       "    }\n",
       "\n",
       "    .dataframe tbody tr th {\n",
       "        vertical-align: top;\n",
       "    }\n",
       "\n",
       "    .dataframe thead th {\n",
       "        text-align: right;\n",
       "    }\n",
       "</style>\n",
       "<table border=\"1\" class=\"dataframe\">\n",
       "  <thead>\n",
       "    <tr style=\"text-align: right;\">\n",
       "      <th></th>\n",
       "      <th>Class</th>\n",
       "      <th>User</th>\n",
       "      <th>X0</th>\n",
       "      <th>Y0</th>\n",
       "      <th>Z0</th>\n",
       "      <th>X1</th>\n",
       "      <th>Y1</th>\n",
       "      <th>Z1</th>\n",
       "      <th>X2</th>\n",
       "      <th>Y2</th>\n",
       "      <th>...</th>\n",
       "      <th>x_mean</th>\n",
       "      <th>y_mean</th>\n",
       "      <th>z_mean</th>\n",
       "      <th>x_var</th>\n",
       "      <th>y_var</th>\n",
       "      <th>z_var</th>\n",
       "      <th>xy_cov</th>\n",
       "      <th>xz_cov</th>\n",
       "      <th>yz_cov</th>\n",
       "      <th>x_dim</th>\n",
       "    </tr>\n",
       "  </thead>\n",
       "  <tbody>\n",
       "    <tr>\n",
       "      <th>1</th>\n",
       "      <td>1</td>\n",
       "      <td>0</td>\n",
       "      <td>54.263880</td>\n",
       "      <td>71.466776</td>\n",
       "      <td>-64.807709</td>\n",
       "      <td>76.895635</td>\n",
       "      <td>42.462500</td>\n",
       "      <td>-72.780545</td>\n",
       "      <td>36.621229</td>\n",
       "      <td>81.680557</td>\n",
       "      <td>...</td>\n",
       "      <td>62.440317</td>\n",
       "      <td>54.807598</td>\n",
       "      <td>-67.097888</td>\n",
       "      <td>368.120574</td>\n",
       "      <td>816.727481</td>\n",
       "      <td>74.897086</td>\n",
       "      <td>-142.510146</td>\n",
       "      <td>-150.851339</td>\n",
       "      <td>147.356460</td>\n",
       "      <td>48.611035</td>\n",
       "    </tr>\n",
       "    <tr>\n",
       "      <th>2</th>\n",
       "      <td>1</td>\n",
       "      <td>0</td>\n",
       "      <td>56.527558</td>\n",
       "      <td>72.266609</td>\n",
       "      <td>-61.935252</td>\n",
       "      <td>39.135978</td>\n",
       "      <td>82.538530</td>\n",
       "      <td>-49.596509</td>\n",
       "      <td>79.223743</td>\n",
       "      <td>43.254091</td>\n",
       "      <td>...</td>\n",
       "      <td>64.785121</td>\n",
       "      <td>55.647991</td>\n",
       "      <td>-64.209132</td>\n",
       "      <td>364.625268</td>\n",
       "      <td>809.982596</td>\n",
       "      <td>78.885669</td>\n",
       "      <td>-144.142900</td>\n",
       "      <td>-152.345094</td>\n",
       "      <td>155.512996</td>\n",
       "      <td>48.314895</td>\n",
       "    </tr>\n",
       "    <tr>\n",
       "      <th>3</th>\n",
       "      <td>1</td>\n",
       "      <td>0</td>\n",
       "      <td>55.849928</td>\n",
       "      <td>72.469064</td>\n",
       "      <td>-62.562788</td>\n",
       "      <td>37.988804</td>\n",
       "      <td>82.631347</td>\n",
       "      <td>-50.606259</td>\n",
       "      <td>78.451526</td>\n",
       "      <td>43.567403</td>\n",
       "      <td>...</td>\n",
       "      <td>64.162415</td>\n",
       "      <td>55.873836</td>\n",
       "      <td>-64.771039</td>\n",
       "      <td>369.632067</td>\n",
       "      <td>813.945768</td>\n",
       "      <td>74.420553</td>\n",
       "      <td>-152.368059</td>\n",
       "      <td>-151.848714</td>\n",
       "      <td>146.664366</td>\n",
       "      <td>48.846584</td>\n",
       "    </tr>\n",
       "    <tr>\n",
       "      <th>4</th>\n",
       "      <td>1</td>\n",
       "      <td>0</td>\n",
       "      <td>55.329647</td>\n",
       "      <td>71.707275</td>\n",
       "      <td>-63.688956</td>\n",
       "      <td>36.561863</td>\n",
       "      <td>81.868749</td>\n",
       "      <td>-52.752784</td>\n",
       "      <td>86.320630</td>\n",
       "      <td>68.214645</td>\n",
       "      <td>...</td>\n",
       "      <td>63.439104</td>\n",
       "      <td>55.151830</td>\n",
       "      <td>-65.928355</td>\n",
       "      <td>377.415042</td>\n",
       "      <td>810.107918</td>\n",
       "      <td>66.130036</td>\n",
       "      <td>-161.489736</td>\n",
       "      <td>-148.939518</td>\n",
       "      <td>128.851696</td>\n",
       "      <td>49.758767</td>\n",
       "    </tr>\n",
       "    <tr>\n",
       "      <th>5</th>\n",
       "      <td>1</td>\n",
       "      <td>0</td>\n",
       "      <td>55.142401</td>\n",
       "      <td>71.435607</td>\n",
       "      <td>-64.177303</td>\n",
       "      <td>36.175818</td>\n",
       "      <td>81.556874</td>\n",
       "      <td>-53.475747</td>\n",
       "      <td>76.986143</td>\n",
       "      <td>42.426849</td>\n",
       "      <td>...</td>\n",
       "      <td>63.189702</td>\n",
       "      <td>54.832340</td>\n",
       "      <td>-66.390470</td>\n",
       "      <td>381.445880</td>\n",
       "      <td>812.447612</td>\n",
       "      <td>63.733840</td>\n",
       "      <td>-159.889770</td>\n",
       "      <td>-146.701673</td>\n",
       "      <td>126.648243</td>\n",
       "      <td>50.192930</td>\n",
       "    </tr>\n",
       "  </tbody>\n",
       "</table>\n",
       "<p>5 rows × 49 columns</p>\n",
       "</div>"
      ],
      "text/plain": [
       "   Class  User         X0         Y0         Z0         X1         Y1  \\\n",
       "1      1     0  54.263880  71.466776 -64.807709  76.895635  42.462500   \n",
       "2      1     0  56.527558  72.266609 -61.935252  39.135978  82.538530   \n",
       "3      1     0  55.849928  72.469064 -62.562788  37.988804  82.631347   \n",
       "4      1     0  55.329647  71.707275 -63.688956  36.561863  81.868749   \n",
       "5      1     0  55.142401  71.435607 -64.177303  36.175818  81.556874   \n",
       "\n",
       "          Z1         X2         Y2    ...         x_mean     y_mean  \\\n",
       "1 -72.780545  36.621229  81.680557    ...      62.440317  54.807598   \n",
       "2 -49.596509  79.223743  43.254091    ...      64.785121  55.647991   \n",
       "3 -50.606259  78.451526  43.567403    ...      64.162415  55.873836   \n",
       "4 -52.752784  86.320630  68.214645    ...      63.439104  55.151830   \n",
       "5 -53.475747  76.986143  42.426849    ...      63.189702  54.832340   \n",
       "\n",
       "      z_mean       x_var       y_var      z_var      xy_cov      xz_cov  \\\n",
       "1 -67.097888  368.120574  816.727481  74.897086 -142.510146 -150.851339   \n",
       "2 -64.209132  364.625268  809.982596  78.885669 -144.142900 -152.345094   \n",
       "3 -64.771039  369.632067  813.945768  74.420553 -152.368059 -151.848714   \n",
       "4 -65.928355  377.415042  810.107918  66.130036 -161.489736 -148.939518   \n",
       "5 -66.390470  381.445880  812.447612  63.733840 -159.889770 -146.701673   \n",
       "\n",
       "       yz_cov      x_dim  \n",
       "1  147.356460  48.611035  \n",
       "2  155.512996  48.314895  \n",
       "3  146.664366  48.846584  \n",
       "4  128.851696  49.758767  \n",
       "5  126.648243  50.192930  \n",
       "\n",
       "[5 rows x 49 columns]"
      ]
     },
     "execution_count": 17,
     "metadata": {},
     "output_type": "execute_result"
    }
   ],
   "source": [
    "mydata.head()"
   ]
  },
  {
   "cell_type": "code",
   "execution_count": 18,
   "metadata": {},
   "outputs": [
    {
     "name": "stderr",
     "output_type": "stream",
     "text": [
      "/Users/zexi_ye/anaconda3/lib/python3.6/site-packages/ipykernel_launcher.py:8: SettingWithCopyWarning: \n",
      "A value is trying to be set on a copy of a slice from a DataFrame.\n",
      "Try using .loc[row_indexer,col_indexer] = value instead\n",
      "\n",
      "See the caveats in the documentation: http://pandas.pydata.org/pandas-docs/stable/indexing.html#indexing-view-versus-copy\n",
      "  \n",
      "/Users/zexi_ye/anaconda3/lib/python3.6/site-packages/ipykernel_launcher.py:13: SettingWithCopyWarning: \n",
      "A value is trying to be set on a copy of a slice from a DataFrame.\n",
      "Try using .loc[row_indexer,col_indexer] = value instead\n",
      "\n",
      "See the caveats in the documentation: http://pandas.pydata.org/pandas-docs/stable/indexing.html#indexing-view-versus-copy\n",
      "  del sys.path[0]\n",
      "/Users/zexi_ye/anaconda3/lib/python3.6/site-packages/ipykernel_launcher.py:18: SettingWithCopyWarning: \n",
      "A value is trying to be set on a copy of a slice from a DataFrame.\n",
      "Try using .loc[row_indexer,col_indexer] = value instead\n",
      "\n",
      "See the caveats in the documentation: http://pandas.pydata.org/pandas-docs/stable/indexing.html#indexing-view-versus-copy\n"
     ]
    },
    {
     "data": {
      "text/html": [
       "<div>\n",
       "<style scoped>\n",
       "    .dataframe tbody tr th:only-of-type {\n",
       "        vertical-align: middle;\n",
       "    }\n",
       "\n",
       "    .dataframe tbody tr th {\n",
       "        vertical-align: top;\n",
       "    }\n",
       "\n",
       "    .dataframe thead th {\n",
       "        text-align: right;\n",
       "    }\n",
       "</style>\n",
       "<table border=\"1\" class=\"dataframe\">\n",
       "  <thead>\n",
       "    <tr style=\"text-align: right;\">\n",
       "      <th></th>\n",
       "      <th>Class</th>\n",
       "      <th>User</th>\n",
       "      <th>X0</th>\n",
       "      <th>Y0</th>\n",
       "      <th>Z0</th>\n",
       "      <th>X1</th>\n",
       "      <th>Y1</th>\n",
       "      <th>Z1</th>\n",
       "      <th>X2</th>\n",
       "      <th>Y2</th>\n",
       "      <th>...</th>\n",
       "      <th>z_mean</th>\n",
       "      <th>x_var</th>\n",
       "      <th>y_var</th>\n",
       "      <th>z_var</th>\n",
       "      <th>xy_cov</th>\n",
       "      <th>xz_cov</th>\n",
       "      <th>yz_cov</th>\n",
       "      <th>x_dim</th>\n",
       "      <th>y_dim</th>\n",
       "      <th>z_dim</th>\n",
       "    </tr>\n",
       "  </thead>\n",
       "  <tbody>\n",
       "    <tr>\n",
       "      <th>1</th>\n",
       "      <td>1</td>\n",
       "      <td>0</td>\n",
       "      <td>54.263880</td>\n",
       "      <td>71.466776</td>\n",
       "      <td>-64.807709</td>\n",
       "      <td>76.895635</td>\n",
       "      <td>42.462500</td>\n",
       "      <td>-72.780545</td>\n",
       "      <td>36.621229</td>\n",
       "      <td>81.680557</td>\n",
       "      <td>...</td>\n",
       "      <td>-67.097888</td>\n",
       "      <td>368.120574</td>\n",
       "      <td>816.727481</td>\n",
       "      <td>74.897086</td>\n",
       "      <td>-142.510146</td>\n",
       "      <td>-150.851339</td>\n",
       "      <td>147.356460</td>\n",
       "      <td>48.611035</td>\n",
       "      <td>71.001621</td>\n",
       "      <td>20.764858</td>\n",
       "    </tr>\n",
       "    <tr>\n",
       "      <th>2</th>\n",
       "      <td>1</td>\n",
       "      <td>0</td>\n",
       "      <td>56.527558</td>\n",
       "      <td>72.266609</td>\n",
       "      <td>-61.935252</td>\n",
       "      <td>39.135978</td>\n",
       "      <td>82.538530</td>\n",
       "      <td>-49.596509</td>\n",
       "      <td>79.223743</td>\n",
       "      <td>43.254091</td>\n",
       "      <td>...</td>\n",
       "      <td>-64.209132</td>\n",
       "      <td>364.625268</td>\n",
       "      <td>809.982596</td>\n",
       "      <td>78.885669</td>\n",
       "      <td>-144.142900</td>\n",
       "      <td>-152.345094</td>\n",
       "      <td>155.512996</td>\n",
       "      <td>48.314895</td>\n",
       "      <td>70.758611</td>\n",
       "      <td>21.107482</td>\n",
       "    </tr>\n",
       "    <tr>\n",
       "      <th>3</th>\n",
       "      <td>1</td>\n",
       "      <td>0</td>\n",
       "      <td>55.849928</td>\n",
       "      <td>72.469064</td>\n",
       "      <td>-62.562788</td>\n",
       "      <td>37.988804</td>\n",
       "      <td>82.631347</td>\n",
       "      <td>-50.606259</td>\n",
       "      <td>78.451526</td>\n",
       "      <td>43.567403</td>\n",
       "      <td>...</td>\n",
       "      <td>-64.771039</td>\n",
       "      <td>369.632067</td>\n",
       "      <td>813.945768</td>\n",
       "      <td>74.420553</td>\n",
       "      <td>-152.368059</td>\n",
       "      <td>-151.848714</td>\n",
       "      <td>146.664366</td>\n",
       "      <td>48.846584</td>\n",
       "      <td>70.837907</td>\n",
       "      <td>20.532085</td>\n",
       "    </tr>\n",
       "    <tr>\n",
       "      <th>4</th>\n",
       "      <td>1</td>\n",
       "      <td>0</td>\n",
       "      <td>55.329647</td>\n",
       "      <td>71.707275</td>\n",
       "      <td>-63.688956</td>\n",
       "      <td>36.561863</td>\n",
       "      <td>81.868749</td>\n",
       "      <td>-52.752784</td>\n",
       "      <td>86.320630</td>\n",
       "      <td>68.214645</td>\n",
       "      <td>...</td>\n",
       "      <td>-65.928355</td>\n",
       "      <td>377.415042</td>\n",
       "      <td>810.107918</td>\n",
       "      <td>66.130036</td>\n",
       "      <td>-161.489736</td>\n",
       "      <td>-148.939518</td>\n",
       "      <td>128.851696</td>\n",
       "      <td>49.758767</td>\n",
       "      <td>70.618101</td>\n",
       "      <td>19.475677</td>\n",
       "    </tr>\n",
       "    <tr>\n",
       "      <th>5</th>\n",
       "      <td>1</td>\n",
       "      <td>0</td>\n",
       "      <td>55.142401</td>\n",
       "      <td>71.435607</td>\n",
       "      <td>-64.177303</td>\n",
       "      <td>36.175818</td>\n",
       "      <td>81.556874</td>\n",
       "      <td>-53.475747</td>\n",
       "      <td>76.986143</td>\n",
       "      <td>42.426849</td>\n",
       "      <td>...</td>\n",
       "      <td>-66.390470</td>\n",
       "      <td>381.445880</td>\n",
       "      <td>812.447612</td>\n",
       "      <td>63.733840</td>\n",
       "      <td>-159.889770</td>\n",
       "      <td>-146.701673</td>\n",
       "      <td>126.648243</td>\n",
       "      <td>50.192930</td>\n",
       "      <td>70.715764</td>\n",
       "      <td>19.098996</td>\n",
       "    </tr>\n",
       "  </tbody>\n",
       "</table>\n",
       "<p>5 rows × 51 columns</p>\n",
       "</div>"
      ],
      "text/plain": [
       "   Class  User         X0         Y0         Z0         X1         Y1  \\\n",
       "1      1     0  54.263880  71.466776 -64.807709  76.895635  42.462500   \n",
       "2      1     0  56.527558  72.266609 -61.935252  39.135978  82.538530   \n",
       "3      1     0  55.849928  72.469064 -62.562788  37.988804  82.631347   \n",
       "4      1     0  55.329647  71.707275 -63.688956  36.561863  81.868749   \n",
       "5      1     0  55.142401  71.435607 -64.177303  36.175818  81.556874   \n",
       "\n",
       "          Z1         X2         Y2    ...         z_mean       x_var  \\\n",
       "1 -72.780545  36.621229  81.680557    ...     -67.097888  368.120574   \n",
       "2 -49.596509  79.223743  43.254091    ...     -64.209132  364.625268   \n",
       "3 -50.606259  78.451526  43.567403    ...     -64.771039  369.632067   \n",
       "4 -52.752784  86.320630  68.214645    ...     -65.928355  377.415042   \n",
       "5 -53.475747  76.986143  42.426849    ...     -66.390470  381.445880   \n",
       "\n",
       "        y_var      z_var      xy_cov      xz_cov      yz_cov      x_dim  \\\n",
       "1  816.727481  74.897086 -142.510146 -150.851339  147.356460  48.611035   \n",
       "2  809.982596  78.885669 -144.142900 -152.345094  155.512996  48.314895   \n",
       "3  813.945768  74.420553 -152.368059 -151.848714  146.664366  48.846584   \n",
       "4  810.107918  66.130036 -161.489736 -148.939518  128.851696  49.758767   \n",
       "5  812.447612  63.733840 -159.889770 -146.701673  126.648243  50.192930   \n",
       "\n",
       "       y_dim      z_dim  \n",
       "1  71.001621  20.764858  \n",
       "2  70.758611  21.107482  \n",
       "3  70.837907  20.532085  \n",
       "4  70.618101  19.475677  \n",
       "5  70.715764  19.098996  \n",
       "\n",
       "[5 rows x 51 columns]"
      ]
     },
     "execution_count": 18,
     "metadata": {},
     "output_type": "execute_result"
    }
   ],
   "source": [
    "# 4) Dimension of the bounding box\n",
    "\n",
    "# The length of each dimension is defined by the distance between the two furthest points on the specified axis.\n",
    "\n",
    "# X Dimension\n",
    "\n",
    "x_dim = df_x.apply(lambda t: t.max() - t.min(), axis=1)\n",
    "mydata['x_dim'] = x_dim\n",
    "\n",
    "# Y Dimension\n",
    "\n",
    "y_dim = df_y.apply(lambda t: t.max() - t.min(), axis=1)\n",
    "mydata['y_dim'] = y_dim\n",
    "\n",
    "# Z Dimension\n",
    "\n",
    "z_dim = df_z.apply(lambda t: t.max() - t.min(), axis=1)\n",
    "mydata['z_dim'] = z_dim\n",
    "\n",
    "mydata.head()"
   ]
  },
  {
   "cell_type": "markdown",
   "metadata": {},
   "source": [
    "Now we create a separate data frame specifically to construct classifiers upon the aggregate features. We name it data_ag."
   ]
  },
  {
   "cell_type": "code",
   "execution_count": 19,
   "metadata": {},
   "outputs": [
    {
     "data": {
      "text/html": [
       "<div>\n",
       "<style scoped>\n",
       "    .dataframe tbody tr th:only-of-type {\n",
       "        vertical-align: middle;\n",
       "    }\n",
       "\n",
       "    .dataframe tbody tr th {\n",
       "        vertical-align: top;\n",
       "    }\n",
       "\n",
       "    .dataframe thead th {\n",
       "        text-align: right;\n",
       "    }\n",
       "</style>\n",
       "<table border=\"1\" class=\"dataframe\">\n",
       "  <thead>\n",
       "    <tr style=\"text-align: right;\">\n",
       "      <th></th>\n",
       "      <th>Class</th>\n",
       "      <th>User</th>\n",
       "      <th>num_mark</th>\n",
       "      <th>x_mean</th>\n",
       "      <th>y_mean</th>\n",
       "      <th>z_mean</th>\n",
       "      <th>x_var</th>\n",
       "      <th>y_var</th>\n",
       "      <th>z_var</th>\n",
       "      <th>xy_cov</th>\n",
       "      <th>xz_cov</th>\n",
       "      <th>yz_cov</th>\n",
       "      <th>x_dim</th>\n",
       "      <th>y_dim</th>\n",
       "      <th>z_dim</th>\n",
       "    </tr>\n",
       "  </thead>\n",
       "  <tbody>\n",
       "    <tr>\n",
       "      <th>1</th>\n",
       "      <td>1</td>\n",
       "      <td>0</td>\n",
       "      <td>5</td>\n",
       "      <td>62.440317</td>\n",
       "      <td>54.807598</td>\n",
       "      <td>-67.097888</td>\n",
       "      <td>368.120574</td>\n",
       "      <td>816.727481</td>\n",
       "      <td>74.897086</td>\n",
       "      <td>-142.510146</td>\n",
       "      <td>-150.851339</td>\n",
       "      <td>147.356460</td>\n",
       "      <td>48.611035</td>\n",
       "      <td>71.001621</td>\n",
       "      <td>20.764858</td>\n",
       "    </tr>\n",
       "    <tr>\n",
       "      <th>2</th>\n",
       "      <td>1</td>\n",
       "      <td>0</td>\n",
       "      <td>5</td>\n",
       "      <td>64.785121</td>\n",
       "      <td>55.647991</td>\n",
       "      <td>-64.209132</td>\n",
       "      <td>364.625268</td>\n",
       "      <td>809.982596</td>\n",
       "      <td>78.885669</td>\n",
       "      <td>-144.142900</td>\n",
       "      <td>-152.345094</td>\n",
       "      <td>155.512996</td>\n",
       "      <td>48.314895</td>\n",
       "      <td>70.758611</td>\n",
       "      <td>21.107482</td>\n",
       "    </tr>\n",
       "    <tr>\n",
       "      <th>3</th>\n",
       "      <td>1</td>\n",
       "      <td>0</td>\n",
       "      <td>5</td>\n",
       "      <td>64.162415</td>\n",
       "      <td>55.873836</td>\n",
       "      <td>-64.771039</td>\n",
       "      <td>369.632067</td>\n",
       "      <td>813.945768</td>\n",
       "      <td>74.420553</td>\n",
       "      <td>-152.368059</td>\n",
       "      <td>-151.848714</td>\n",
       "      <td>146.664366</td>\n",
       "      <td>48.846584</td>\n",
       "      <td>70.837907</td>\n",
       "      <td>20.532085</td>\n",
       "    </tr>\n",
       "    <tr>\n",
       "      <th>4</th>\n",
       "      <td>1</td>\n",
       "      <td>0</td>\n",
       "      <td>5</td>\n",
       "      <td>63.439104</td>\n",
       "      <td>55.151830</td>\n",
       "      <td>-65.928355</td>\n",
       "      <td>377.415042</td>\n",
       "      <td>810.107918</td>\n",
       "      <td>66.130036</td>\n",
       "      <td>-161.489736</td>\n",
       "      <td>-148.939518</td>\n",
       "      <td>128.851696</td>\n",
       "      <td>49.758767</td>\n",
       "      <td>70.618101</td>\n",
       "      <td>19.475677</td>\n",
       "    </tr>\n",
       "    <tr>\n",
       "      <th>5</th>\n",
       "      <td>1</td>\n",
       "      <td>0</td>\n",
       "      <td>5</td>\n",
       "      <td>63.189702</td>\n",
       "      <td>54.832340</td>\n",
       "      <td>-66.390470</td>\n",
       "      <td>381.445880</td>\n",
       "      <td>812.447612</td>\n",
       "      <td>63.733840</td>\n",
       "      <td>-159.889770</td>\n",
       "      <td>-146.701673</td>\n",
       "      <td>126.648243</td>\n",
       "      <td>50.192930</td>\n",
       "      <td>70.715764</td>\n",
       "      <td>19.098996</td>\n",
       "    </tr>\n",
       "  </tbody>\n",
       "</table>\n",
       "</div>"
      ],
      "text/plain": [
       "   Class  User  num_mark     x_mean     y_mean     z_mean       x_var  \\\n",
       "1      1     0         5  62.440317  54.807598 -67.097888  368.120574   \n",
       "2      1     0         5  64.785121  55.647991 -64.209132  364.625268   \n",
       "3      1     0         5  64.162415  55.873836 -64.771039  369.632067   \n",
       "4      1     0         5  63.439104  55.151830 -65.928355  377.415042   \n",
       "5      1     0         5  63.189702  54.832340 -66.390470  381.445880   \n",
       "\n",
       "        y_var      z_var      xy_cov      xz_cov      yz_cov      x_dim  \\\n",
       "1  816.727481  74.897086 -142.510146 -150.851339  147.356460  48.611035   \n",
       "2  809.982596  78.885669 -144.142900 -152.345094  155.512996  48.314895   \n",
       "3  813.945768  74.420553 -152.368059 -151.848714  146.664366  48.846584   \n",
       "4  810.107918  66.130036 -161.489736 -148.939518  128.851696  49.758767   \n",
       "5  812.447612  63.733840 -159.889770 -146.701673  126.648243  50.192930   \n",
       "\n",
       "       y_dim      z_dim  \n",
       "1  71.001621  20.764858  \n",
       "2  70.758611  21.107482  \n",
       "3  70.837907  20.532085  \n",
       "4  70.618101  19.475677  \n",
       "5  70.715764  19.098996  "
      ]
     },
     "execution_count": 19,
     "metadata": {},
     "output_type": "execute_result"
    }
   ],
   "source": [
    "data_ag = mydata[['Class', 'User', 'num_mark', 'x_mean', 'y_mean', 'z_mean', 'x_var', 'y_var', 'z_var', 'xy_cov', 'xz_cov', 'yz_cov', 'x_dim', 'y_dim', 'z_dim']]\n",
    "\n",
    "data_ag.head()"
   ]
  },
  {
   "cell_type": "markdown",
   "metadata": {},
   "source": [
    "For future use, we save data_ag as a csv file with name data_ag.csv."
   ]
  },
  {
   "cell_type": "code",
   "execution_count": 97,
   "metadata": {},
   "outputs": [],
   "source": [
    "data_ag.to_csv('data_ag.csv')"
   ]
  },
  {
   "cell_type": "markdown",
   "metadata": {},
   "source": [
    "## Method 2: Pseudo-Rasterized Features\n",
    "\n",
    "In this method, the 3D space will be \"rasterized\" (called \"pseudo-rasterization\") into a 3D grid of spheres with the same radius, where adjacent spheres may have some overlap. Each sphere has an associated value, $f_{i}$, that is dictated by the distance between points that fall into the sphere and the center of the sphere. These values will be our features that are used to build classifiers.\n",
    "\n",
    "We notate the parameters of the feature engineering by the following:\n",
    "\n",
    "$m =$ number of spheres in each dimension\n",
    "\n",
    "$r =$ radius of each sphere\n",
    "\n",
    "$i =$ i-th feature function\n",
    "\n",
    "where\n",
    "\n",
    "$m \\in \\{3, 4, 5\\}$,\n",
    "\n",
    "$r \\in \\{2, 3, 4\\}$,\n",
    "\n",
    "$i \\in \\{1, 2, 3\\}$\n",
    "\n",
    "The feature functions are given by\n",
    "\n",
    "$\\eqalignno{f_{1}(x)&=\\cases{1\\ {\\rm if}\\ x< r,\\cr 0\\ {\\rm otherwise},}&{\\hbox{(1)}}\\cr f_{2}(x)&=\\max\\left[1-{x\\over r}, 0\\right],&{\\hbox{(2)}}\\cr f_{3}(x)&=\\exp\\left[-{\\sigma^2\\over 2}({x\\over r})^{2}\\right],&{\\hbox{(3)}}}$\n",
    "\n",
    "Note that in case (3), $\\sigma$ is an arbitrary number. We will set it to 3 throughout the feature generating process.\n",
    "\n"
   ]
  },
  {
   "cell_type": "markdown",
   "metadata": {},
   "source": [
    "So our feature engineering will follow the steps below:\n",
    "\n",
    "  _1) Normalize the points in each observation so that, in each dimension, the mean equals 0 and the variance equals 1._\n",
    "  \n",
    "  _2) For each combination of m and r, calculate the coordinates of the centers of spheres and store them in a data structure._\n",
    "  \n",
    "  _3) For each type of feature function $f_{i}$, calculate the feature values in each feature. Note that, for each combination of m, r and i, there will be $m^{3}$ spheres and thus $m^{3}$ feature values._\n",
    "    "
   ]
  },
  {
   "cell_type": "markdown",
   "metadata": {},
   "source": [
    "__Rationale:__\n",
    "\n",
    "The rationale for the pseudo-rasterized feature engineering method is, to some extent, similar to that in the aggregate feature, in that we aim to tackle the issue of unorderedness in the points. Nevertheless, in contrast to the previous method, which completely ignores the structure of the points and only keeps the general information, this method strives to reconstruct an ordered space that leverages the structural information contained in the raw data. In other words, this method attempts to establish correspondance that the raw data fail to record.\n",
    "\n",
    "Pseudo-rasterization, therefore, is expected to capture the intrinsic correspondance between a certain type of hand posture and the spatial pattern associated with it."
   ]
  },
  {
   "cell_type": "code",
   "execution_count": 43,
   "metadata": {},
   "outputs": [],
   "source": [
    "# 1) Standardize the points\n",
    "\n",
    "# Define a helper function to calculate the standardized value\n",
    "def calc_standard(X):\n",
    "    result = (X - np.nanmean(X, axis=0))/np.nanstd(X, axis=0)\n",
    "    return result\n",
    "\n",
    "# Standardize the x-coordinates\n",
    "\n",
    "x_standardized = calc_standard(df_x)\n",
    "y_standardized = calc_standard(df_y)\n",
    "z_standardized = calc_standard(df_z)"
   ]
  },
  {
   "cell_type": "code",
   "execution_count": 57,
   "metadata": {},
   "outputs": [
    {
     "data": {
      "text/html": [
       "<div>\n",
       "<style scoped>\n",
       "    .dataframe tbody tr th:only-of-type {\n",
       "        vertical-align: middle;\n",
       "    }\n",
       "\n",
       "    .dataframe tbody tr th {\n",
       "        vertical-align: top;\n",
       "    }\n",
       "\n",
       "    .dataframe thead th {\n",
       "        text-align: right;\n",
       "    }\n",
       "</style>\n",
       "<table border=\"1\" class=\"dataframe\">\n",
       "  <thead>\n",
       "    <tr style=\"text-align: right;\">\n",
       "      <th></th>\n",
       "      <th>Class</th>\n",
       "      <th>User</th>\n",
       "      <th>X0</th>\n",
       "      <th>X1</th>\n",
       "      <th>X2</th>\n",
       "      <th>X3</th>\n",
       "      <th>X4</th>\n",
       "      <th>X5</th>\n",
       "      <th>X6</th>\n",
       "      <th>X7</th>\n",
       "      <th>...</th>\n",
       "      <th>Z2</th>\n",
       "      <th>Z3</th>\n",
       "      <th>Z4</th>\n",
       "      <th>Z5</th>\n",
       "      <th>Z6</th>\n",
       "      <th>Z7</th>\n",
       "      <th>Z8</th>\n",
       "      <th>Z9</th>\n",
       "      <th>Z10</th>\n",
       "      <th>Z11</th>\n",
       "    </tr>\n",
       "  </thead>\n",
       "  <tbody>\n",
       "    <tr>\n",
       "      <th>1</th>\n",
       "      <td>1</td>\n",
       "      <td>0</td>\n",
       "      <td>0.113198</td>\n",
       "      <td>0.831117</td>\n",
       "      <td>-0.353128</td>\n",
       "      <td>1.079107</td>\n",
       "      <td>0.315037</td>\n",
       "      <td>NaN</td>\n",
       "      <td>NaN</td>\n",
       "      <td>NaN</td>\n",
       "      <td>...</td>\n",
       "      <td>-0.659049</td>\n",
       "      <td>-1.202521</td>\n",
       "      <td>-1.079845</td>\n",
       "      <td>NaN</td>\n",
       "      <td>NaN</td>\n",
       "      <td>NaN</td>\n",
       "      <td>NaN</td>\n",
       "      <td>NaN</td>\n",
       "      <td>NaN</td>\n",
       "      <td>NaN</td>\n",
       "    </tr>\n",
       "    <tr>\n",
       "      <th>2</th>\n",
       "      <td>1</td>\n",
       "      <td>0</td>\n",
       "      <td>0.182046</td>\n",
       "      <td>-0.322580</td>\n",
       "      <td>0.903161</td>\n",
       "      <td>1.144046</td>\n",
       "      <td>0.385126</td>\n",
       "      <td>NaN</td>\n",
       "      <td>NaN</td>\n",
       "      <td>NaN</td>\n",
       "      <td>...</td>\n",
       "      <td>-1.143622</td>\n",
       "      <td>-1.119679</td>\n",
       "      <td>-1.011974</td>\n",
       "      <td>NaN</td>\n",
       "      <td>NaN</td>\n",
       "      <td>NaN</td>\n",
       "      <td>NaN</td>\n",
       "      <td>NaN</td>\n",
       "      <td>NaN</td>\n",
       "      <td>NaN</td>\n",
       "    </tr>\n",
       "    <tr>\n",
       "      <th>3</th>\n",
       "      <td>1</td>\n",
       "      <td>0</td>\n",
       "      <td>0.161436</td>\n",
       "      <td>-0.357631</td>\n",
       "      <td>0.880389</td>\n",
       "      <td>1.126030</td>\n",
       "      <td>0.388018</td>\n",
       "      <td>NaN</td>\n",
       "      <td>NaN</td>\n",
       "      <td>NaN</td>\n",
       "      <td>...</td>\n",
       "      <td>-1.162820</td>\n",
       "      <td>-1.131753</td>\n",
       "      <td>-1.013675</td>\n",
       "      <td>NaN</td>\n",
       "      <td>NaN</td>\n",
       "      <td>NaN</td>\n",
       "      <td>NaN</td>\n",
       "      <td>NaN</td>\n",
       "      <td>NaN</td>\n",
       "      <td>NaN</td>\n",
       "    </tr>\n",
       "    <tr>\n",
       "      <th>4</th>\n",
       "      <td>1</td>\n",
       "      <td>0</td>\n",
       "      <td>0.145613</td>\n",
       "      <td>-0.401229</td>\n",
       "      <td>1.112438</td>\n",
       "      <td>0.387279</td>\n",
       "      <td>0.846755</td>\n",
       "      <td>NaN</td>\n",
       "      <td>NaN</td>\n",
       "      <td>NaN</td>\n",
       "      <td>...</td>\n",
       "      <td>-1.207405</td>\n",
       "      <td>-1.071100</td>\n",
       "      <td>-1.099554</td>\n",
       "      <td>NaN</td>\n",
       "      <td>NaN</td>\n",
       "      <td>NaN</td>\n",
       "      <td>NaN</td>\n",
       "      <td>NaN</td>\n",
       "      <td>NaN</td>\n",
       "      <td>NaN</td>\n",
       "    </tr>\n",
       "    <tr>\n",
       "      <th>5</th>\n",
       "      <td>1</td>\n",
       "      <td>0</td>\n",
       "      <td>0.139918</td>\n",
       "      <td>-0.413024</td>\n",
       "      <td>0.837177</td>\n",
       "      <td>1.112372</td>\n",
       "      <td>0.376008</td>\n",
       "      <td>NaN</td>\n",
       "      <td>NaN</td>\n",
       "      <td>NaN</td>\n",
       "      <td>...</td>\n",
       "      <td>-1.217239</td>\n",
       "      <td>-1.168065</td>\n",
       "      <td>-1.024406</td>\n",
       "      <td>NaN</td>\n",
       "      <td>NaN</td>\n",
       "      <td>NaN</td>\n",
       "      <td>NaN</td>\n",
       "      <td>NaN</td>\n",
       "      <td>NaN</td>\n",
       "      <td>NaN</td>\n",
       "    </tr>\n",
       "  </tbody>\n",
       "</table>\n",
       "<p>5 rows × 38 columns</p>\n",
       "</div>"
      ],
      "text/plain": [
       "   Class  User        X0        X1        X2        X3        X4  X5  X6  X7  \\\n",
       "1      1     0  0.113198  0.831117 -0.353128  1.079107  0.315037 NaN NaN NaN   \n",
       "2      1     0  0.182046 -0.322580  0.903161  1.144046  0.385126 NaN NaN NaN   \n",
       "3      1     0  0.161436 -0.357631  0.880389  1.126030  0.388018 NaN NaN NaN   \n",
       "4      1     0  0.145613 -0.401229  1.112438  0.387279  0.846755 NaN NaN NaN   \n",
       "5      1     0  0.139918 -0.413024  0.837177  1.112372  0.376008 NaN NaN NaN   \n",
       "\n",
       "  ...         Z2        Z3        Z4  Z5  Z6  Z7  Z8  Z9  Z10  Z11  \n",
       "1 ...  -0.659049 -1.202521 -1.079845 NaN NaN NaN NaN NaN  NaN  NaN  \n",
       "2 ...  -1.143622 -1.119679 -1.011974 NaN NaN NaN NaN NaN  NaN  NaN  \n",
       "3 ...  -1.162820 -1.131753 -1.013675 NaN NaN NaN NaN NaN  NaN  NaN  \n",
       "4 ...  -1.207405 -1.071100 -1.099554 NaN NaN NaN NaN NaN  NaN  NaN  \n",
       "5 ...  -1.217239 -1.168065 -1.024406 NaN NaN NaN NaN NaN  NaN  NaN  \n",
       "\n",
       "[5 rows x 38 columns]"
      ]
     },
     "execution_count": 57,
     "metadata": {},
     "output_type": "execute_result"
    }
   ],
   "source": [
    "# Create a temporary dataframe temp_df that contains Class, User and standardized coordinates\n",
    "\n",
    "temp_df = mydata[['Class', 'User']]\n",
    "\n",
    "temp_df = temp_df.merge(x_standardized, left_index=True, right_index=True)\n",
    "temp_df = temp_df.merge(y_standardized, left_index=True, right_index=True)\n",
    "temp_df = temp_df.merge(z_standardized, left_index=True, right_index=True)\n",
    "\n",
    "temp_df.head()"
   ]
  },
  {
   "cell_type": "code",
   "execution_count": 60,
   "metadata": {},
   "outputs": [],
   "source": [
    "# Define the three feature value functions fi\n",
    "\n",
    "# The passed-in parameters are:\n",
    "\n",
    "    # x_p: x-coordinate of the point\n",
    "    # y_p: y-coordinate of the point\n",
    "    # z_p: z-coordinate of the point\n",
    "    # x_c: x-coordinate of the center of sphere\n",
    "    # y_c: y-coordinate of the center of sphere\n",
    "    # z_c: z-coordinate of the center of sphere\n",
    "    # r: radius of the sphere\n",
    "\n",
    "# Define f1\n",
    "def f1(x_p, y_p, z_p, x_c, y_c, z_c, r):\n",
    "    if np.sqrt((x_p - x_c)**2 + (y_p - y_c)**2 + (z_p - z_c)**2) < r:\n",
    "        return 1\n",
    "    return 0\n",
    "\n",
    "# Define f2\n",
    "def f2(x_p, y_p, z_p, x_c, y_c, z_c, r):\n",
    "    x = np.sqrt((x_p - x_c)**2 + (y_p - y_c)**2 + (z_p - z_c)**2)\n",
    "    return max(1 - x/r, 0)\n",
    "\n",
    "# Define f3\n",
    "def f3(x_p, y_p, z_p, x_c, y_c, z_c, r):\n",
    "    x = np.sqrt((x_p - x_c)**2 + (y_p - y_c)**2 + (z_p - z_c)**2)\n",
    "    return np.exp(-9/2 * (x/r)**2)\n"
   ]
  },
  {
   "cell_type": "markdown",
   "metadata": {},
   "source": [
    "Here we summarize the procedures of generating the pseudo-rasterization features.\n",
    "\n",
    "   _a) For each m, we first compute the 3D coordinates of the centers of all spheres. There are $m^{3}$ centers of sphere and thus $m^{3}$ features._\n",
    "    \n",
    "   _b) Compute the feature values by applying the functions f1, f2 and f3 to each normalized point in an observation for different r's._\n",
    "    \n",
    "   _c) Store the features into a separate data frame_\n",
    "    \n",
    "   _d) Repeat a), b) and c) for all values of m_\n",
    " \n",
    " "
   ]
  },
  {
   "cell_type": "markdown",
   "metadata": {},
   "source": [
    "Prior to the feature engineering stage, we first populate all the NaN with a sufficiently large number so that the missing point would always be treated as a point outside any spheres and have an associated feature value of 0. Here we use the value 99999 to fill the NaNs."
   ]
  },
  {
   "cell_type": "code",
   "execution_count": 59,
   "metadata": {},
   "outputs": [
    {
     "data": {
      "text/html": [
       "<div>\n",
       "<style scoped>\n",
       "    .dataframe tbody tr th:only-of-type {\n",
       "        vertical-align: middle;\n",
       "    }\n",
       "\n",
       "    .dataframe tbody tr th {\n",
       "        vertical-align: top;\n",
       "    }\n",
       "\n",
       "    .dataframe thead th {\n",
       "        text-align: right;\n",
       "    }\n",
       "</style>\n",
       "<table border=\"1\" class=\"dataframe\">\n",
       "  <thead>\n",
       "    <tr style=\"text-align: right;\">\n",
       "      <th></th>\n",
       "      <th>Class</th>\n",
       "      <th>User</th>\n",
       "      <th>X0</th>\n",
       "      <th>X1</th>\n",
       "      <th>X2</th>\n",
       "      <th>X3</th>\n",
       "      <th>X4</th>\n",
       "      <th>X5</th>\n",
       "      <th>X6</th>\n",
       "      <th>X7</th>\n",
       "      <th>...</th>\n",
       "      <th>Z2</th>\n",
       "      <th>Z3</th>\n",
       "      <th>Z4</th>\n",
       "      <th>Z5</th>\n",
       "      <th>Z6</th>\n",
       "      <th>Z7</th>\n",
       "      <th>Z8</th>\n",
       "      <th>Z9</th>\n",
       "      <th>Z10</th>\n",
       "      <th>Z11</th>\n",
       "    </tr>\n",
       "  </thead>\n",
       "  <tbody>\n",
       "    <tr>\n",
       "      <th>1</th>\n",
       "      <td>1</td>\n",
       "      <td>0</td>\n",
       "      <td>0.113198</td>\n",
       "      <td>0.831117</td>\n",
       "      <td>-0.353128</td>\n",
       "      <td>1.079107</td>\n",
       "      <td>0.315037</td>\n",
       "      <td>99999.0</td>\n",
       "      <td>99999.0</td>\n",
       "      <td>99999.0</td>\n",
       "      <td>...</td>\n",
       "      <td>-0.659049</td>\n",
       "      <td>-1.202521</td>\n",
       "      <td>-1.079845</td>\n",
       "      <td>99999.0</td>\n",
       "      <td>99999.0</td>\n",
       "      <td>99999.0</td>\n",
       "      <td>99999.0</td>\n",
       "      <td>99999.0</td>\n",
       "      <td>99999.0</td>\n",
       "      <td>99999.0</td>\n",
       "    </tr>\n",
       "    <tr>\n",
       "      <th>2</th>\n",
       "      <td>1</td>\n",
       "      <td>0</td>\n",
       "      <td>0.182046</td>\n",
       "      <td>-0.322580</td>\n",
       "      <td>0.903161</td>\n",
       "      <td>1.144046</td>\n",
       "      <td>0.385126</td>\n",
       "      <td>99999.0</td>\n",
       "      <td>99999.0</td>\n",
       "      <td>99999.0</td>\n",
       "      <td>...</td>\n",
       "      <td>-1.143622</td>\n",
       "      <td>-1.119679</td>\n",
       "      <td>-1.011974</td>\n",
       "      <td>99999.0</td>\n",
       "      <td>99999.0</td>\n",
       "      <td>99999.0</td>\n",
       "      <td>99999.0</td>\n",
       "      <td>99999.0</td>\n",
       "      <td>99999.0</td>\n",
       "      <td>99999.0</td>\n",
       "    </tr>\n",
       "    <tr>\n",
       "      <th>3</th>\n",
       "      <td>1</td>\n",
       "      <td>0</td>\n",
       "      <td>0.161436</td>\n",
       "      <td>-0.357631</td>\n",
       "      <td>0.880389</td>\n",
       "      <td>1.126030</td>\n",
       "      <td>0.388018</td>\n",
       "      <td>99999.0</td>\n",
       "      <td>99999.0</td>\n",
       "      <td>99999.0</td>\n",
       "      <td>...</td>\n",
       "      <td>-1.162820</td>\n",
       "      <td>-1.131753</td>\n",
       "      <td>-1.013675</td>\n",
       "      <td>99999.0</td>\n",
       "      <td>99999.0</td>\n",
       "      <td>99999.0</td>\n",
       "      <td>99999.0</td>\n",
       "      <td>99999.0</td>\n",
       "      <td>99999.0</td>\n",
       "      <td>99999.0</td>\n",
       "    </tr>\n",
       "    <tr>\n",
       "      <th>4</th>\n",
       "      <td>1</td>\n",
       "      <td>0</td>\n",
       "      <td>0.145613</td>\n",
       "      <td>-0.401229</td>\n",
       "      <td>1.112438</td>\n",
       "      <td>0.387279</td>\n",
       "      <td>0.846755</td>\n",
       "      <td>99999.0</td>\n",
       "      <td>99999.0</td>\n",
       "      <td>99999.0</td>\n",
       "      <td>...</td>\n",
       "      <td>-1.207405</td>\n",
       "      <td>-1.071100</td>\n",
       "      <td>-1.099554</td>\n",
       "      <td>99999.0</td>\n",
       "      <td>99999.0</td>\n",
       "      <td>99999.0</td>\n",
       "      <td>99999.0</td>\n",
       "      <td>99999.0</td>\n",
       "      <td>99999.0</td>\n",
       "      <td>99999.0</td>\n",
       "    </tr>\n",
       "    <tr>\n",
       "      <th>5</th>\n",
       "      <td>1</td>\n",
       "      <td>0</td>\n",
       "      <td>0.139918</td>\n",
       "      <td>-0.413024</td>\n",
       "      <td>0.837177</td>\n",
       "      <td>1.112372</td>\n",
       "      <td>0.376008</td>\n",
       "      <td>99999.0</td>\n",
       "      <td>99999.0</td>\n",
       "      <td>99999.0</td>\n",
       "      <td>...</td>\n",
       "      <td>-1.217239</td>\n",
       "      <td>-1.168065</td>\n",
       "      <td>-1.024406</td>\n",
       "      <td>99999.0</td>\n",
       "      <td>99999.0</td>\n",
       "      <td>99999.0</td>\n",
       "      <td>99999.0</td>\n",
       "      <td>99999.0</td>\n",
       "      <td>99999.0</td>\n",
       "      <td>99999.0</td>\n",
       "    </tr>\n",
       "  </tbody>\n",
       "</table>\n",
       "<p>5 rows × 38 columns</p>\n",
       "</div>"
      ],
      "text/plain": [
       "   Class  User        X0        X1        X2        X3        X4       X5  \\\n",
       "1      1     0  0.113198  0.831117 -0.353128  1.079107  0.315037  99999.0   \n",
       "2      1     0  0.182046 -0.322580  0.903161  1.144046  0.385126  99999.0   \n",
       "3      1     0  0.161436 -0.357631  0.880389  1.126030  0.388018  99999.0   \n",
       "4      1     0  0.145613 -0.401229  1.112438  0.387279  0.846755  99999.0   \n",
       "5      1     0  0.139918 -0.413024  0.837177  1.112372  0.376008  99999.0   \n",
       "\n",
       "        X6       X7   ...           Z2        Z3        Z4       Z5       Z6  \\\n",
       "1  99999.0  99999.0   ...    -0.659049 -1.202521 -1.079845  99999.0  99999.0   \n",
       "2  99999.0  99999.0   ...    -1.143622 -1.119679 -1.011974  99999.0  99999.0   \n",
       "3  99999.0  99999.0   ...    -1.162820 -1.131753 -1.013675  99999.0  99999.0   \n",
       "4  99999.0  99999.0   ...    -1.207405 -1.071100 -1.099554  99999.0  99999.0   \n",
       "5  99999.0  99999.0   ...    -1.217239 -1.168065 -1.024406  99999.0  99999.0   \n",
       "\n",
       "        Z7       Z8       Z9      Z10      Z11  \n",
       "1  99999.0  99999.0  99999.0  99999.0  99999.0  \n",
       "2  99999.0  99999.0  99999.0  99999.0  99999.0  \n",
       "3  99999.0  99999.0  99999.0  99999.0  99999.0  \n",
       "4  99999.0  99999.0  99999.0  99999.0  99999.0  \n",
       "5  99999.0  99999.0  99999.0  99999.0  99999.0  \n",
       "\n",
       "[5 rows x 38 columns]"
      ]
     },
     "execution_count": 59,
     "metadata": {},
     "output_type": "execute_result"
    }
   ],
   "source": [
    "# Fill all NaN's with 99999\n",
    "temp_df.fillna(99999, inplace=True)\n",
    "temp_df.head()"
   ]
  },
  {
   "cell_type": "code",
   "execution_count": 78,
   "metadata": {},
   "outputs": [],
   "source": [
    "# Define a function that takes in a specified m and returns a list of coordinates of center of spheres\n",
    "\n",
    "def coord_center(m):\n",
    "    temp = []\n",
    "    for i in range(1, 2*m, 2):\n",
    "        for j in range(1, 2*m, 2):\n",
    "            for k in range(1, 2*m, 2):\n",
    "                temp.append([-2+i*2/m, -2+j*2/m, -2+k*2/m])\n",
    "    return temp\n",
    "\n",
    "# Generate the centers of sphere for m = 3, 4, 5, 6\n",
    "\n",
    "global centers_3\n",
    "global centers_4\n",
    "global centers_5\n",
    "\n",
    "centers_3 = coord_center(3)\n",
    "centers_4 = coord_center(4)\n",
    "centers_5 = coord_center(5)\n",
    "\n",
    "# Define a function that computes and return feature values\n",
    "\n",
    "def get_features(df, centers, r, func):\n",
    "    points_x = df[['X0', 'X1', 'X2', 'X3', 'X4', 'X5', 'X6', 'X7', 'X8', 'X9', 'X10', 'X11']]\n",
    "    points_y = df[['Y0', 'Y1', 'Y2', 'Y3', 'Y4', 'Y5', 'Y6', 'Y7', 'Y8', 'Y9', 'Y10', 'Y11']]\n",
    "    points_z = df[['Z0', 'Z1', 'Z2', 'Z3', 'Z4', 'Z5', 'Z6', 'Z7', 'Z8', 'Z9', 'Z10', 'Z11']]\n",
    "    temp = [0 for t in range(len(centers))]\n",
    "    for i in range(len(temp)):\n",
    "        for j in range(len(points_x)):\n",
    "            temp[i] += func(points_x[j], points_y[j], points_z[j], centers[i][0], centers[i][1], centers[i][2], r)\n",
    "    return temp\n",
    "\n"
   ]
  },
  {
   "cell_type": "markdown",
   "metadata": {},
   "source": [
    "Now we will create a separate data frame for each combination of m, r and i based on __temp_df__, which we generated previously. Thus, there will be 36 data frames in total. We will name each data frame in this way: __df_mri__, where __m__, __r__ and __i__ are replaced by the actual values.\n",
    "\n",
    "For instance, df_432 represents the data frame that corresponds to m=4, r=3 and i=2."
   ]
  },
  {
   "cell_type": "code",
   "execution_count": 99,
   "metadata": {},
   "outputs": [],
   "source": [
    "# Define a function that takes in the temp_df and returns a final data frame\n",
    "# that contains class labels and feature values generated by calling associated functions\n",
    "\n",
    "def get_final_dataframe(df, centers, r, func):\n",
    "    result = df.apply(lambda x: get_features(x, centers, r, func), axis=1)\n",
    "    arr = np.array(result.values.tolist())\n",
    "    final = pd.DataFrame(arr, index=df.index, columns=[['Feature' + str(i) for i in range(arr.shape[1])]])\n",
    "    final['Class'] = df.Class\n",
    "    final['User'] = df.User\n",
    "    return final"
   ]
  },
  {
   "cell_type": "markdown",
   "metadata": {},
   "source": [
    "Now we start generating data frames using pseudo-rasterizing feature engineering. We will save each generated data frame into a csv file with the following naming convention:\n",
    "\n",
    "pr_mri.csv\n",
    "\n",
    "For example, pr_321.csv is the csv file corresponding to df_321."
   ]
  },
  {
   "cell_type": "code",
   "execution_count": null,
   "metadata": {},
   "outputs": [],
   "source": [
    "# m = 3, r = 2, i = 1\n",
    "\n",
    "df_321 = get_final_dataframe(temp_df, centers_3, 2, f1)\n",
    "df_321.to_csv('pr_321.csv')"
   ]
  },
  {
   "cell_type": "code",
   "execution_count": 103,
   "metadata": {},
   "outputs": [],
   "source": [
    "# m = 3, r = 2, i = 2\n",
    "\n",
    "df_322 = get_final_dataframe(temp_df, centers_3, 2, f2)\n",
    "df_322.to_csv('pr_322.csv')"
   ]
  },
  {
   "cell_type": "code",
   "execution_count": 153,
   "metadata": {},
   "outputs": [],
   "source": [
    "# m = 3, r = 2, i = 3\n",
    "\n",
    "df_323 = get_final_dataframe(temp_df, centers_3, 2, f3)\n",
    "df_323.to_csv('pr_323.csv')"
   ]
  },
  {
   "cell_type": "code",
   "execution_count": 155,
   "metadata": {},
   "outputs": [],
   "source": [
    "# m = 3, r = 3, i = 1\n",
    "\n",
    "df_331 = get_final_dataframe(temp_df, centers_3, 3, f1)\n",
    "df_331.to_csv('pr_331.csv')"
   ]
  },
  {
   "cell_type": "code",
   "execution_count": 157,
   "metadata": {},
   "outputs": [],
   "source": [
    "# m = 3, r = 3, i = 2\n",
    "\n",
    "df_332 = get_final_dataframe(temp_df, centers_3, 3, f2)\n",
    "df_332.to_csv('pr_332.csv')"
   ]
  },
  {
   "cell_type": "code",
   "execution_count": 159,
   "metadata": {},
   "outputs": [],
   "source": [
    "# m = 3, r = 3, i = 3\n",
    "\n",
    "df_333 = get_final_dataframe(temp_df, centers_3, 3, f3)\n",
    "df_333.to_csv('pr_333.csv')"
   ]
  },
  {
   "cell_type": "code",
   "execution_count": null,
   "metadata": {},
   "outputs": [],
   "source": [
    "# m = 3, r = 4, i = 1\n",
    "\n",
    "df_341 = get_final_dataframe(temp_df, centers_3, 4, f1)\n",
    "df_341.to_csv('pr_341.csv')"
   ]
  },
  {
   "cell_type": "code",
   "execution_count": null,
   "metadata": {},
   "outputs": [],
   "source": [
    "# m = 3, r = 4, i = 2\n",
    "\n",
    "df_342 = get_final_dataframe(temp_df, centers_3, 4, f2)\n",
    "df_342.to_csv('pr_342.csv')"
   ]
  },
  {
   "cell_type": "code",
   "execution_count": 160,
   "metadata": {},
   "outputs": [],
   "source": [
    "# m = 3, r = 4, i = 3\n",
    "\n",
    "df_343 = get_final_dataframe(temp_df, centers_3, 4, f3)\n",
    "df_343.to_csv('pr_343.csv')"
   ]
  },
  {
   "cell_type": "code",
   "execution_count": 164,
   "metadata": {},
   "outputs": [],
   "source": [
    "# m = 4, r = 2, i = 1\n",
    "\n",
    "df_421 = get_final_dataframe(temp_df, centers_4, 2, f1)\n",
    "df_421.to_csv('pr_421.csv')"
   ]
  },
  {
   "cell_type": "code",
   "execution_count": 165,
   "metadata": {},
   "outputs": [],
   "source": [
    "# m = 4, r = 2, i = 2\n",
    "\n",
    "df_422 = get_final_dataframe(temp_df, centers_4, 2, f2)\n",
    "df_422.to_csv('pr_422.csv')"
   ]
  },
  {
   "cell_type": "code",
   "execution_count": 166,
   "metadata": {},
   "outputs": [],
   "source": [
    "# m = 4, r = 2, i = 3\n",
    "\n",
    "df_423 = get_final_dataframe(temp_df, centers_4, 2, f3)\n",
    "df_423.to_csv('pr_423.csv')"
   ]
  },
  {
   "cell_type": "code",
   "execution_count": 167,
   "metadata": {},
   "outputs": [],
   "source": [
    "# m = 4, r = 3, i = 1\n",
    "\n",
    "df_431 = get_final_dataframe(temp_df, centers_4, 3, f1)\n",
    "df_431.to_csv('pr_431.csv')"
   ]
  },
  {
   "cell_type": "code",
   "execution_count": 168,
   "metadata": {},
   "outputs": [],
   "source": [
    "# m = 4, r = 3, i = 2\n",
    "\n",
    "df_432 = get_final_dataframe(temp_df, centers_4, 3, f2)\n",
    "df_432.to_csv('pr_432.csv')"
   ]
  },
  {
   "cell_type": "code",
   "execution_count": 169,
   "metadata": {},
   "outputs": [],
   "source": [
    "# m = 4, r = 3, i = 3\n",
    "\n",
    "df_433 = get_final_dataframe(temp_df, centers_4, 3, f3)\n",
    "df_433.to_csv('pr_433.csv')"
   ]
  },
  {
   "cell_type": "code",
   "execution_count": 170,
   "metadata": {},
   "outputs": [],
   "source": [
    "# m = 4, r = 4, i = 1\n",
    "\n",
    "df_441 = get_final_dataframe(temp_df, centers_4, 4, f1)\n",
    "df_441.to_csv('pr_441.csv')"
   ]
  },
  {
   "cell_type": "code",
   "execution_count": 171,
   "metadata": {},
   "outputs": [],
   "source": [
    "# m = 4, r = 4, i = 2\n",
    "\n",
    "df_442 = get_final_dataframe(temp_df, centers_4, 4, f2)\n",
    "df_442.to_csv('pr_442.csv')"
   ]
  },
  {
   "cell_type": "code",
   "execution_count": 172,
   "metadata": {},
   "outputs": [],
   "source": [
    "# m = 4, r = 4, i = 3\n",
    "\n",
    "df_443 = get_final_dataframe(temp_df, centers_4, 4, f3)\n",
    "df_443.to_csv('pr_443.csv')"
   ]
  },
  {
   "cell_type": "code",
   "execution_count": 173,
   "metadata": {},
   "outputs": [],
   "source": [
    "# m = 5, r = 2, i = 1\n",
    "\n",
    "df_521 = get_final_dataframe(temp_df, centers_5, 2, f1)\n",
    "df_521.to_csv('pr_521.csv')"
   ]
  },
  {
   "cell_type": "code",
   "execution_count": 174,
   "metadata": {},
   "outputs": [],
   "source": [
    "# m = 5, r = 2, i = 2\n",
    "\n",
    "df_522 = get_final_dataframe(temp_df, centers_5, 2, f2)\n",
    "df_522.to_csv('pr_522.csv')"
   ]
  },
  {
   "cell_type": "code",
   "execution_count": 175,
   "metadata": {},
   "outputs": [],
   "source": [
    "# m = 5, r = 2, i = 3\n",
    "\n",
    "df_523 = get_final_dataframe(temp_df, centers_5, 2, f3)\n",
    "df_523.to_csv('pr_523.csv')"
   ]
  },
  {
   "cell_type": "code",
   "execution_count": 176,
   "metadata": {},
   "outputs": [],
   "source": [
    "# m = 5, r = 3, i = 1\n",
    "\n",
    "df_531 = get_final_dataframe(temp_df, centers_5, 3, f1)\n",
    "df_531.to_csv('pr_531.csv')"
   ]
  },
  {
   "cell_type": "code",
   "execution_count": 177,
   "metadata": {},
   "outputs": [],
   "source": [
    "# m = 5, r = 3, i = 2\n",
    "\n",
    "df_532 = get_final_dataframe(temp_df, centers_5, 3, f2)\n",
    "df_532.to_csv('pr_532.csv')"
   ]
  },
  {
   "cell_type": "code",
   "execution_count": 178,
   "metadata": {},
   "outputs": [],
   "source": [
    "# m = 5, r = 3, i = 3\n",
    "\n",
    "df_533 = get_final_dataframe(temp_df, centers_5, 3, f3)\n",
    "df_533.to_csv('pr_533.csv')"
   ]
  },
  {
   "cell_type": "code",
   "execution_count": 179,
   "metadata": {},
   "outputs": [],
   "source": [
    "# m = 5, r = 4, i = 1\n",
    "\n",
    "df_541 = get_final_dataframe(temp_df, centers_5, 4, f1)\n",
    "df_541.to_csv('pr_541.csv')"
   ]
  },
  {
   "cell_type": "code",
   "execution_count": 180,
   "metadata": {},
   "outputs": [],
   "source": [
    "# m = 5, r = 4, i = 2\n",
    "\n",
    "df_542 = get_final_dataframe(temp_df, centers_5, 4, f2)\n",
    "df_542.to_csv('pr_542.csv')"
   ]
  },
  {
   "cell_type": "code",
   "execution_count": 181,
   "metadata": {},
   "outputs": [],
   "source": [
    "# m = 5, r = 4, i = 3\n",
    "\n",
    "df_543 = get_final_dataframe(temp_df, centers_5, 4, f3)\n",
    "df_543.to_csv('pr_543.csv')"
   ]
  },
  {
   "cell_type": "markdown",
   "metadata": {},
   "source": [
    "# STAGE III: LEARNING\n",
    "\n",
    "## Overview ##\n",
    "\n",
    "In this section, we will construct our models on the collection of features engineered above and evaluate the performance of each model. Note that, since each user may position his or her hand when displaying a posture in a unique way, i.e. distinct from other users, a number of classifiers based upon a given combination of feature engineering and machine learning algorithms will be fitted on a set of leave-one-user-out training sets. This practice  allows us to evaluate the performance of the models on instances produced by unseen users during training and is therefore a more practical metric, as in reality the model is expected to yield accurate predictions on unseen users.\n",
    "\n",
    "Due to the immense number of combinations of parameters to build a classifier, it is computationally impractical to consider every possible combination. Hence, for the sake of feasibility, we reduce our candidates by\n",
    "\n",
    "  _i) Randomly pick 8 from the 27 pseudo-rasterized feature engineered datasets_\n",
    "  \n",
    "  _ii) Randomly pick 4 users from the 15 users to form our leave-one-user-out candidate pool_\n",
    "  \n",
    "  _iii) For each classifier with the best hyperparameters selected through grid search cross-validation, fit it on the 4 leave-one-user-out training set to produce 4 classifiers_ \n",
    "\n",
    "__A brief roadmap is provided below:__\n",
    "\n",
    "   _a) Split datasets into training and test sets_\n",
    "    \n",
    "   _b) Construct classifiers using a variety of machine learning methods, obtain the \"best\" estimator using grid search cross-validation_\n",
    "   \n",
    "   _c) Slice our training datasets to obtain four leave-one-user-out training sets_\n",
    "   \n",
    "   _d) Build classifiers upon the training sets specified above for the testing section that follows_\n",
    "\n",
    "    "
   ]
  },
  {
   "cell_type": "markdown",
   "metadata": {},
   "source": [
    "## Step 1: Split the Datasets\n",
    "\n",
    "In this step, we will randomly split the datasets into training and test sets, with a ratio 80% and 20%. Since the two feature engineering methods employ its own associated dataset, we use the numpy.random.randint() to obtain an array of indices that governs the splitting of the dataset."
   ]
  },
  {
   "cell_type": "code",
   "execution_count": 196,
   "metadata": {},
   "outputs": [],
   "source": [
    "nrows = mydata.shape[0]\n",
    "indices = mydata.index.values\n",
    "\n",
    "np.random.shuffle(indices)\n",
    "train_index = indices[:int(nrows*0.8)]\n",
    "test_index = indices[int(nrows*0.8):]"
   ]
  },
  {
   "cell_type": "markdown",
   "metadata": {},
   "source": [
    "Now the indices are denoted by:\n",
    "\n",
    "Train: train_index\n",
    "\n",
    "Test: test_index"
   ]
  },
  {
   "cell_type": "markdown",
   "metadata": {},
   "source": [
    "## Step 2: Learning\n",
    "\n",
    "In this step, we will build and fit classifiers on our datasets that use aggregate features and pseudo-rasterized features. The following machine learning methods are opted:\n",
    "\n",
    "   _1) Naive Bayes_\n",
    "   \n",
    "   _2) Linear Discriminant Analysis (LDA)_\n",
    "   \n",
    "   _3) Quadratic Discriminant Analysis (QDA)_\n",
    "   \n",
    "   _4) Support Vector Machine (SVM)_\n",
    "   \n",
    "   _5) Decision Tree_\n",
    "   \n",
    "   _6) K-Nearest Neighbors (K-NN)_\n",
    "   \n",
    "When building our models, we will tune the hyperparameters (if there is any) on the validation set to improve their performance. When validating models, we will use 5-fold cross validation.\n",
    "\n",
    "Besides, after trained on the training set, each classifier will be saved in a joblib file for future testing."
   ]
  },
  {
   "cell_type": "markdown",
   "metadata": {},
   "source": [
    "### I. Aggregate Features"
   ]
  },
  {
   "cell_type": "code",
   "execution_count": 246,
   "metadata": {},
   "outputs": [],
   "source": [
    "# First, slice the data frames and create variables to denote the attributes and the targets\n",
    "\n",
    "# Training Set\n",
    "X_train_af = data_ag.drop(columns=['Class', 'User']).loc[train_index]\n",
    "Y_train_af = data_ag.Class.loc[train_index]\n",
    "\n",
    "# Test Set\n",
    "X_test_af = data_ag.drop(columns=['Class', 'User']).loc[test_index]\n",
    "Y_test_af = data_ag.Class.loc[test_index]"
   ]
  },
  {
   "cell_type": "markdown",
   "metadata": {},
   "source": [
    "__1) Naive Bayes__"
   ]
  },
  {
   "cell_type": "code",
   "execution_count": 247,
   "metadata": {},
   "outputs": [
    {
     "data": {
      "text/plain": [
       "GaussianNB(priors=None)"
      ]
     },
     "execution_count": 247,
     "metadata": {},
     "output_type": "execute_result"
    }
   ],
   "source": [
    "from sklearn.naive_bayes import GaussianNB\n",
    "\n",
    "clf_af_nb = GaussianNB()\n",
    "clf_af_nb.fit(X_train_af, Y_train_af)"
   ]
  },
  {
   "cell_type": "code",
   "execution_count": 383,
   "metadata": {},
   "outputs": [
    {
     "data": {
      "text/plain": [
       "['./Aggregate Classifiers/clf_af_nb.joblib']"
      ]
     },
     "execution_count": 383,
     "metadata": {},
     "output_type": "execute_result"
    }
   ],
   "source": [
    "# Save the classifier\n",
    "\n",
    "from joblib import dump, load\n",
    "\n",
    "dump(clf_af_nb, './Aggregate Classifiers/clf_af_nb.joblib')"
   ]
  },
  {
   "cell_type": "markdown",
   "metadata": {},
   "source": [
    "__2) Linear Discriminant Analysis__"
   ]
  },
  {
   "cell_type": "code",
   "execution_count": null,
   "metadata": {},
   "outputs": [],
   "source": [
    "from sklearn.discriminant_analysis import LinearDiscriminantAnalysis\n",
    "\n",
    "clf_af_lda = LinearDiscriminantAnalysis()\n",
    "clf_af_lda.fit(X_train_af, Y_train_af)"
   ]
  },
  {
   "cell_type": "code",
   "execution_count": 384,
   "metadata": {},
   "outputs": [
    {
     "data": {
      "text/plain": [
       "['./Aggregate Classifiers/clf_af_lda.joblib']"
      ]
     },
     "execution_count": 384,
     "metadata": {},
     "output_type": "execute_result"
    }
   ],
   "source": [
    "# Save the classifier\n",
    "\n",
    "dump(clf_af_lda, './Aggregate Classifiers/clf_af_lda.joblib')"
   ]
  },
  {
   "cell_type": "markdown",
   "metadata": {},
   "source": [
    "__3) Quadratic Discriminant Analysis__"
   ]
  },
  {
   "cell_type": "code",
   "execution_count": 253,
   "metadata": {},
   "outputs": [
    {
     "data": {
      "text/plain": [
       "GridSearchCV(cv=10, error_score='raise',\n",
       "       estimator=QuadraticDiscriminantAnalysis(priors=None, reg_param=0.0,\n",
       "               store_covariance=False, store_covariances=None, tol=0.0001),\n",
       "       fit_params=None, iid=True, n_jobs=1,\n",
       "       param_grid={'reg_param': array([0.  , 0.01, 0.05, 0.1 , 0.2 , 0.3 , 0.4 , 0.5 ])},\n",
       "       pre_dispatch='2*n_jobs', refit=True, return_train_score='warn',\n",
       "       scoring='accuracy', verbose=0)"
      ]
     },
     "execution_count": 253,
     "metadata": {},
     "output_type": "execute_result"
    }
   ],
   "source": [
    "from sklearn.discriminant_analysis import QuadraticDiscriminantAnalysis\n",
    "from sklearn.model_selection import GridSearchCV\n",
    "\n",
    "# Use grid search with cross-validation to find out the optimal hyperparameter, in this case, reg_param\n",
    "param_grid = {'reg_param': np.array([0, 0.01, 0.05, 0.1, 0.2, 0.3, 0.4, 0.5])}\n",
    "\n",
    "clf_af_qda_cv = GridSearchCV(QuadraticDiscriminantAnalysis(), param_grid, scoring='accuracy', cv=10)\n",
    "clf_af_qda_cv.fit(X_train_af, Y_train_af)"
   ]
  },
  {
   "cell_type": "code",
   "execution_count": 254,
   "metadata": {},
   "outputs": [
    {
     "data": {
      "text/plain": [
       "{'reg_param': 0.1}"
      ]
     },
     "execution_count": 254,
     "metadata": {},
     "output_type": "execute_result"
    }
   ],
   "source": [
    "clf_af_qda_cv.best_params_"
   ]
  },
  {
   "cell_type": "markdown",
   "metadata": {},
   "source": [
    "It turns out that a QDA classifier with reg_param = 0.1 yields the best performance based on accuracy."
   ]
  },
  {
   "cell_type": "code",
   "execution_count": 255,
   "metadata": {},
   "outputs": [
    {
     "data": {
      "text/plain": [
       "QuadraticDiscriminantAnalysis(priors=None, reg_param=0.1,\n",
       "               store_covariance=False, store_covariances=None, tol=0.0001)"
      ]
     },
     "execution_count": 255,
     "metadata": {},
     "output_type": "execute_result"
    }
   ],
   "source": [
    "# Build a QDA classifier with reg_param = 0.1\n",
    "\n",
    "clf_af_qda = QuadraticDiscriminantAnalysis(reg_param=0.1)\n",
    "clf_af_qda.fit(X_train_af, Y_train_af)"
   ]
  },
  {
   "cell_type": "code",
   "execution_count": 385,
   "metadata": {},
   "outputs": [
    {
     "data": {
      "text/plain": [
       "['./Aggregate Classifiers/clf_af_qda.joblib']"
      ]
     },
     "execution_count": 385,
     "metadata": {},
     "output_type": "execute_result"
    }
   ],
   "source": [
    "# Save the classifier\n",
    "\n",
    "dump(clf_af_qda, './Aggregate Classifiers/clf_af_qda.joblib')"
   ]
  },
  {
   "cell_type": "markdown",
   "metadata": {},
   "source": [
    "__4) Support Vector Machine__"
   ]
  },
  {
   "cell_type": "markdown",
   "metadata": {},
   "source": [
    "Due to the extremely large size of the training data, we select the first 20% of the training data as our validation set for hyperparameter tuning. Moreover, since the running time of fitting an SVM classifier is not scale-invariant, we first standardize the features to facilitate fitting."
   ]
  },
  {
   "cell_type": "code",
   "execution_count": 266,
   "metadata": {},
   "outputs": [],
   "source": [
    "from sklearn import preprocessing\n",
    "from sklearn import svm"
   ]
  },
  {
   "cell_type": "code",
   "execution_count": 283,
   "metadata": {},
   "outputs": [],
   "source": [
    "X_train_af_subset = X_train_af.iloc[:int(X_train_af.shape[0] * 0.2), :]\n",
    "Y_train_af_subset = Y_train_af.iloc[:int(Y_train_af.shape[0] * 0.2)]"
   ]
  },
  {
   "cell_type": "code",
   "execution_count": 284,
   "metadata": {},
   "outputs": [],
   "source": [
    "X_train_af_subset_scaled = preprocessing.scale(X_train_af_subset)"
   ]
  },
  {
   "cell_type": "code",
   "execution_count": 309,
   "metadata": {},
   "outputs": [
    {
     "data": {
      "text/plain": [
       "GridSearchCV(cv=5, error_score='raise',\n",
       "       estimator=SVC(C=1.0, cache_size=200, class_weight=None, coef0=0.0,\n",
       "  decision_function_shape='ovr', degree=3, gamma='auto', kernel='rbf',\n",
       "  max_iter=-1, probability=False, random_state=None, shrinking=True,\n",
       "  tol=0.001, verbose=False),\n",
       "       fit_params=None, iid=True, n_jobs=1,\n",
       "       param_grid=[{'C': array([  1,   5,  10,  50, 100]), 'kernel': ['linear']}, {'C': array([  1,   5,  10,  50, 100]), 'gamma': array([0.001, 0.01 , 0.1  ]), 'kernel': ['poly', 'rbf']}],\n",
       "       pre_dispatch='2*n_jobs', refit=True, return_train_score='warn',\n",
       "       scoring='accuracy', verbose=0)"
      ]
     },
     "execution_count": 309,
     "metadata": {},
     "output_type": "execute_result"
    }
   ],
   "source": [
    "# Use grid search with cross-validation to find out the optimal hyperparameters\n",
    "# Since there are three options for kernel, we will construct a parameter grid as a list of two dictionaries, one for linear kernel and the other for polynomial and radial kernels\n",
    "\n",
    "param_grid = [{'C': np.array([1, 5, 10, 50, 100]), 'kernel': ['linear']}, {'C': np.array([1, 5, 10, 50, 100]), 'gamma': np.array([0.001, 0.01, 0.1]), 'kernel': ['poly', 'rbf']}]\n",
    "clf_af_svm_cv = GridSearchCV(svm.SVC(), param_grid, scoring='accuracy', cv=5)\n",
    "clf_af_svm_cv.fit(X_train_af_subset_scaled, Y_train_af_subset)"
   ]
  },
  {
   "cell_type": "code",
   "execution_count": 310,
   "metadata": {},
   "outputs": [
    {
     "data": {
      "text/plain": [
       "{'C': 10, 'gamma': 0.1, 'kernel': 'rbf'}"
      ]
     },
     "execution_count": 310,
     "metadata": {},
     "output_type": "execute_result"
    }
   ],
   "source": [
    "clf_af_svm_cv.best_params_"
   ]
  },
  {
   "cell_type": "markdown",
   "metadata": {},
   "source": [
    "It turns out that an SVM classifier with C=10, gamma=0.1 and kernel='rbf' yields the best performance based on accuracy."
   ]
  },
  {
   "cell_type": "code",
   "execution_count": 311,
   "metadata": {},
   "outputs": [
    {
     "data": {
      "text/plain": [
       "SVC(C=10, cache_size=200, class_weight=None, coef0=0.0,\n",
       "  decision_function_shape='ovr', degree=3, gamma=0.1, kernel='rbf',\n",
       "  max_iter=-1, probability=False, random_state=None, shrinking=True,\n",
       "  tol=0.001, verbose=False)"
      ]
     },
     "execution_count": 311,
     "metadata": {},
     "output_type": "execute_result"
    }
   ],
   "source": [
    "# Build a Radial SVM classifier with C = 10 and gamma = 0.1\n",
    "\n",
    "X_train_af_scaled = preprocessing.scale(X_train_af)\n",
    "\n",
    "clf_af_svm = svm.SVC(C=10, gamma=0.1, kernel='rbf')\n",
    "clf_af_svm.fit(X_train_af_scaled, Y_train_af)"
   ]
  },
  {
   "cell_type": "code",
   "execution_count": 386,
   "metadata": {},
   "outputs": [
    {
     "data": {
      "text/plain": [
       "['./Aggregate Classifiers/clf_af_svm.joblib']"
      ]
     },
     "execution_count": 386,
     "metadata": {},
     "output_type": "execute_result"
    }
   ],
   "source": [
    "# Save the classifier\n",
    "\n",
    "dump(clf_af_svm, './Aggregate Classifiers/clf_af_svm.joblib')"
   ]
  },
  {
   "cell_type": "markdown",
   "metadata": {},
   "source": [
    "__5) Decision Tree__"
   ]
  },
  {
   "cell_type": "code",
   "execution_count": 302,
   "metadata": {},
   "outputs": [
    {
     "data": {
      "text/plain": [
       "GridSearchCV(cv=5, error_score='raise',\n",
       "       estimator=DecisionTreeClassifier(class_weight=None, criterion='gini', max_depth=None,\n",
       "            max_features=None, max_leaf_nodes=None,\n",
       "            min_impurity_decrease=0.0, min_impurity_split=None,\n",
       "            min_samples_leaf=1, min_samples_split=2,\n",
       "            min_weight_fraction_leaf=0.0, presort=False, random_state=None,\n",
       "            splitter='best'),\n",
       "       fit_params=None, iid=True, n_jobs=1,\n",
       "       param_grid={'max_depth': [None, 100, 75, 50], 'min_samples_split': [3, 5, 10, 25], 'min_samples_leaf': [0.01, 0.02, 0.03, 0.04]},\n",
       "       pre_dispatch='2*n_jobs', refit=True, return_train_score='warn',\n",
       "       scoring='accuracy', verbose=0)"
      ]
     },
     "execution_count": 302,
     "metadata": {},
     "output_type": "execute_result"
    }
   ],
   "source": [
    "from sklearn.tree import DecisionTreeClassifier\n",
    "\n",
    "# Use grid search with cross-validation to find out the optimal hyperparameters, in this case, max_depth, min_samples_split and min_samples_leaf\n",
    "param_grid = {'max_depth': [None, 100, 75, 50], 'min_samples_split': np.array([3, 5, 10, 25]), 'min_samples_leaf': np.array([0.01, 0.02, 0.03, 0.04])}\n",
    "clf_af_dt_cv = GridSearchCV(DecisionTreeClassifier(), param_grid, scoring='accuracy', cv=5)\n",
    "clf_af_dt_cv.fit(X_train_af, Y_train_af)"
   ]
  },
  {
   "cell_type": "code",
   "execution_count": 409,
   "metadata": {},
   "outputs": [
    {
     "data": {
      "text/plain": [
       "{'max_depth': None, 'min_samples_leaf': 0.01, 'min_samples_split': 3}"
      ]
     },
     "execution_count": 409,
     "metadata": {},
     "output_type": "execute_result"
    }
   ],
   "source": [
    "clf_af_dt_cv.best_params_"
   ]
  },
  {
   "cell_type": "markdown",
   "metadata": {},
   "source": [
    "It turns out that a decision tree classifier with max_depth=None, min_samples_leaf=0.01 and min_samples_split=3 yields the best performance based on accuracy."
   ]
  },
  {
   "cell_type": "code",
   "execution_count": 304,
   "metadata": {},
   "outputs": [
    {
     "data": {
      "text/plain": [
       "DecisionTreeClassifier(class_weight=None, criterion='gini', max_depth=None,\n",
       "            max_features=None, max_leaf_nodes=None,\n",
       "            min_impurity_decrease=0.0, min_impurity_split=None,\n",
       "            min_samples_leaf=0.01, min_samples_split=3,\n",
       "            min_weight_fraction_leaf=0.0, presort=False, random_state=None,\n",
       "            splitter='best')"
      ]
     },
     "execution_count": 304,
     "metadata": {},
     "output_type": "execute_result"
    }
   ],
   "source": [
    "# Build a Decision Tree classifier with min_samples_leaf = 0.01 and min_samples_split = 3\n",
    "\n",
    "clf_af_dt = DecisionTreeClassifier(min_samples_leaf=0.01, min_samples_split=3)\n",
    "clf_af_dt.fit(X_train_af, Y_train_af)"
   ]
  },
  {
   "cell_type": "code",
   "execution_count": 387,
   "metadata": {},
   "outputs": [
    {
     "data": {
      "text/plain": [
       "['./Aggregate Classifiers/clf_af_dt.joblib']"
      ]
     },
     "execution_count": 387,
     "metadata": {},
     "output_type": "execute_result"
    }
   ],
   "source": [
    "# Save the classifier\n",
    "\n",
    "dump(clf_af_dt, './Aggregate Classifiers/clf_af_dt.joblib')"
   ]
  },
  {
   "cell_type": "markdown",
   "metadata": {},
   "source": [
    "__6) K-Nearest Neighbors__"
   ]
  },
  {
   "cell_type": "code",
   "execution_count": 408,
   "metadata": {},
   "outputs": [
    {
     "data": {
      "text/plain": [
       "GridSearchCV(cv=5, error_score='raise',\n",
       "       estimator=KNeighborsClassifier(algorithm='auto', leaf_size=30, metric='minkowski',\n",
       "           metric_params=None, n_jobs=1, n_neighbors=5, p=2,\n",
       "           weights='uniform'),\n",
       "       fit_params=None, iid=True, n_jobs=1,\n",
       "       param_grid={'n_neighbors': array([ 5, 10, 15, 20]), 'weights': ['uniform', 'distance']},\n",
       "       pre_dispatch='2*n_jobs', refit=True, return_train_score='warn',\n",
       "       scoring='accuracy', verbose=0)"
      ]
     },
     "execution_count": 408,
     "metadata": {},
     "output_type": "execute_result"
    }
   ],
   "source": [
    "from sklearn.neighbors import KNeighborsClassifier\n",
    "\n",
    "# Use grid search with cross-validation to find out the optimal hyperparameters, in this case, n_neighbors and weights\n",
    "param_grid = {'n_neighbors': np.array([5, 10, 15, 20]), 'weights': ['uniform', 'distance']}\n",
    "clf_af_knn_cv = GridSearchCV(KNeighborsClassifier(), param_grid, scoring='accuracy', cv=5)\n",
    "clf_af_knn_cv.fit(X_train_af_scaled, Y_train_af)"
   ]
  },
  {
   "cell_type": "code",
   "execution_count": 410,
   "metadata": {},
   "outputs": [
    {
     "data": {
      "text/plain": [
       "{'n_neighbors': 5, 'weights': 'distance'}"
      ]
     },
     "execution_count": 410,
     "metadata": {},
     "output_type": "execute_result"
    }
   ],
   "source": [
    "clf_af_knn_cv.best_params_"
   ]
  },
  {
   "cell_type": "markdown",
   "metadata": {},
   "source": [
    "It turns out that a K-Neighbors classifier with n_neighbors = 5 and weights = 'distance' yields the best performance based on accuracy."
   ]
  },
  {
   "cell_type": "code",
   "execution_count": 411,
   "metadata": {},
   "outputs": [
    {
     "data": {
      "text/plain": [
       "KNeighborsClassifier(algorithm='auto', leaf_size=30, metric='minkowski',\n",
       "           metric_params=None, n_jobs=1, n_neighbors=5, p=2,\n",
       "           weights='distance')"
      ]
     },
     "execution_count": 411,
     "metadata": {},
     "output_type": "execute_result"
    }
   ],
   "source": [
    "clf_af_knn = KNeighborsClassifier(n_neighbors=5, weights='distance')\n",
    "clf_af_knn.fit(X_train_af_scaled, Y_train_af)"
   ]
  },
  {
   "cell_type": "code",
   "execution_count": 412,
   "metadata": {},
   "outputs": [
    {
     "data": {
      "text/plain": [
       "['./Aggregate Classifiers/clf_af_knn.joblib']"
      ]
     },
     "execution_count": 412,
     "metadata": {},
     "output_type": "execute_result"
    }
   ],
   "source": [
    "# Save the classifier\n",
    "\n",
    "dump(clf_af_knn, './Aggregate Classifiers/clf_af_knn.joblib')"
   ]
  },
  {
   "cell_type": "markdown",
   "metadata": {},
   "source": [
    "### II. Pseudo-Rasterized Features\n",
    "\n",
    "In this section, we will build and fit 6 classifiers for the dataset corresponding to each pseudo-rasterized features. Due to the large number of steps, we will build classifiers for each dataset by the type of machine learning method. More specifically, each machine learning method will have a list of 27 classifiers trained on the corresponding featured dataset.\n",
    "\n",
    "We will define a function for each machine learning algorithm to automate the entire training process, which consists of hyperparameter tuning and fitting, and apply the function on the datasets iteratively."
   ]
  },
  {
   "cell_type": "markdown",
   "metadata": {},
   "source": [
    "First, we conduct the train/test split on each dataset using two functions and store the pointers into two lists."
   ]
  },
  {
   "cell_type": "code",
   "execution_count": 327,
   "metadata": {},
   "outputs": [],
   "source": [
    "# Define a function to automate the reading and splitting of the datasets\n",
    "\n",
    "def get_training_test_set(file_name, train, test):\n",
    "    temp_data = pd.read_csv(file_name, header=0, index_col=0)\n",
    "    X_train = temp_data.drop(columns=['Class', 'User']).loc[train]\n",
    "    Y_train = temp_data.Class.loc[train]\n",
    "    X_test = temp_data.drop(columns=['Class', 'User']).loc[test]\n",
    "    Y_test = temp_data.Class.loc[test]        \n",
    "    return [(X_train, Y_train), (X_test, Y_test)]"
   ]
  },
  {
   "cell_type": "code",
   "execution_count": 323,
   "metadata": {},
   "outputs": [],
   "source": [
    "file_name_list = ['pr_321.csv', 'pr_322.csv', 'pr_323.csv', 'pr_331.csv', 'pr_332.csv', 'pr_333.csv', 'pr_341.csv', 'pr_342.csv', 'pr_343.csv', 'pr_421.csv', 'pr_422.csv', 'pr_423.csv', 'pr_431.csv', 'pr_432.csv', 'pr_433.csv', 'pr_441.csv', 'pr_442.csv', 'pr_443.csv', 'pr_521.csv', 'pr_522.csv', 'pr_523.csv', 'pr_531.csv', 'pr_532.csv', 'pr_533.csv', 'pr_541.csv', 'pr_542.csv', 'pr_543.csv']"
   ]
  },
  {
   "cell_type": "code",
   "execution_count": 328,
   "metadata": {},
   "outputs": [],
   "source": [
    "temp_list = [get_training_test_set(file, train_index, test_index) for file in file_name_list]"
   ]
  },
  {
   "cell_type": "code",
   "execution_count": 329,
   "metadata": {},
   "outputs": [],
   "source": [
    "# Put the training sets and test sets into two separate lists\n",
    "\n",
    "pr_training_sets = [item[0] for item in temp_list]\n",
    "pr_test_sets = [item[1] for item in temp_list]"
   ]
  },
  {
   "cell_type": "markdown",
   "metadata": {},
   "source": [
    "__1) Naive Bayes__  (stored in clf_pr_nb)"
   ]
  },
  {
   "cell_type": "code",
   "execution_count": 337,
   "metadata": {},
   "outputs": [],
   "source": [
    "def get_clf_nb(training_set):\n",
    "    X_train = training_set[0]\n",
    "    Y_train = training_set[1]\n",
    "    clf_nb = GaussianNB()\n",
    "    clf_nb.fit(X_train, Y_train)\n",
    "    return clf_nb"
   ]
  },
  {
   "cell_type": "code",
   "execution_count": 339,
   "metadata": {},
   "outputs": [],
   "source": [
    "clf_pr_nb = [get_clf_nb(item) for item in pr_training_sets]"
   ]
  },
  {
   "cell_type": "code",
   "execution_count": 390,
   "metadata": {},
   "outputs": [],
   "source": [
    "# Save the classifiers\n",
    "\n",
    "for i in range(len(clf_pr_nb)):\n",
    "    dump(clf_pr_nb[i], './Pseudo-rasterized Classifiers/clf_' + file_name_list[i].split('.')[0]+ '_nb.joblib')"
   ]
  },
  {
   "cell_type": "markdown",
   "metadata": {},
   "source": [
    "__2) Linear Discriminant Analysis__ (stored in clf_pr_lda)"
   ]
  },
  {
   "cell_type": "code",
   "execution_count": 341,
   "metadata": {},
   "outputs": [],
   "source": [
    "def get_clf_lda(training_set):\n",
    "    X_train = training_set[0]\n",
    "    Y_train = training_set[1]\n",
    "    clf_lda = LinearDiscriminantAnalysis()\n",
    "    clf_lda.fit(X_train, Y_train)\n",
    "    return clf_lda"
   ]
  },
  {
   "cell_type": "code",
   "execution_count": 342,
   "metadata": {},
   "outputs": [
    {
     "name": "stderr",
     "output_type": "stream",
     "text": [
      "/Users/zexi_ye/anaconda3/lib/python3.6/site-packages/sklearn/discriminant_analysis.py:388: UserWarning: Variables are collinear.\n",
      "  warnings.warn(\"Variables are collinear.\")\n"
     ]
    }
   ],
   "source": [
    "clf_pr_lda = [get_clf_lda(item) for item in pr_training_sets]"
   ]
  },
  {
   "cell_type": "code",
   "execution_count": 394,
   "metadata": {},
   "outputs": [],
   "source": [
    "# Save the classifiers\n",
    "\n",
    "for i in range(len(clf_pr_lda)):\n",
    "    dump(clf_pr_lda[i], './Pseudo-rasterized Classifiers/clf_' + file_name_list[i].split('.')[0]+ '_lda.joblib')"
   ]
  },
  {
   "cell_type": "markdown",
   "metadata": {},
   "source": [
    "__3) Quadratic Discriminant Analysis__ (stored in clf_pr_qda)"
   ]
  },
  {
   "cell_type": "code",
   "execution_count": 351,
   "metadata": {},
   "outputs": [],
   "source": [
    "def get_clf_qda(training_set):\n",
    "    X_train = training_set[0]\n",
    "    Y_train = training_set[1]\n",
    "    param_grid = {'reg_param': [0, 0.01, 0.05, 0.1, 0.5]}\n",
    "    clf_qda_cv = GridSearchCV(QuadraticDiscriminantAnalysis(), param_grid, scoring='accuracy', cv=5)\n",
    "    clf_qda_cv.fit(X_train, Y_train)\n",
    "    return clf_qda_cv.best_estimator_"
   ]
  },
  {
   "cell_type": "code",
   "execution_count": 352,
   "metadata": {},
   "outputs": [
    {
     "name": "stderr",
     "output_type": "stream",
     "text": [
      "/Users/zexi_ye/anaconda3/lib/python3.6/site-packages/sklearn/discriminant_analysis.py:682: UserWarning: Variables are collinear\n",
      "  warnings.warn(\"Variables are collinear\")\n",
      "/Users/zexi_ye/anaconda3/lib/python3.6/site-packages/sklearn/discriminant_analysis.py:682: UserWarning: Variables are collinear\n",
      "  warnings.warn(\"Variables are collinear\")\n",
      "/Users/zexi_ye/anaconda3/lib/python3.6/site-packages/sklearn/discriminant_analysis.py:682: UserWarning: Variables are collinear\n",
      "  warnings.warn(\"Variables are collinear\")\n",
      "/Users/zexi_ye/anaconda3/lib/python3.6/site-packages/sklearn/discriminant_analysis.py:682: UserWarning: Variables are collinear\n",
      "  warnings.warn(\"Variables are collinear\")\n",
      "/Users/zexi_ye/anaconda3/lib/python3.6/site-packages/sklearn/discriminant_analysis.py:682: UserWarning: Variables are collinear\n",
      "  warnings.warn(\"Variables are collinear\")\n",
      "/Users/zexi_ye/anaconda3/lib/python3.6/site-packages/sklearn/discriminant_analysis.py:682: UserWarning: Variables are collinear\n",
      "  warnings.warn(\"Variables are collinear\")\n",
      "/Users/zexi_ye/anaconda3/lib/python3.6/site-packages/sklearn/discriminant_analysis.py:682: UserWarning: Variables are collinear\n",
      "  warnings.warn(\"Variables are collinear\")\n",
      "/Users/zexi_ye/anaconda3/lib/python3.6/site-packages/sklearn/discriminant_analysis.py:682: UserWarning: Variables are collinear\n",
      "  warnings.warn(\"Variables are collinear\")\n",
      "/Users/zexi_ye/anaconda3/lib/python3.6/site-packages/sklearn/discriminant_analysis.py:682: UserWarning: Variables are collinear\n",
      "  warnings.warn(\"Variables are collinear\")\n",
      "/Users/zexi_ye/anaconda3/lib/python3.6/site-packages/sklearn/discriminant_analysis.py:682: UserWarning: Variables are collinear\n",
      "  warnings.warn(\"Variables are collinear\")\n",
      "/Users/zexi_ye/anaconda3/lib/python3.6/site-packages/sklearn/discriminant_analysis.py:682: UserWarning: Variables are collinear\n",
      "  warnings.warn(\"Variables are collinear\")\n",
      "/Users/zexi_ye/anaconda3/lib/python3.6/site-packages/sklearn/discriminant_analysis.py:682: UserWarning: Variables are collinear\n",
      "  warnings.warn(\"Variables are collinear\")\n",
      "/Users/zexi_ye/anaconda3/lib/python3.6/site-packages/sklearn/discriminant_analysis.py:682: UserWarning: Variables are collinear\n",
      "  warnings.warn(\"Variables are collinear\")\n",
      "/Users/zexi_ye/anaconda3/lib/python3.6/site-packages/sklearn/discriminant_analysis.py:682: UserWarning: Variables are collinear\n",
      "  warnings.warn(\"Variables are collinear\")\n",
      "/Users/zexi_ye/anaconda3/lib/python3.6/site-packages/sklearn/discriminant_analysis.py:682: UserWarning: Variables are collinear\n",
      "  warnings.warn(\"Variables are collinear\")\n",
      "/Users/zexi_ye/anaconda3/lib/python3.6/site-packages/sklearn/discriminant_analysis.py:682: UserWarning: Variables are collinear\n",
      "  warnings.warn(\"Variables are collinear\")\n",
      "/Users/zexi_ye/anaconda3/lib/python3.6/site-packages/sklearn/discriminant_analysis.py:682: UserWarning: Variables are collinear\n",
      "  warnings.warn(\"Variables are collinear\")\n",
      "/Users/zexi_ye/anaconda3/lib/python3.6/site-packages/sklearn/discriminant_analysis.py:682: UserWarning: Variables are collinear\n",
      "  warnings.warn(\"Variables are collinear\")\n",
      "/Users/zexi_ye/anaconda3/lib/python3.6/site-packages/sklearn/discriminant_analysis.py:682: UserWarning: Variables are collinear\n",
      "  warnings.warn(\"Variables are collinear\")\n",
      "/Users/zexi_ye/anaconda3/lib/python3.6/site-packages/sklearn/discriminant_analysis.py:682: UserWarning: Variables are collinear\n",
      "  warnings.warn(\"Variables are collinear\")\n",
      "/Users/zexi_ye/anaconda3/lib/python3.6/site-packages/sklearn/discriminant_analysis.py:682: UserWarning: Variables are collinear\n",
      "  warnings.warn(\"Variables are collinear\")\n",
      "/Users/zexi_ye/anaconda3/lib/python3.6/site-packages/sklearn/discriminant_analysis.py:682: UserWarning: Variables are collinear\n",
      "  warnings.warn(\"Variables are collinear\")\n",
      "/Users/zexi_ye/anaconda3/lib/python3.6/site-packages/sklearn/discriminant_analysis.py:682: UserWarning: Variables are collinear\n",
      "  warnings.warn(\"Variables are collinear\")\n",
      "/Users/zexi_ye/anaconda3/lib/python3.6/site-packages/sklearn/discriminant_analysis.py:682: UserWarning: Variables are collinear\n",
      "  warnings.warn(\"Variables are collinear\")\n",
      "/Users/zexi_ye/anaconda3/lib/python3.6/site-packages/sklearn/discriminant_analysis.py:682: UserWarning: Variables are collinear\n",
      "  warnings.warn(\"Variables are collinear\")\n",
      "/Users/zexi_ye/anaconda3/lib/python3.6/site-packages/sklearn/discriminant_analysis.py:682: UserWarning: Variables are collinear\n",
      "  warnings.warn(\"Variables are collinear\")\n",
      "/Users/zexi_ye/anaconda3/lib/python3.6/site-packages/sklearn/discriminant_analysis.py:682: UserWarning: Variables are collinear\n",
      "  warnings.warn(\"Variables are collinear\")\n",
      "/Users/zexi_ye/anaconda3/lib/python3.6/site-packages/sklearn/discriminant_analysis.py:682: UserWarning: Variables are collinear\n",
      "  warnings.warn(\"Variables are collinear\")\n",
      "/Users/zexi_ye/anaconda3/lib/python3.6/site-packages/sklearn/discriminant_analysis.py:682: UserWarning: Variables are collinear\n",
      "  warnings.warn(\"Variables are collinear\")\n",
      "/Users/zexi_ye/anaconda3/lib/python3.6/site-packages/sklearn/discriminant_analysis.py:682: UserWarning: Variables are collinear\n",
      "  warnings.warn(\"Variables are collinear\")\n",
      "/Users/zexi_ye/anaconda3/lib/python3.6/site-packages/sklearn/discriminant_analysis.py:682: UserWarning: Variables are collinear\n",
      "  warnings.warn(\"Variables are collinear\")\n",
      "/Users/zexi_ye/anaconda3/lib/python3.6/site-packages/sklearn/discriminant_analysis.py:682: UserWarning: Variables are collinear\n",
      "  warnings.warn(\"Variables are collinear\")\n",
      "/Users/zexi_ye/anaconda3/lib/python3.6/site-packages/sklearn/discriminant_analysis.py:682: UserWarning: Variables are collinear\n",
      "  warnings.warn(\"Variables are collinear\")\n",
      "/Users/zexi_ye/anaconda3/lib/python3.6/site-packages/sklearn/discriminant_analysis.py:682: UserWarning: Variables are collinear\n",
      "  warnings.warn(\"Variables are collinear\")\n",
      "/Users/zexi_ye/anaconda3/lib/python3.6/site-packages/sklearn/discriminant_analysis.py:682: UserWarning: Variables are collinear\n",
      "  warnings.warn(\"Variables are collinear\")\n",
      "/Users/zexi_ye/anaconda3/lib/python3.6/site-packages/sklearn/discriminant_analysis.py:682: UserWarning: Variables are collinear\n",
      "  warnings.warn(\"Variables are collinear\")\n",
      "/Users/zexi_ye/anaconda3/lib/python3.6/site-packages/sklearn/discriminant_analysis.py:682: UserWarning: Variables are collinear\n",
      "  warnings.warn(\"Variables are collinear\")\n",
      "/Users/zexi_ye/anaconda3/lib/python3.6/site-packages/sklearn/discriminant_analysis.py:682: UserWarning: Variables are collinear\n",
      "  warnings.warn(\"Variables are collinear\")\n",
      "/Users/zexi_ye/anaconda3/lib/python3.6/site-packages/sklearn/discriminant_analysis.py:682: UserWarning: Variables are collinear\n",
      "  warnings.warn(\"Variables are collinear\")\n",
      "/Users/zexi_ye/anaconda3/lib/python3.6/site-packages/sklearn/discriminant_analysis.py:682: UserWarning: Variables are collinear\n",
      "  warnings.warn(\"Variables are collinear\")\n",
      "/Users/zexi_ye/anaconda3/lib/python3.6/site-packages/sklearn/discriminant_analysis.py:682: UserWarning: Variables are collinear\n",
      "  warnings.warn(\"Variables are collinear\")\n",
      "/Users/zexi_ye/anaconda3/lib/python3.6/site-packages/sklearn/discriminant_analysis.py:682: UserWarning: Variables are collinear\n",
      "  warnings.warn(\"Variables are collinear\")\n",
      "/Users/zexi_ye/anaconda3/lib/python3.6/site-packages/sklearn/discriminant_analysis.py:682: UserWarning: Variables are collinear\n",
      "  warnings.warn(\"Variables are collinear\")\n",
      "/Users/zexi_ye/anaconda3/lib/python3.6/site-packages/sklearn/discriminant_analysis.py:682: UserWarning: Variables are collinear\n",
      "  warnings.warn(\"Variables are collinear\")\n",
      "/Users/zexi_ye/anaconda3/lib/python3.6/site-packages/sklearn/discriminant_analysis.py:682: UserWarning: Variables are collinear\n",
      "  warnings.warn(\"Variables are collinear\")\n",
      "/Users/zexi_ye/anaconda3/lib/python3.6/site-packages/sklearn/discriminant_analysis.py:682: UserWarning: Variables are collinear\n",
      "  warnings.warn(\"Variables are collinear\")\n",
      "/Users/zexi_ye/anaconda3/lib/python3.6/site-packages/sklearn/discriminant_analysis.py:682: UserWarning: Variables are collinear\n",
      "  warnings.warn(\"Variables are collinear\")\n",
      "/Users/zexi_ye/anaconda3/lib/python3.6/site-packages/sklearn/discriminant_analysis.py:682: UserWarning: Variables are collinear\n",
      "  warnings.warn(\"Variables are collinear\")\n"
     ]
    },
    {
     "name": "stderr",
     "output_type": "stream",
     "text": [
      "/Users/zexi_ye/anaconda3/lib/python3.6/site-packages/sklearn/discriminant_analysis.py:682: UserWarning: Variables are collinear\n",
      "  warnings.warn(\"Variables are collinear\")\n",
      "/Users/zexi_ye/anaconda3/lib/python3.6/site-packages/sklearn/discriminant_analysis.py:682: UserWarning: Variables are collinear\n",
      "  warnings.warn(\"Variables are collinear\")\n",
      "/Users/zexi_ye/anaconda3/lib/python3.6/site-packages/sklearn/discriminant_analysis.py:682: UserWarning: Variables are collinear\n",
      "  warnings.warn(\"Variables are collinear\")\n",
      "/Users/zexi_ye/anaconda3/lib/python3.6/site-packages/sklearn/discriminant_analysis.py:682: UserWarning: Variables are collinear\n",
      "  warnings.warn(\"Variables are collinear\")\n",
      "/Users/zexi_ye/anaconda3/lib/python3.6/site-packages/sklearn/discriminant_analysis.py:682: UserWarning: Variables are collinear\n",
      "  warnings.warn(\"Variables are collinear\")\n",
      "/Users/zexi_ye/anaconda3/lib/python3.6/site-packages/sklearn/discriminant_analysis.py:682: UserWarning: Variables are collinear\n",
      "  warnings.warn(\"Variables are collinear\")\n",
      "/Users/zexi_ye/anaconda3/lib/python3.6/site-packages/sklearn/discriminant_analysis.py:682: UserWarning: Variables are collinear\n",
      "  warnings.warn(\"Variables are collinear\")\n",
      "/Users/zexi_ye/anaconda3/lib/python3.6/site-packages/sklearn/discriminant_analysis.py:682: UserWarning: Variables are collinear\n",
      "  warnings.warn(\"Variables are collinear\")\n",
      "/Users/zexi_ye/anaconda3/lib/python3.6/site-packages/sklearn/discriminant_analysis.py:682: UserWarning: Variables are collinear\n",
      "  warnings.warn(\"Variables are collinear\")\n",
      "/Users/zexi_ye/anaconda3/lib/python3.6/site-packages/sklearn/discriminant_analysis.py:682: UserWarning: Variables are collinear\n",
      "  warnings.warn(\"Variables are collinear\")\n",
      "/Users/zexi_ye/anaconda3/lib/python3.6/site-packages/sklearn/discriminant_analysis.py:682: UserWarning: Variables are collinear\n",
      "  warnings.warn(\"Variables are collinear\")\n",
      "/Users/zexi_ye/anaconda3/lib/python3.6/site-packages/sklearn/discriminant_analysis.py:682: UserWarning: Variables are collinear\n",
      "  warnings.warn(\"Variables are collinear\")\n",
      "/Users/zexi_ye/anaconda3/lib/python3.6/site-packages/sklearn/discriminant_analysis.py:682: UserWarning: Variables are collinear\n",
      "  warnings.warn(\"Variables are collinear\")\n",
      "/Users/zexi_ye/anaconda3/lib/python3.6/site-packages/sklearn/discriminant_analysis.py:682: UserWarning: Variables are collinear\n",
      "  warnings.warn(\"Variables are collinear\")\n",
      "/Users/zexi_ye/anaconda3/lib/python3.6/site-packages/sklearn/discriminant_analysis.py:682: UserWarning: Variables are collinear\n",
      "  warnings.warn(\"Variables are collinear\")\n",
      "/Users/zexi_ye/anaconda3/lib/python3.6/site-packages/sklearn/discriminant_analysis.py:682: UserWarning: Variables are collinear\n",
      "  warnings.warn(\"Variables are collinear\")\n",
      "/Users/zexi_ye/anaconda3/lib/python3.6/site-packages/sklearn/discriminant_analysis.py:682: UserWarning: Variables are collinear\n",
      "  warnings.warn(\"Variables are collinear\")\n",
      "/Users/zexi_ye/anaconda3/lib/python3.6/site-packages/sklearn/discriminant_analysis.py:682: UserWarning: Variables are collinear\n",
      "  warnings.warn(\"Variables are collinear\")\n",
      "/Users/zexi_ye/anaconda3/lib/python3.6/site-packages/sklearn/discriminant_analysis.py:682: UserWarning: Variables are collinear\n",
      "  warnings.warn(\"Variables are collinear\")\n",
      "/Users/zexi_ye/anaconda3/lib/python3.6/site-packages/sklearn/discriminant_analysis.py:682: UserWarning: Variables are collinear\n",
      "  warnings.warn(\"Variables are collinear\")\n",
      "/Users/zexi_ye/anaconda3/lib/python3.6/site-packages/sklearn/discriminant_analysis.py:682: UserWarning: Variables are collinear\n",
      "  warnings.warn(\"Variables are collinear\")\n",
      "/Users/zexi_ye/anaconda3/lib/python3.6/site-packages/sklearn/discriminant_analysis.py:682: UserWarning: Variables are collinear\n",
      "  warnings.warn(\"Variables are collinear\")\n",
      "/Users/zexi_ye/anaconda3/lib/python3.6/site-packages/sklearn/discriminant_analysis.py:682: UserWarning: Variables are collinear\n",
      "  warnings.warn(\"Variables are collinear\")\n",
      "/Users/zexi_ye/anaconda3/lib/python3.6/site-packages/sklearn/discriminant_analysis.py:682: UserWarning: Variables are collinear\n",
      "  warnings.warn(\"Variables are collinear\")\n",
      "/Users/zexi_ye/anaconda3/lib/python3.6/site-packages/sklearn/discriminant_analysis.py:682: UserWarning: Variables are collinear\n",
      "  warnings.warn(\"Variables are collinear\")\n",
      "/Users/zexi_ye/anaconda3/lib/python3.6/site-packages/sklearn/discriminant_analysis.py:682: UserWarning: Variables are collinear\n",
      "  warnings.warn(\"Variables are collinear\")\n",
      "/Users/zexi_ye/anaconda3/lib/python3.6/site-packages/sklearn/discriminant_analysis.py:682: UserWarning: Variables are collinear\n",
      "  warnings.warn(\"Variables are collinear\")\n",
      "/Users/zexi_ye/anaconda3/lib/python3.6/site-packages/sklearn/discriminant_analysis.py:682: UserWarning: Variables are collinear\n",
      "  warnings.warn(\"Variables are collinear\")\n",
      "/Users/zexi_ye/anaconda3/lib/python3.6/site-packages/sklearn/discriminant_analysis.py:682: UserWarning: Variables are collinear\n",
      "  warnings.warn(\"Variables are collinear\")\n",
      "/Users/zexi_ye/anaconda3/lib/python3.6/site-packages/sklearn/discriminant_analysis.py:682: UserWarning: Variables are collinear\n",
      "  warnings.warn(\"Variables are collinear\")\n",
      "/Users/zexi_ye/anaconda3/lib/python3.6/site-packages/sklearn/discriminant_analysis.py:682: UserWarning: Variables are collinear\n",
      "  warnings.warn(\"Variables are collinear\")\n",
      "/Users/zexi_ye/anaconda3/lib/python3.6/site-packages/sklearn/discriminant_analysis.py:682: UserWarning: Variables are collinear\n",
      "  warnings.warn(\"Variables are collinear\")\n",
      "/Users/zexi_ye/anaconda3/lib/python3.6/site-packages/sklearn/discriminant_analysis.py:682: UserWarning: Variables are collinear\n",
      "  warnings.warn(\"Variables are collinear\")\n",
      "/Users/zexi_ye/anaconda3/lib/python3.6/site-packages/sklearn/discriminant_analysis.py:682: UserWarning: Variables are collinear\n",
      "  warnings.warn(\"Variables are collinear\")\n",
      "/Users/zexi_ye/anaconda3/lib/python3.6/site-packages/sklearn/discriminant_analysis.py:682: UserWarning: Variables are collinear\n",
      "  warnings.warn(\"Variables are collinear\")\n",
      "/Users/zexi_ye/anaconda3/lib/python3.6/site-packages/sklearn/discriminant_analysis.py:682: UserWarning: Variables are collinear\n",
      "  warnings.warn(\"Variables are collinear\")\n",
      "/Users/zexi_ye/anaconda3/lib/python3.6/site-packages/sklearn/discriminant_analysis.py:682: UserWarning: Variables are collinear\n",
      "  warnings.warn(\"Variables are collinear\")\n",
      "/Users/zexi_ye/anaconda3/lib/python3.6/site-packages/sklearn/discriminant_analysis.py:682: UserWarning: Variables are collinear\n",
      "  warnings.warn(\"Variables are collinear\")\n",
      "/Users/zexi_ye/anaconda3/lib/python3.6/site-packages/sklearn/discriminant_analysis.py:682: UserWarning: Variables are collinear\n",
      "  warnings.warn(\"Variables are collinear\")\n",
      "/Users/zexi_ye/anaconda3/lib/python3.6/site-packages/sklearn/discriminant_analysis.py:682: UserWarning: Variables are collinear\n",
      "  warnings.warn(\"Variables are collinear\")\n",
      "/Users/zexi_ye/anaconda3/lib/python3.6/site-packages/sklearn/discriminant_analysis.py:682: UserWarning: Variables are collinear\n",
      "  warnings.warn(\"Variables are collinear\")\n",
      "/Users/zexi_ye/anaconda3/lib/python3.6/site-packages/sklearn/discriminant_analysis.py:682: UserWarning: Variables are collinear\n",
      "  warnings.warn(\"Variables are collinear\")\n",
      "/Users/zexi_ye/anaconda3/lib/python3.6/site-packages/sklearn/discriminant_analysis.py:682: UserWarning: Variables are collinear\n",
      "  warnings.warn(\"Variables are collinear\")\n",
      "/Users/zexi_ye/anaconda3/lib/python3.6/site-packages/sklearn/discriminant_analysis.py:682: UserWarning: Variables are collinear\n",
      "  warnings.warn(\"Variables are collinear\")\n",
      "/Users/zexi_ye/anaconda3/lib/python3.6/site-packages/sklearn/discriminant_analysis.py:682: UserWarning: Variables are collinear\n",
      "  warnings.warn(\"Variables are collinear\")\n",
      "/Users/zexi_ye/anaconda3/lib/python3.6/site-packages/sklearn/discriminant_analysis.py:682: UserWarning: Variables are collinear\n",
      "  warnings.warn(\"Variables are collinear\")\n",
      "/Users/zexi_ye/anaconda3/lib/python3.6/site-packages/sklearn/discriminant_analysis.py:682: UserWarning: Variables are collinear\n",
      "  warnings.warn(\"Variables are collinear\")\n",
      "/Users/zexi_ye/anaconda3/lib/python3.6/site-packages/sklearn/discriminant_analysis.py:682: UserWarning: Variables are collinear\n",
      "  warnings.warn(\"Variables are collinear\")\n"
     ]
    },
    {
     "name": "stderr",
     "output_type": "stream",
     "text": [
      "/Users/zexi_ye/anaconda3/lib/python3.6/site-packages/sklearn/discriminant_analysis.py:682: UserWarning: Variables are collinear\n",
      "  warnings.warn(\"Variables are collinear\")\n",
      "/Users/zexi_ye/anaconda3/lib/python3.6/site-packages/sklearn/discriminant_analysis.py:682: UserWarning: Variables are collinear\n",
      "  warnings.warn(\"Variables are collinear\")\n",
      "/Users/zexi_ye/anaconda3/lib/python3.6/site-packages/sklearn/discriminant_analysis.py:682: UserWarning: Variables are collinear\n",
      "  warnings.warn(\"Variables are collinear\")\n",
      "/Users/zexi_ye/anaconda3/lib/python3.6/site-packages/sklearn/discriminant_analysis.py:682: UserWarning: Variables are collinear\n",
      "  warnings.warn(\"Variables are collinear\")\n",
      "/Users/zexi_ye/anaconda3/lib/python3.6/site-packages/sklearn/discriminant_analysis.py:682: UserWarning: Variables are collinear\n",
      "  warnings.warn(\"Variables are collinear\")\n",
      "/Users/zexi_ye/anaconda3/lib/python3.6/site-packages/sklearn/discriminant_analysis.py:682: UserWarning: Variables are collinear\n",
      "  warnings.warn(\"Variables are collinear\")\n",
      "/Users/zexi_ye/anaconda3/lib/python3.6/site-packages/sklearn/discriminant_analysis.py:682: UserWarning: Variables are collinear\n",
      "  warnings.warn(\"Variables are collinear\")\n",
      "/Users/zexi_ye/anaconda3/lib/python3.6/site-packages/sklearn/discriminant_analysis.py:682: UserWarning: Variables are collinear\n",
      "  warnings.warn(\"Variables are collinear\")\n",
      "/Users/zexi_ye/anaconda3/lib/python3.6/site-packages/sklearn/discriminant_analysis.py:682: UserWarning: Variables are collinear\n",
      "  warnings.warn(\"Variables are collinear\")\n",
      "/Users/zexi_ye/anaconda3/lib/python3.6/site-packages/sklearn/discriminant_analysis.py:682: UserWarning: Variables are collinear\n",
      "  warnings.warn(\"Variables are collinear\")\n",
      "/Users/zexi_ye/anaconda3/lib/python3.6/site-packages/sklearn/discriminant_analysis.py:682: UserWarning: Variables are collinear\n",
      "  warnings.warn(\"Variables are collinear\")\n",
      "/Users/zexi_ye/anaconda3/lib/python3.6/site-packages/sklearn/discriminant_analysis.py:682: UserWarning: Variables are collinear\n",
      "  warnings.warn(\"Variables are collinear\")\n",
      "/Users/zexi_ye/anaconda3/lib/python3.6/site-packages/sklearn/discriminant_analysis.py:682: UserWarning: Variables are collinear\n",
      "  warnings.warn(\"Variables are collinear\")\n",
      "/Users/zexi_ye/anaconda3/lib/python3.6/site-packages/sklearn/discriminant_analysis.py:682: UserWarning: Variables are collinear\n",
      "  warnings.warn(\"Variables are collinear\")\n",
      "/Users/zexi_ye/anaconda3/lib/python3.6/site-packages/sklearn/discriminant_analysis.py:682: UserWarning: Variables are collinear\n",
      "  warnings.warn(\"Variables are collinear\")\n",
      "/Users/zexi_ye/anaconda3/lib/python3.6/site-packages/sklearn/discriminant_analysis.py:682: UserWarning: Variables are collinear\n",
      "  warnings.warn(\"Variables are collinear\")\n",
      "/Users/zexi_ye/anaconda3/lib/python3.6/site-packages/sklearn/discriminant_analysis.py:682: UserWarning: Variables are collinear\n",
      "  warnings.warn(\"Variables are collinear\")\n",
      "/Users/zexi_ye/anaconda3/lib/python3.6/site-packages/sklearn/discriminant_analysis.py:682: UserWarning: Variables are collinear\n",
      "  warnings.warn(\"Variables are collinear\")\n",
      "/Users/zexi_ye/anaconda3/lib/python3.6/site-packages/sklearn/discriminant_analysis.py:682: UserWarning: Variables are collinear\n",
      "  warnings.warn(\"Variables are collinear\")\n",
      "/Users/zexi_ye/anaconda3/lib/python3.6/site-packages/sklearn/discriminant_analysis.py:682: UserWarning: Variables are collinear\n",
      "  warnings.warn(\"Variables are collinear\")\n",
      "/Users/zexi_ye/anaconda3/lib/python3.6/site-packages/sklearn/discriminant_analysis.py:682: UserWarning: Variables are collinear\n",
      "  warnings.warn(\"Variables are collinear\")\n",
      "/Users/zexi_ye/anaconda3/lib/python3.6/site-packages/sklearn/discriminant_analysis.py:682: UserWarning: Variables are collinear\n",
      "  warnings.warn(\"Variables are collinear\")\n",
      "/Users/zexi_ye/anaconda3/lib/python3.6/site-packages/sklearn/discriminant_analysis.py:682: UserWarning: Variables are collinear\n",
      "  warnings.warn(\"Variables are collinear\")\n",
      "/Users/zexi_ye/anaconda3/lib/python3.6/site-packages/sklearn/discriminant_analysis.py:682: UserWarning: Variables are collinear\n",
      "  warnings.warn(\"Variables are collinear\")\n",
      "/Users/zexi_ye/anaconda3/lib/python3.6/site-packages/sklearn/discriminant_analysis.py:682: UserWarning: Variables are collinear\n",
      "  warnings.warn(\"Variables are collinear\")\n",
      "/Users/zexi_ye/anaconda3/lib/python3.6/site-packages/sklearn/discriminant_analysis.py:682: UserWarning: Variables are collinear\n",
      "  warnings.warn(\"Variables are collinear\")\n",
      "/Users/zexi_ye/anaconda3/lib/python3.6/site-packages/sklearn/discriminant_analysis.py:682: UserWarning: Variables are collinear\n",
      "  warnings.warn(\"Variables are collinear\")\n",
      "/Users/zexi_ye/anaconda3/lib/python3.6/site-packages/sklearn/discriminant_analysis.py:682: UserWarning: Variables are collinear\n",
      "  warnings.warn(\"Variables are collinear\")\n",
      "/Users/zexi_ye/anaconda3/lib/python3.6/site-packages/sklearn/discriminant_analysis.py:682: UserWarning: Variables are collinear\n",
      "  warnings.warn(\"Variables are collinear\")\n",
      "/Users/zexi_ye/anaconda3/lib/python3.6/site-packages/sklearn/discriminant_analysis.py:682: UserWarning: Variables are collinear\n",
      "  warnings.warn(\"Variables are collinear\")\n",
      "/Users/zexi_ye/anaconda3/lib/python3.6/site-packages/sklearn/discriminant_analysis.py:682: UserWarning: Variables are collinear\n",
      "  warnings.warn(\"Variables are collinear\")\n",
      "/Users/zexi_ye/anaconda3/lib/python3.6/site-packages/sklearn/discriminant_analysis.py:682: UserWarning: Variables are collinear\n",
      "  warnings.warn(\"Variables are collinear\")\n",
      "/Users/zexi_ye/anaconda3/lib/python3.6/site-packages/sklearn/discriminant_analysis.py:682: UserWarning: Variables are collinear\n",
      "  warnings.warn(\"Variables are collinear\")\n"
     ]
    }
   ],
   "source": [
    "clf_pr_qda = [get_clf_qda(item) for item in pr_training_sets]"
   ]
  },
  {
   "cell_type": "code",
   "execution_count": 395,
   "metadata": {},
   "outputs": [],
   "source": [
    "# Save the classifiers\n",
    "\n",
    "for i in range(len(clf_pr_qda)):\n",
    "    dump(clf_pr_qda[i], './Pseudo-rasterized Classifiers/clf_' + file_name_list[i].split('.')[0]+ '_qda.joblib')"
   ]
  },
  {
   "cell_type": "markdown",
   "metadata": {},
   "source": [
    "__4) Support Vector Machines__ (stored in clf_pr_svm)\n",
    "\n",
    "Due to the extremely large size of the training data, we select the first 20% of the training data as our validation set for hyperparameter tuning. Moreover, since the running time of fitting an SVM classifier is not scale-invariant, we first standardize the features to facilitate fitting."
   ]
  },
  {
   "cell_type": "code",
   "execution_count": 370,
   "metadata": {},
   "outputs": [],
   "source": [
    "def get_clf_svm(training_set):\n",
    "    X_train_scaled = preprocessing.scale(training_set[0])\n",
    "    Y_train = training_set[1]\n",
    "    X_train_subset_scaled = X_train_scaled[:int(X_train_scaled.shape[0] * 0.2), :]\n",
    "    Y_train_subset = Y_train.iloc[:int(X_train_scaled.shape[0] * 0.2)]\n",
    "    \n",
    "    param_grid = [{'C': np.array([1, 5, 10, 50, 100]), 'kernel': ['linear']}, {'C': np.array([1, 5, 10, 50, 100]), 'gamma': np.array([0.001, 0.01, 0.1]), 'kernel': ['poly', 'rbf']}]\n",
    "    clf_af_svm_cv = GridSearchCV(svm.SVC(), param_grid, scoring='accuracy', cv=5)\n",
    "    clf_af_svm_cv.fit(X_train_subset_scaled, Y_train_subset)\n",
    "\n",
    "    best = clf_af_svm_cv.best_estimator_\n",
    "    return best.fit(X_train_scaled, Y_train)"
   ]
  },
  {
   "cell_type": "code",
   "execution_count": null,
   "metadata": {},
   "outputs": [],
   "source": [
    "clf_pr_svm = [get_clf_svm(item) for item in pr_training_sets]"
   ]
  },
  {
   "cell_type": "code",
   "execution_count": 396,
   "metadata": {},
   "outputs": [],
   "source": [
    "# Save the classifiers\n",
    "\n",
    "for i in range(len(clf_pr_svm)):\n",
    "    dump(clf_pr_svm[i], './Pseudo-rasterized Classifiers/clf_' + file_name_list[i].split('.')[0]+ '_svm.joblib')"
   ]
  },
  {
   "cell_type": "markdown",
   "metadata": {},
   "source": [
    "__5) Decision Tree__ (stored in clf_pr_dt)"
   ]
  },
  {
   "cell_type": "code",
   "execution_count": 397,
   "metadata": {},
   "outputs": [],
   "source": [
    "def get_clf_dt(training_set):\n",
    "    X_train = training_set[0]\n",
    "    Y_train = training_set[1]\n",
    "    param_grid = {'max_depth': [None, 100, 75, 50], 'min_samples_split': np.array([3, 5, 10, 25]), 'min_samples_leaf': np.array([0.01, 0.02, 0.03, 0.04])}\n",
    "    clf_dt_cv = GridSearchCV(DecisionTreeClassifier(), param_grid, scoring='accuracy', cv=5)\n",
    "    clf_dt_cv.fit(X_train, Y_train)\n",
    "    return clf_dt_cv.best_estimator_"
   ]
  },
  {
   "cell_type": "code",
   "execution_count": 398,
   "metadata": {},
   "outputs": [],
   "source": [
    "clf_pr_dt = [get_clf_dt(item) for item in pr_training_sets]"
   ]
  },
  {
   "cell_type": "code",
   "execution_count": 399,
   "metadata": {},
   "outputs": [],
   "source": [
    "# Save the classifiers\n",
    "\n",
    "for i in range(len(clf_pr_dt)):\n",
    "    dump(clf_pr_dt[i], './Pseudo-rasterized Classifiers/clf_' + file_name_list[i].split('.')[0]+ '_dt.joblib')"
   ]
  },
  {
   "cell_type": "markdown",
   "metadata": {},
   "source": [
    "__6) K-Nearest Neighbors__ (stored in clf_pr_knn)"
   ]
  },
  {
   "cell_type": "code",
   "execution_count": 415,
   "metadata": {},
   "outputs": [],
   "source": [
    "def get_clf_knn(training_set):\n",
    "    X_train_scaled = preprocessing.scale(training_set[0])\n",
    "    Y_train = training_set[1]\n",
    "    X_train_subset_scaled = X_train_scaled[:int(X_train_scaled.shape[0] * 0.2), :]\n",
    "    Y_train_subset = Y_train.iloc[:int(X_train_scaled.shape[0] * 0.2)]   \n",
    "    param_grid = {'n_neighbors': np.array([5, 10, 15, 20]), 'weights': ['uniform', 'distance']}\n",
    "    clf_knn_cv = GridSearchCV(KNeighborsClassifier(), param_grid, scoring='accuracy', cv=5)\n",
    "    clf_knn_cv.fit(X_train_subset_scaled, Y_train_subset)\n",
    "    best = clf_knn_cv.best_estimator_\n",
    "    return best.fit(X_train_scaled, Y_train)"
   ]
  },
  {
   "cell_type": "code",
   "execution_count": null,
   "metadata": {},
   "outputs": [],
   "source": [
    "clf_pr_knn = [get_clf_knn(item) for item in pr_training_sets]"
   ]
  },
  {
   "cell_type": "code",
   "execution_count": 417,
   "metadata": {},
   "outputs": [],
   "source": [
    "# Save the classifiers\n",
    "\n",
    "for i in range(len(clf_pr_knn)):\n",
    "    dump(clf_pr_knn[i], './Pseudo-rasterized Classifiers/clf_' + file_name_list[i].split('.')[0]+ '_knn.joblib')"
   ]
  },
  {
   "cell_type": "markdown",
   "metadata": {},
   "source": [
    "## Step 3: Obtain Four Leave-one-user-out Training Sets"
   ]
  },
  {
   "cell_type": "markdown",
   "metadata": {},
   "source": [
    "### i) Pick Pseudo-rasterized Feature Engineered Datasets"
   ]
  },
  {
   "cell_type": "code",
   "execution_count": 441,
   "metadata": {},
   "outputs": [
    {
     "data": {
      "text/plain": [
       "array([24,  2,  1,  6, 11, 23, 19,  5])"
      ]
     },
     "execution_count": 441,
     "metadata": {},
     "output_type": "execute_result"
    }
   ],
   "source": [
    "# Randomly pick eight pseudo-rasterized feature engineered datasets\n",
    "\n",
    "eight_pr = np.random.choice(27, size=8, replace=False)\n",
    "eight_pr"
   ]
  },
  {
   "cell_type": "code",
   "execution_count": 442,
   "metadata": {},
   "outputs": [
    {
     "data": {
      "text/plain": [
       "['pr_541.csv',\n",
       " 'pr_323.csv',\n",
       " 'pr_322.csv',\n",
       " 'pr_341.csv',\n",
       " 'pr_423.csv',\n",
       " 'pr_533.csv',\n",
       " 'pr_522.csv',\n",
       " 'pr_333.csv']"
      ]
     },
     "execution_count": 442,
     "metadata": {},
     "output_type": "execute_result"
    }
   ],
   "source": [
    "pr_clf_names = [file_name_list[i] for i in eight_pr]\n",
    "pr_clf_names"
   ]
  },
  {
   "cell_type": "markdown",
   "metadata": {},
   "source": [
    "The eight pseudo-rasterized datasets chosen were pr_541, pr_323, pr_322, pr_341, pr_423, pr_533, pr_522, pr_333, respectively."
   ]
  },
  {
   "cell_type": "code",
   "execution_count": 443,
   "metadata": {},
   "outputs": [],
   "source": [
    "eight_pr = np.array([24,  2,  1,  6, 11, 23, 19,  5])"
   ]
  },
  {
   "cell_type": "markdown",
   "metadata": {},
   "source": [
    "### ii) Form a Leave-one-user-out Pool"
   ]
  },
  {
   "cell_type": "code",
   "execution_count": 418,
   "metadata": {},
   "outputs": [
    {
     "data": {
      "text/plain": [
       "array([13, 10,  1,  5])"
      ]
     },
     "execution_count": 418,
     "metadata": {},
     "output_type": "execute_result"
    }
   ],
   "source": [
    "# Randomly pick four users to form our leave-one-user-out pool\n",
    "\n",
    "four_users = np.random.choice(15, size=4, replace=False)\n",
    "four_users"
   ]
  },
  {
   "cell_type": "markdown",
   "metadata": {},
   "source": [
    "The four users chosen to be left out were User 13, User 10, User 1 and User 5, respectively."
   ]
  },
  {
   "cell_type": "code",
   "execution_count": 430,
   "metadata": {},
   "outputs": [],
   "source": [
    "four_users = np.array([13, 10, 1, 5])"
   ]
  },
  {
   "cell_type": "code",
   "execution_count": 432,
   "metadata": {},
   "outputs": [],
   "source": [
    "mydata_train = mydata.loc[train_index]"
   ]
  },
  {
   "cell_type": "code",
   "execution_count": 433,
   "metadata": {},
   "outputs": [],
   "source": [
    "# Store the indices in a list\n",
    "\n",
    "louo_train_index = [mydata_train.loc[mydata_train.User != i].index.values for i in four_users]"
   ]
  },
  {
   "cell_type": "markdown",
   "metadata": {},
   "source": [
    "## Step 4: Fit Our Classifiers on a Leave-one-user-out Basis"
   ]
  },
  {
   "cell_type": "markdown",
   "metadata": {},
   "source": [
    "#### I. Aggregate Features\n",
    "\n",
    "For aggregate features, a list of classifiers will created in association with a particular leave-out-user-out training set. The classifiers in each will be arranged in the following order:\n",
    "\n",
    "[Naive Bayes, LDA, QDA, SVM, Decision Tree, K-NN]\n",
    "\n"
   ]
  },
  {
   "cell_type": "code",
   "execution_count": 444,
   "metadata": {},
   "outputs": [],
   "source": [
    "# Leave out User 13\n",
    "X_train_af_13 = X_train_af.loc[louo_train_index[0]]\n",
    "Y_train_af_13 = Y_train_af.loc[louo_train_index[0]]\n",
    "\n",
    "# Leave out User 10\n",
    "X_train_af_10 = X_train_af.loc[louo_train_index[1]]\n",
    "Y_train_af_10 = Y_train_af.loc[louo_train_index[1]]\n",
    "\n",
    "# Leave out User 1\n",
    "X_train_af_1 = X_train_af.loc[louo_train_index[2]]\n",
    "Y_train_af_1 = Y_train_af.loc[louo_train_index[2]]\n",
    "\n",
    "# Leave out User 5\n",
    "X_train_af_5 = X_train_af.loc[louo_train_index[3]]\n",
    "Y_train_af_5 = Y_train_af.loc[louo_train_index[3]]"
   ]
  },
  {
   "cell_type": "code",
   "execution_count": 450,
   "metadata": {},
   "outputs": [],
   "source": [
    "clf_af_list = [clf_af_nb, clf_af_lda, clf_af_qda, clf_af_svm, clf_af_dt, clf_af_knn]"
   ]
  },
  {
   "cell_type": "code",
   "execution_count": 451,
   "metadata": {},
   "outputs": [],
   "source": [
    "# Define a function to fit classifiers\n",
    "\n",
    "def get_louo_classifiers(clf_list, X_t, Y_t):\n",
    "    X_t_scaled = preprocessing.scale(X_t)\n",
    "    result = []\n",
    "    for i in range(len(clf_list)):\n",
    "        if i in (3, 5):\n",
    "            result.append(clf_list[i].fit(X_t_scaled, Y_t))\n",
    "        else:\n",
    "            result.append(clf_list[i].fit(X_t, Y_t))\n",
    "    return result"
   ]
  },
  {
   "cell_type": "code",
   "execution_count": 455,
   "metadata": {},
   "outputs": [
    {
     "name": "stderr",
     "output_type": "stream",
     "text": [
      "/Users/zexi_ye/anaconda3/lib/python3.6/site-packages/sklearn/discriminant_analysis.py:442: UserWarning: The priors do not sum to 1. Renormalizing\n",
      "  UserWarning)\n"
     ]
    }
   ],
   "source": [
    "# Fit our classifiers\n",
    "\n",
    "clf_af_louo_13 = get_louo_classifiers(clf_af_list, X_train_af_13, Y_train_af_13)\n",
    "clf_af_louo_10 = get_louo_classifiers(clf_af_list, X_train_af_10, Y_train_af_10)\n",
    "clf_af_louo_1 = get_louo_classifiers(clf_af_list, X_train_af_1, Y_train_af_1)\n",
    "clf_af_louo_5 = get_louo_classifiers(clf_af_list, X_train_af_5, Y_train_af_5)"
   ]
  },
  {
   "cell_type": "markdown",
   "metadata": {},
   "source": [
    "#### II. Pseudo-rasterized Features\n",
    "\n",
    "For pseudo-rasterized features, a nested list of 8 sub-lists of classifiers will be created, each sub-list corresponding to the randomly selected datasets for a given leave-one-user-out training set. The order of the classifier within each sub-list is identical to that in the aggregate features described above."
   ]
  },
  {
   "cell_type": "code",
   "execution_count": 462,
   "metadata": {},
   "outputs": [],
   "source": [
    "pr_selected_list = [pd.read_csv('pr_541.csv', index_col=0),\n",
    " pd.read_csv('pr_323.csv', index_col=0),\n",
    " pd.read_csv('pr_322.csv', index_col=0),\n",
    " pd.read_csv('pr_341.csv', index_col=0),\n",
    " pd.read_csv('pr_423.csv', index_col=0),\n",
    " pd.read_csv('pr_533.csv', index_col=0),\n",
    " pd.read_csv('pr_522.csv', index_col=0),\n",
    " pd.read_csv('pr_333.csv', index_col=0)]"
   ]
  },
  {
   "cell_type": "code",
   "execution_count": 472,
   "metadata": {},
   "outputs": [],
   "source": [
    "def get_list_of_pr_clf(index, data, classifiers):\n",
    "    result = []\n",
    "    for i in range(len(data)):\n",
    "        X_temp = data[i].loc[index].drop(columns=['Class', 'User'])\n",
    "        Y_temp = data[i].loc[index].Class\n",
    "        result.append(get_louo_classifiers(classifiers[i], X_temp, Y_temp))\n",
    "    return result"
   ]
  },
  {
   "cell_type": "code",
   "execution_count": 473,
   "metadata": {},
   "outputs": [],
   "source": [
    "classifiers_list = [[clf_pr_nb[i], clf_pr_lda[i], clf_pr_qda[i], clf_pr_svm[i], clf_pr_dt[i], clf_pr_knn[i]] for i in eight_pr]"
   ]
  },
  {
   "cell_type": "code",
   "execution_count": 474,
   "metadata": {},
   "outputs": [
    {
     "name": "stderr",
     "output_type": "stream",
     "text": [
      "/Users/zexi_ye/anaconda3/lib/python3.6/site-packages/sklearn/discriminant_analysis.py:682: UserWarning: Variables are collinear\n",
      "  warnings.warn(\"Variables are collinear\")\n",
      "/Users/zexi_ye/anaconda3/lib/python3.6/site-packages/sklearn/discriminant_analysis.py:388: UserWarning: Variables are collinear.\n",
      "  warnings.warn(\"Variables are collinear.\")\n"
     ]
    }
   ],
   "source": [
    "# Fit our classifiers\n",
    "\n",
    "clf_pr_louo_13 = get_list_of_pr_clf(louo_train_index[0], pr_selected_list, classifiers_list)"
   ]
  },
  {
   "cell_type": "code",
   "execution_count": 477,
   "metadata": {},
   "outputs": [
    {
     "name": "stderr",
     "output_type": "stream",
     "text": [
      "/Users/zexi_ye/anaconda3/lib/python3.6/site-packages/sklearn/discriminant_analysis.py:682: UserWarning: Variables are collinear\n",
      "  warnings.warn(\"Variables are collinear\")\n",
      "/Users/zexi_ye/anaconda3/lib/python3.6/site-packages/sklearn/discriminant_analysis.py:388: UserWarning: Variables are collinear.\n",
      "  warnings.warn(\"Variables are collinear.\")\n"
     ]
    }
   ],
   "source": [
    "clf_pr_louo_10 = get_list_of_pr_clf(louo_train_index[1], pr_selected_list, classifiers_list)"
   ]
  },
  {
   "cell_type": "code",
   "execution_count": 478,
   "metadata": {},
   "outputs": [
    {
     "name": "stderr",
     "output_type": "stream",
     "text": [
      "/Users/zexi_ye/anaconda3/lib/python3.6/site-packages/sklearn/discriminant_analysis.py:682: UserWarning: Variables are collinear\n",
      "  warnings.warn(\"Variables are collinear\")\n",
      "/Users/zexi_ye/anaconda3/lib/python3.6/site-packages/sklearn/discriminant_analysis.py:388: UserWarning: Variables are collinear.\n",
      "  warnings.warn(\"Variables are collinear.\")\n"
     ]
    }
   ],
   "source": [
    "clf_pr_louo_1 = get_list_of_pr_clf(louo_train_index[2], pr_selected_list, classifiers_list)"
   ]
  },
  {
   "cell_type": "code",
   "execution_count": 479,
   "metadata": {},
   "outputs": [
    {
     "name": "stderr",
     "output_type": "stream",
     "text": [
      "/Users/zexi_ye/anaconda3/lib/python3.6/site-packages/sklearn/discriminant_analysis.py:442: UserWarning: The priors do not sum to 1. Renormalizing\n",
      "  UserWarning)\n",
      "/Users/zexi_ye/anaconda3/lib/python3.6/site-packages/sklearn/discriminant_analysis.py:682: UserWarning: Variables are collinear\n",
      "  warnings.warn(\"Variables are collinear\")\n",
      "/Users/zexi_ye/anaconda3/lib/python3.6/site-packages/sklearn/discriminant_analysis.py:388: UserWarning: Variables are collinear.\n",
      "  warnings.warn(\"Variables are collinear.\")\n"
     ]
    }
   ],
   "source": [
    "clf_pr_louo_5 = get_list_of_pr_clf(louo_train_index[3], pr_selected_list, classifiers_list)"
   ]
  },
  {
   "cell_type": "markdown",
   "metadata": {},
   "source": [
    "# STAGE IV: Testing & Analysis\n",
    "\n",
    "## Overview\n",
    "\n",
    "In this section, the trained classifiers that we obtained in the previous section will be tested on the test set in order to evaluate the performance of our feature engineering methods as well as the chosen machine learning algorithms. Performance of each classifier will be evaluated upon the Balanced Error Rate (BER), which will be defined below. Since each classifier is trained upon 4 different leave-one-user-out training sets, we will record the mean and standard deviation of the BER of each classifier.\n",
    "\n",
    "In addition, the classifiers will be asked to predict specifically on the subset of the test set that were produced by the corresponding unseen user. This will provide insights into how well the classifiers are likely to perform on an unfamiliar user's input in practice.\n",
    "\n",
    "The test results will be visualized to provide a more friendly view of our findings.\n",
    "\n",
    "Lastly, a brief analysis of the results and the potential practical use of the predictive models will conclude this project."
   ]
  },
  {
   "cell_type": "markdown",
   "metadata": {},
   "source": [
    "## Metric: the Balanced Error Rate (BER)\n",
    "\n",
    "We will use the Balanced Error Rate (BER) to evaluate the performance of our classifiers. A key virtue of BER is that, as opposed to accuracy, BER adjusts for the imbalance in the number of instances of each class in the dataset so that each class is equally weighted. The mathematical expression of BER is given as follow:\n",
    "\n",
    "$$BER =1-{1\\over c}\\sum_{i=1}^{c}{A_{ii}\\over \\sum_{j=1}^{c}A_{ij}}$$\n",
    "\n",
    "Evidently, a lower BER is desired since it implies that the classifier tends to achieve a higher accuracy when asked to classifier a newly observed instance in the future."
   ]
  },
  {
   "cell_type": "code",
   "execution_count": 481,
   "metadata": {},
   "outputs": [],
   "source": [
    "# Define a function that takes in the true targets and the predictions and returns the associated BER\n",
    "\n",
    "from sklearn.metrics import confusion_matrix\n",
    "\n",
    "def BER(Y_true, Y_pred):\n",
    "    matr = confusion_matrix(Y_true, Y_pred)\n",
    "    temp = np.sum(np.diagonal(matr) / np.sum(matr, axis=1))\n",
    "    return 1 - 1 / matr.shape[0] * temp"
   ]
  },
  {
   "cell_type": "code",
   "execution_count": 491,
   "metadata": {},
   "outputs": [],
   "source": [
    "from sklearn.preprocessing import StandardScaler\n",
    "\n",
    "def predict(X_test, classifiers, scaler):\n",
    "    result = []\n",
    "    for i in range(len(classifiers)):\n",
    "        if i in (3, 5):\n",
    "            result.append(classifiers[i].predict(scaler.transform(X_test)))\n",
    "        else:\n",
    "            result.append(classifiers[i].predict(X_test))\n",
    "    return result"
   ]
  },
  {
   "cell_type": "markdown",
   "metadata": {},
   "source": [
    "## Test the Classifiers Using Test Sets"
   ]
  },
  {
   "cell_type": "markdown",
   "metadata": {},
   "source": [
    "### Perform Testing on the Entire Test Set"
   ]
  },
  {
   "cell_type": "code",
   "execution_count": 493,
   "metadata": {},
   "outputs": [],
   "source": [
    "# Obtain lists of training set for pseudo-rasterized features\n",
    "\n",
    "pr_train_louo_13 = [item.loc[louo_train_index[0]].drop(columns=['Class', 'User']) for item in pr_selected_list]\n",
    "pr_train_louo_10 = [item.loc[louo_train_index[1]].drop(columns=['Class', 'User']) for item in pr_selected_list]\n",
    "pr_train_louo_1 = [item.loc[louo_train_index[2]].drop(columns=['Class', 'User']) for item in pr_selected_list]\n",
    "pr_train_louo_5 = [item.loc[louo_train_index[3]].drop(columns=['Class', 'User']) for item in pr_selected_list]"
   ]
  },
  {
   "cell_type": "code",
   "execution_count": 500,
   "metadata": {},
   "outputs": [],
   "source": [
    "pr_X_test = [item.loc[test_index].drop(columns=['Class', 'User']) for item in pr_selected_list]"
   ]
  },
  {
   "cell_type": "code",
   "execution_count": 497,
   "metadata": {},
   "outputs": [],
   "source": [
    "# Generate standard scalers\n",
    "\n",
    "# For aggregate features\n",
    "scaler_af_13 = StandardScaler().fit(X_train_af_13)\n",
    "scaler_af_10 = StandardScaler().fit(X_train_af_10)\n",
    "scaler_af_1 = StandardScaler().fit(X_train_af_1)\n",
    "scaler_af_5 = StandardScaler().fit(X_train_af_5)\n",
    "\n",
    "# For pseudo-rasterized features\n",
    "pr_scalers_13 = [StandardScaler().fit(data) for data in pr_train_louo_13]\n",
    "pr_scalers_10 = [StandardScaler().fit(data) for data in pr_train_louo_10]\n",
    "pr_scalers_1 = [StandardScaler().fit(data) for data in pr_train_louo_1]\n",
    "pr_scalers_5 = [StandardScaler().fit(data) for data in pr_train_louo_5]"
   ]
  },
  {
   "cell_type": "code",
   "execution_count": 511,
   "metadata": {},
   "outputs": [],
   "source": [
    "# Leave-User-13-out\n",
    "\n",
    "# Aggregate features\n",
    "af_pred_13 = predict(X_test_af, clf_af_louo_13, scaler_af_13)\n",
    "af_ber_13 = [BER(Y_test_af, item) for item in af_pred_13]\n",
    "\n",
    "# Pseudo-rasterized features\n",
    "pr_pred_13 = [predict(pr_X_test[i], clf_pr_louo_13[i], pr_scalers_13[i]) for i in range(len(pr_X_test))]\n",
    "pr_ber_13 = [[BER(Y_test_af, item[i]) for i in range(len(item))] for item in pr_pred_13]"
   ]
  },
  {
   "cell_type": "code",
   "execution_count": 514,
   "metadata": {},
   "outputs": [],
   "source": [
    "# Leave-User-10-out\n",
    "\n",
    "# Aggregate features\n",
    "af_pred_10 = predict(X_test_af, clf_af_louo_10, scaler_af_10)\n",
    "af_ber_10 = [BER(Y_test_af, item) for item in af_pred_10]\n",
    "\n",
    "# Pseudo-rasterized features\n",
    "pr_pred_10 = [predict(pr_X_test[i], clf_pr_louo_10[i], pr_scalers_10[i]) for i in range(len(pr_X_test))]\n",
    "pr_ber_10 = [[BER(Y_test_af, item[i]) for i in range(len(item))] for item in pr_pred_10]"
   ]
  },
  {
   "cell_type": "code",
   "execution_count": 517,
   "metadata": {},
   "outputs": [],
   "source": [
    "# Leave-User-1-out\n",
    "\n",
    "# Aggregate features\n",
    "af_pred_1 = predict(X_test_af, clf_af_louo_1, scaler_af_1)\n",
    "af_ber_1 = [BER(Y_test_af, item) for item in af_pred_1]\n",
    "\n",
    "# Pseudo-rasterized features\n",
    "pr_pred_1 = [predict(pr_X_test[i], clf_pr_louo_1[i], pr_scalers_1[i]) for i in range(len(pr_X_test))]\n",
    "pr_ber_1 = [[BER(Y_test_af, item[i]) for i in range(len(item))] for item in pr_pred_1]"
   ]
  },
  {
   "cell_type": "code",
   "execution_count": 520,
   "metadata": {},
   "outputs": [],
   "source": [
    "# Leave-User-5-out\n",
    "\n",
    "# Aggregate features\n",
    "af_pred_5 = predict(X_test_af, clf_af_louo_5, scaler_af_5)\n",
    "af_ber_5 = [BER(Y_test_af, item) for item in af_pred_5]\n",
    "\n",
    "# Pseudo-rasterized features\n",
    "pr_pred_5 = [predict(pr_X_test[i], clf_pr_louo_5[i], pr_scalers_5[i]) for i in range(len(pr_X_test))]\n",
    "pr_ber_5 = [[BER(Y_test_af, item[i]) for i in range(len(item))] for item in pr_pred_5]"
   ]
  },
  {
   "cell_type": "markdown",
   "metadata": {},
   "source": [
    "### Perform Testing on the Corresponding Unseen Users"
   ]
  },
  {
   "cell_type": "code",
   "execution_count": 524,
   "metadata": {},
   "outputs": [],
   "source": [
    "mydata_test = mydata.loc[test_index]\n",
    "\n",
    "index_unseen_13 = mydata_test.loc[mydata_test.User == 13].index\n",
    "index_unseen_10 = mydata_test.loc[mydata_test.User == 10].index\n",
    "index_unseen_1 = mydata_test.loc[mydata_test.User == 1].index\n",
    "index_unseen_5 = mydata_test.loc[mydata_test.User == 5].index"
   ]
  },
  {
   "cell_type": "code",
   "execution_count": 525,
   "metadata": {},
   "outputs": [],
   "source": [
    "# Slice the datasets in preparation for prediction\n",
    "\n",
    "# For aggregate features\n",
    "\n",
    "X_test_af_13 = X_test_af.loc[index_unseen_13]\n",
    "Y_test_af_13 = Y_test_af.loc[index_unseen_13]\n",
    "\n",
    "X_test_af_10 = X_test_af.loc[index_unseen_10]\n",
    "Y_test_af_10 = Y_test_af.loc[index_unseen_10]\n",
    "\n",
    "X_test_af_1 = X_test_af.loc[index_unseen_1]\n",
    "Y_test_af_1 = Y_test_af.loc[index_unseen_1]\n",
    "\n",
    "X_test_af_5 = X_test_af.loc[index_unseen_5]\n",
    "Y_test_af_5 = Y_test_af.loc[index_unseen_5]"
   ]
  },
  {
   "cell_type": "code",
   "execution_count": 526,
   "metadata": {},
   "outputs": [],
   "source": [
    "# For pseudo-rasterized features\n",
    "\n",
    "X_test_pr_13 = [item.loc[index_unseen_13].drop(columns=['Class', 'User']) for item in pr_selected_list]\n",
    "X_test_pr_10 = [item.loc[index_unseen_10].drop(columns=['Class', 'User']) for item in pr_selected_list]\n",
    "X_test_pr_1 = [item.loc[index_unseen_1].drop(columns=['Class', 'User']) for item in pr_selected_list]\n",
    "X_test_pr_5 = [item.loc[index_unseen_5].drop(columns=['Class', 'User']) for item in pr_selected_list]"
   ]
  },
  {
   "cell_type": "code",
   "execution_count": 528,
   "metadata": {},
   "outputs": [],
   "source": [
    "# Predict\n",
    "\n",
    "# Test on User 13\n",
    "\n",
    "# Aggregate features\n",
    "af_pred_13_unseen = predict(X_test_af_13, clf_af_louo_13, scaler_af_13)\n",
    "af_ber_13_unseen = [BER(Y_test_af_13, item) for item in af_pred_13_unseen]\n",
    "\n",
    "# Pseudo-rasterized features\n",
    "pr_pred_13_unseen = [predict(X_test_pr_13[i], clf_pr_louo_13[i], pr_scalers_13[i]) for i in range(len(X_test_pr_13))]\n",
    "pr_ber_13_unseen = [[BER(Y_test_af_13, item[i]) for i in range(len(item))] for item in pr_pred_13_unseen]"
   ]
  },
  {
   "cell_type": "code",
   "execution_count": 538,
   "metadata": {},
   "outputs": [],
   "source": [
    "# Test on User 10\n",
    "\n",
    "# Aggregate features\n",
    "af_pred_10_unseen = predict(X_test_af_10, clf_af_louo_10, scaler_af_10)\n",
    "af_ber_10_unseen = [BER(Y_test_af_10, item) for item in af_pred_10_unseen]\n",
    "\n",
    "# Pseudo-rasterized features\n",
    "pr_pred_10_unseen = [predict(X_test_pr_10[i], clf_pr_louo_10[i], pr_scalers_10[i]) for i in range(len(X_test_pr_10))]\n",
    "pr_ber_10_unseen = [[BER(Y_test_af_10, item[i]) for i in range(len(item))] for item in pr_pred_10_unseen]"
   ]
  },
  {
   "cell_type": "code",
   "execution_count": 546,
   "metadata": {},
   "outputs": [],
   "source": [
    "# Test on User 1\n",
    "\n",
    "# Aggregate features\n",
    "af_pred_1_unseen = predict(X_test_af_1, clf_af_louo_1, scaler_af_1)\n",
    "af_ber_1_unseen = [BER(Y_test_af_1, item) for item in af_pred_1_unseen]\n",
    "\n",
    "# Pseudo-rasterized features\n",
    "pr_pred_1_unseen = [predict(X_test_pr_1[i], clf_pr_louo_1[i], pr_scalers_1[i]) for i in range(len(X_test_pr_1))]\n",
    "pr_ber_1_unseen = [[BER(Y_test_af_1, item[i]) for i in range(len(item))] for item in pr_pred_1_unseen]"
   ]
  },
  {
   "cell_type": "code",
   "execution_count": null,
   "metadata": {},
   "outputs": [],
   "source": [
    "# Test on User 5\n",
    "\n",
    "# Aggregate features\n",
    "af_pred_5_unseen = predict(X_test_af_5, clf_af_louo_5, scaler_af_5)\n",
    "af_ber_5_unseen = [BER(Y_test_af_5, item) for item in af_pred_5_unseen]\n",
    "\n",
    "# Pseudo-rasterized features\n",
    "pr_pred_5_unseen = [predict(X_test_pr_5[i], clf_pr_louo_5[i], pr_scalers_5[i]) for i in range(len(X_test_pr_5))]\n",
    "pr_ber_5_unseen = [[BER(Y_test_af_5, item[i]) for i in range(len(item))] for item in pr_pred_5_unseen]"
   ]
  },
  {
   "cell_type": "markdown",
   "metadata": {},
   "source": [
    "## Visualization\n",
    "\n",
    "We will visualize our test results by plotting a collection of grouped barplots that illustrate the performance of the trained classifiers. Specifically, five grouped barplots will be displayed below that exhibit\n",
    "\n",
    "_a) Average BER on the entire test set using the four leave-one-user-out groups of classifiers_\n",
    "\n",
    "_b) BER on User-13 test set using leave-User-13-out classifiers_\n",
    "\n",
    "_c) BER on User-10 test set using leave-User-10-out classifiers_\n",
    "\n",
    "_d) BER on User-1 test set using leave-User-1-out classifiers_\n",
    "\n",
    "_e) BER on User-5 test set using leave-User-5-out classifiers_\n",
    "\n",
    "Note that all of the above plots are displayed by feature engineering methods and classifiers.\n",
    "\n",
    "Within a given feature engineering method, the BER's that are associated with each classifier are displayed side by side in order to showcase how well a classifier performs in comparison to other classifiers. Additionally, the plots are grouped by feature engineering methods, which offers a clear indication of the effectiveness of each feature engineering method in general."
   ]
  },
  {
   "cell_type": "code",
   "execution_count": 607,
   "metadata": {},
   "outputs": [],
   "source": [
    "# Whole Test Set Results\n",
    "\n",
    "# Aggregate Features\n",
    "af_ber_avg = (np.array(af_ber_13) + np.array(af_ber_10) + np.array(af_ber_1) + np.array(af_ber_5)) / 4\n",
    "\n",
    "# Pseudo-rasterized Features\n",
    "pr_541_ber_avg = (np.array(pr_ber_13[0]) + np.array(pr_ber_10[0]) + np.array(pr_ber_1[0]) + np.array(pr_ber_5[0])) / 4\n",
    "pr_323_ber_avg = (np.array(pr_ber_13[1]) + np.array(pr_ber_10[1]) + np.array(pr_ber_1[1]) + np.array(pr_ber_5[1])) / 4\n",
    "pr_322_ber_avg = (np.array(pr_ber_13[2]) + np.array(pr_ber_10[2]) + np.array(pr_ber_1[2]) + np.array(pr_ber_5[2])) / 4\n",
    "pr_341_ber_avg = (np.array(pr_ber_13[3]) + np.array(pr_ber_10[3]) + np.array(pr_ber_1[3]) + np.array(pr_ber_5[3])) / 4\n",
    "pr_423_ber_avg = (np.array(pr_ber_13[4]) + np.array(pr_ber_10[4]) + np.array(pr_ber_1[4]) + np.array(pr_ber_5[4])) / 4\n",
    "pr_533_ber_avg = (np.array(pr_ber_13[5]) + np.array(pr_ber_10[5]) + np.array(pr_ber_1[5]) + np.array(pr_ber_5[5])) / 4\n",
    "pr_522_ber_avg = (np.array(pr_ber_13[6]) + np.array(pr_ber_10[6]) + np.array(pr_ber_1[6]) + np.array(pr_ber_5[6])) / 4\n",
    "pr_333_ber_avg = (np.array(pr_ber_13[7]) + np.array(pr_ber_10[7]) + np.array(pr_ber_1[7]) + np.array(pr_ber_5[7])) / 4"
   ]
  },
  {
   "cell_type": "code",
   "execution_count": 644,
   "metadata": {},
   "outputs": [],
   "source": [
    "import altair as alt\n",
    "\n",
    "clf_name_list = ['1) Naive Bayes', '2) LDA', '3) QDA', '4) SVM', '5) Decision Tree', '6) K-NN']\n",
    "\n",
    "temp_list = []\n",
    "for i in range(6):\n",
    "    temp_list.append(['AF', af_ber_avg[i], clf_name_list[i]])\n",
    "    temp_list.append(['PR(5,4,1)', pr_541_ber_avg[i], clf_name_list[i]])\n",
    "    temp_list.append(['PR(3,2,3)', pr_323_ber_avg[i], clf_name_list[i]])\n",
    "    temp_list.append(['PR(3,2,2)', pr_322_ber_avg[i], clf_name_list[i]])\n",
    "    temp_list.append(['PR(3,4,1)', pr_341_ber_avg[i], clf_name_list[i]])\n",
    "    temp_list.append(['PR(4,2,3)', pr_423_ber_avg[i], clf_name_list[i]])\n",
    "    temp_list.append(['PR(5,3,3)', pr_533_ber_avg[i], clf_name_list[i]])\n",
    "    temp_list.append(['PR(5,2,2)', pr_522_ber_avg[i], clf_name_list[i]])\n",
    "    temp_list.append(['PR(3,3,3)', pr_333_ber_avg[i], clf_name_list[i]])\n",
    "    "
   ]
  },
  {
   "cell_type": "code",
   "execution_count": 645,
   "metadata": {},
   "outputs": [],
   "source": [
    "df_plot_whole_test = pd.DataFrame(temp_list, columns=['Feature Engineering', 'BER', 'Machine Learning Method'])"
   ]
  },
  {
   "cell_type": "code",
   "execution_count": 666,
   "metadata": {
    "scrolled": true
   },
   "outputs": [
    {
     "data": {
      "application/javascript": [
       "var spec = {\"config\": {\"view\": {\"width\": 400, \"height\": 300, \"stroke\": \"transparent\"}}, \"data\": {\"name\": \"data-5898162df23fee78fb41e5a3a82299de\"}, \"mark\": {\"type\": \"bar\", \"stroke\": \"transparent\"}, \"encoding\": {\"color\": {\"type\": \"nominal\", \"field\": \"Machine Learning Method\", \"scale\": {\"range\": [\"#EA98D2\", \"#A8D8EA\", \"#659CCA\", \"#AA96DA\", \"#FCBAD3\", \"#FFFFD2\"]}}, \"column\": {\"type\": \"nominal\", \"field\": \"Feature Engineering\"}, \"x\": {\"type\": \"nominal\", \"axis\": {\"title\": \"\"}, \"field\": \"Machine Learning Method\"}, \"y\": {\"type\": \"quantitative\", \"field\": \"BER\"}}, \"$schema\": \"https://vega.github.io/schema/vega-lite/v2.6.0.json\", \"datasets\": {\"data-5898162df23fee78fb41e5a3a82299de\": [{\"Feature Engineering\": \"AF\", \"BER\": 0.12657963128608174, \"Machine Learning Method\": \"1) Naive Bayes\"}, {\"Feature Engineering\": \"PR(5,4,1)\", \"BER\": 0.38212857929161537, \"Machine Learning Method\": \"1) Naive Bayes\"}, {\"Feature Engineering\": \"PR(3,2,3)\", \"BER\": 0.19099199770248132, \"Machine Learning Method\": \"1) Naive Bayes\"}, {\"Feature Engineering\": \"PR(3,2,2)\", \"BER\": 0.16261057653002908, \"Machine Learning Method\": \"1) Naive Bayes\"}, {\"Feature Engineering\": \"PR(3,4,1)\", \"BER\": 0.3909574967144649, \"Machine Learning Method\": \"1) Naive Bayes\"}, {\"Feature Engineering\": \"PR(4,2,3)\", \"BER\": 0.15733385315042747, \"Machine Learning Method\": \"1) Naive Bayes\"}, {\"Feature Engineering\": \"PR(5,3,3)\", \"BER\": 0.16331451340070613, \"Machine Learning Method\": \"1) Naive Bayes\"}, {\"Feature Engineering\": \"PR(5,2,2)\", \"BER\": 0.14865161475538313, \"Machine Learning Method\": \"1) Naive Bayes\"}, {\"Feature Engineering\": \"PR(3,3,3)\", \"BER\": 0.17432474599661163, \"Machine Learning Method\": \"1) Naive Bayes\"}, {\"Feature Engineering\": \"AF\", \"BER\": 0.05213674912858579, \"Machine Learning Method\": \"2) LDA\"}, {\"Feature Engineering\": \"PR(5,4,1)\", \"BER\": 0.1415171222161502, \"Machine Learning Method\": \"2) LDA\"}, {\"Feature Engineering\": \"PR(3,2,3)\", \"BER\": 0.07938140328112475, \"Machine Learning Method\": \"2) LDA\"}, {\"Feature Engineering\": \"PR(3,2,2)\", \"BER\": 0.07554778937847406, \"Machine Learning Method\": \"2) LDA\"}, {\"Feature Engineering\": \"PR(3,4,1)\", \"BER\": 0.3026237933606658, \"Machine Learning Method\": \"2) LDA\"}, {\"Feature Engineering\": \"PR(4,2,3)\", \"BER\": 0.05746881935818349, \"Machine Learning Method\": \"2) LDA\"}, {\"Feature Engineering\": \"PR(5,3,3)\", \"BER\": 0.03983300563022629, \"Machine Learning Method\": \"2) LDA\"}, {\"Feature Engineering\": \"PR(5,2,2)\", \"BER\": 0.04873356063375578, \"Machine Learning Method\": \"2) LDA\"}, {\"Feature Engineering\": \"PR(3,3,3)\", \"BER\": 0.07221080413249592, \"Machine Learning Method\": \"2) LDA\"}, {\"Feature Engineering\": \"AF\", \"BER\": 0.025905727625263997, \"Machine Learning Method\": \"3) QDA\"}, {\"Feature Engineering\": \"PR(5,4,1)\", \"BER\": 0.1341422565800392, \"Machine Learning Method\": \"3) QDA\"}, {\"Feature Engineering\": \"PR(3,2,3)\", \"BER\": 0.05270290243442144, \"Machine Learning Method\": \"3) QDA\"}, {\"Feature Engineering\": \"PR(3,2,2)\", \"BER\": 0.04767346288648533, \"Machine Learning Method\": \"3) QDA\"}, {\"Feature Engineering\": \"PR(3,4,1)\", \"BER\": 0.2712149225501581, \"Machine Learning Method\": \"3) QDA\"}, {\"Feature Engineering\": \"PR(4,2,3)\", \"BER\": 0.050332760537366905, \"Machine Learning Method\": \"3) QDA\"}, {\"Feature Engineering\": \"PR(5,3,3)\", \"BER\": 0.05285876222709007, \"Machine Learning Method\": \"3) QDA\"}, {\"Feature Engineering\": \"PR(5,2,2)\", \"BER\": 0.046820482431549904, \"Machine Learning Method\": \"3) QDA\"}, {\"Feature Engineering\": \"PR(3,3,3)\", \"BER\": 0.04707809041514732, \"Machine Learning Method\": \"3) QDA\"}, {\"Feature Engineering\": \"AF\", \"BER\": 0.03956046596555793, \"Machine Learning Method\": \"4) SVM\"}, {\"Feature Engineering\": \"PR(5,4,1)\", \"BER\": 0.032645980647754536, \"Machine Learning Method\": \"4) SVM\"}, {\"Feature Engineering\": \"PR(3,2,3)\", \"BER\": 0.03194774685334942, \"Machine Learning Method\": \"4) SVM\"}, {\"Feature Engineering\": \"PR(3,2,2)\", \"BER\": 0.02839578361398376, \"Machine Learning Method\": \"4) SVM\"}, {\"Feature Engineering\": \"PR(3,4,1)\", \"BER\": 0.11216870752794564, \"Machine Learning Method\": \"4) SVM\"}, {\"Feature Engineering\": \"PR(4,2,3)\", \"BER\": 0.02925335607884258, \"Machine Learning Method\": \"4) SVM\"}, {\"Feature Engineering\": \"PR(5,3,3)\", \"BER\": 0.026867976555269735, \"Machine Learning Method\": \"4) SVM\"}, {\"Feature Engineering\": \"PR(5,2,2)\", \"BER\": 0.026012683542193576, \"Machine Learning Method\": \"4) SVM\"}, {\"Feature Engineering\": \"PR(3,3,3)\", \"BER\": 0.0289932695979353, \"Machine Learning Method\": \"4) SVM\"}, {\"Feature Engineering\": \"AF\", \"BER\": 0.07995573134131939, \"Machine Learning Method\": \"5) Decision Tree\"}, {\"Feature Engineering\": \"PR(5,4,1)\", \"BER\": 0.16593813789818246, \"Machine Learning Method\": \"5) Decision Tree\"}, {\"Feature Engineering\": \"PR(3,2,3)\", \"BER\": 0.12845370362998254, \"Machine Learning Method\": \"5) Decision Tree\"}, {\"Feature Engineering\": \"PR(3,2,2)\", \"BER\": 0.1121180665849264, \"Machine Learning Method\": \"5) Decision Tree\"}, {\"Feature Engineering\": \"PR(3,4,1)\", \"BER\": 0.21321795754523176, \"Machine Learning Method\": \"5) Decision Tree\"}, {\"Feature Engineering\": \"PR(4,2,3)\", \"BER\": 0.10737090804795191, \"Machine Learning Method\": \"5) Decision Tree\"}, {\"Feature Engineering\": \"PR(5,3,3)\", \"BER\": 0.0778779363698866, \"Machine Learning Method\": \"5) Decision Tree\"}, {\"Feature Engineering\": \"PR(5,2,2)\", \"BER\": 0.10194363989511712, \"Machine Learning Method\": \"5) Decision Tree\"}, {\"Feature Engineering\": \"PR(3,3,3)\", \"BER\": 0.1111490139476462, \"Machine Learning Method\": \"5) Decision Tree\"}, {\"Feature Engineering\": \"AF\", \"BER\": 0.02951803690721902, \"Machine Learning Method\": \"6) K-NN\"}, {\"Feature Engineering\": \"PR(5,4,1)\", \"BER\": 0.04253512703231385, \"Machine Learning Method\": \"6) K-NN\"}, {\"Feature Engineering\": \"PR(3,2,3)\", \"BER\": 0.03317533120296837, \"Machine Learning Method\": \"6) K-NN\"}, {\"Feature Engineering\": \"PR(3,2,2)\", \"BER\": 0.033726271730501356, \"Machine Learning Method\": \"6) K-NN\"}, {\"Feature Engineering\": \"PR(3,4,1)\", \"BER\": 0.11905205266935454, \"Machine Learning Method\": \"6) K-NN\"}, {\"Feature Engineering\": \"PR(4,2,3)\", \"BER\": 0.0314560569483287, \"Machine Learning Method\": \"6) K-NN\"}, {\"Feature Engineering\": \"PR(5,3,3)\", \"BER\": 0.03311209290056555, \"Machine Learning Method\": \"6) K-NN\"}, {\"Feature Engineering\": \"PR(5,2,2)\", \"BER\": 0.03252225506366346, \"Machine Learning Method\": \"6) K-NN\"}, {\"Feature Engineering\": \"PR(3,3,3)\", \"BER\": 0.0333561563864182, \"Machine Learning Method\": \"6) K-NN\"}]}};\n",
       "var opt = {};\n",
       "var type = \"vega-lite\";\n",
       "var id = \"d44d1c46-29e8-43c6-a228-570b8f96ac93\";\n",
       "\n",
       "var output_area = this;\n",
       "\n",
       "require([\"nbextensions/jupyter-vega/index\"], function(vega) {\n",
       "  var target = document.createElement(\"div\");\n",
       "  target.id = id;\n",
       "  target.className = \"vega-embed\";\n",
       "\n",
       "  var style = document.createElement(\"style\");\n",
       "  style.textContent = [\n",
       "    \".vega-embed .error p {\",\n",
       "    \"  color: firebrick;\",\n",
       "    \"  font-size: 14px;\",\n",
       "    \"}\",\n",
       "  ].join(\"\\\\n\");\n",
       "\n",
       "  // element is a jQuery wrapped DOM element inside the output area\n",
       "  // see http://ipython.readthedocs.io/en/stable/api/generated/\\\n",
       "  // IPython.display.html#IPython.display.Javascript.__init__\n",
       "  element[0].appendChild(target);\n",
       "  element[0].appendChild(style);\n",
       "\n",
       "  vega.render(\"#\" + id, spec, type, opt, output_area);\n",
       "}, function (err) {\n",
       "  if (err.requireType !== \"scripterror\") {\n",
       "    throw(err);\n",
       "  }\n",
       "});\n"
      ],
      "text/plain": [
       "<vega.vegalite.VegaLite at 0x1183d0940>"
      ]
     },
     "metadata": {
      "jupyter-vega": "#d44d1c46-29e8-43c6-a228-570b8f96ac93"
     },
     "output_type": "display_data"
    },
    {
     "data": {
      "text/plain": []
     },
     "metadata": {},
     "output_type": "display_data"
    },
    {
     "data": {
      "image/png": "[encoded data removed]"
     },
     "metadata": {
      "jupyter-vega": "#d44d1c46-29e8-43c6-a228-570b8f96ac93"
     },
     "output_type": "display_data"
    }
   ],
   "source": [
    "# Plot - Average BER on the whole test set\n",
    "\n",
    "alt.renderers.enable('notebook')\n",
    "\n",
    "chart = alt.Chart(df_plot_whole_test).mark_bar(stroke='transparent').encode(\n",
    "   alt.X('Machine Learning Method', axis=alt.Axis(title='')),\n",
    "   y='BER',\n",
    "   color=alt.Color('Machine Learning Method', scale=alt.Scale(range=['#EA98D2', '#A8D8EA', '#659CCA', '#AA96DA', '#FCBAD3', '#FFFFD2'])),\n",
    "   column='Feature Engineering',\n",
    ").configure_view(\n",
    "    stroke='transparent',\n",
    ")\n",
    "\n",
    "chart.display()"
   ]
  },
  {
   "cell_type": "markdown",
   "metadata": {},
   "source": [
    "__Above: Average BER on the entire test set by feature engineering methods and classifiers__"
   ]
  },
  {
   "cell_type": "code",
   "execution_count": 647,
   "metadata": {},
   "outputs": [],
   "source": [
    "# Leave-User-13-out on User 13 Test Set\n",
    "\n",
    "# Aggregate Feature\n",
    "af_ber_13 = np.array(af_ber_13_unseen)\n",
    "\n",
    "# Pseudo-rasterized Feature\n",
    "pr_541_ber_13 = np.array(pr_ber_13_unseen[0])\n",
    "pr_323_ber_13 = np.array(pr_ber_13_unseen[1])\n",
    "pr_322_ber_13 = np.array(pr_ber_13_unseen[2])\n",
    "pr_341_ber_13 = np.array(pr_ber_13_unseen[3])\n",
    "pr_423_ber_13 = np.array(pr_ber_13_unseen[4])\n",
    "pr_533_ber_13 = np.array(pr_ber_13_unseen[5])\n",
    "pr_522_ber_13 = np.array(pr_ber_13_unseen[6])\n",
    "pr_333_ber_13 = np.array(pr_ber_13_unseen[7])"
   ]
  },
  {
   "cell_type": "code",
   "execution_count": 649,
   "metadata": {},
   "outputs": [],
   "source": [
    "temp_list = []\n",
    "for i in range(6):\n",
    "    temp_list.append(['AF', af_ber_13[i], clf_name_list[i]])\n",
    "    temp_list.append(['PR(5,4,1)', pr_541_ber_13[i], clf_name_list[i]])\n",
    "    temp_list.append(['PR(3,2,3)', pr_323_ber_13[i], clf_name_list[i]])\n",
    "    temp_list.append(['PR(3,2,2)', pr_322_ber_13[i], clf_name_list[i]])\n",
    "    temp_list.append(['PR(3,4,1)', pr_341_ber_13[i], clf_name_list[i]])\n",
    "    temp_list.append(['PR(4,2,3)', pr_423_ber_13[i], clf_name_list[i]])\n",
    "    temp_list.append(['PR(5,3,3)', pr_533_ber_13[i], clf_name_list[i]])\n",
    "    temp_list.append(['PR(5,2,2)', pr_522_ber_13[i], clf_name_list[i]])\n",
    "    temp_list.append(['PR(3,3,3)', pr_333_ber_13[i], clf_name_list[i]])\n",
    "\n",
    "df_plot_13 = pd.DataFrame(temp_list, columns=['Feature Engineering', 'BER', 'Machine Learning Method'])"
   ]
  },
  {
   "cell_type": "code",
   "execution_count": 658,
   "metadata": {},
   "outputs": [
    {
     "data": {
      "application/javascript": [
       "var spec = {\"config\": {\"view\": {\"width\": 400, \"height\": 300, \"stroke\": \"transparent\"}}, \"data\": {\"name\": \"data-c9dd47c542d68914b7d063513520e024\"}, \"mark\": {\"type\": \"bar\", \"stroke\": \"transparent\"}, \"encoding\": {\"color\": {\"type\": \"nominal\", \"field\": \"Machine Learning Method\", \"scale\": {\"range\": [\"#EA98D2\", \"#A8D8EA\", \"#659CCA\", \"#AA96DA\", \"#FCBAD3\", \"#FFFFD2\"]}}, \"column\": {\"type\": \"nominal\", \"field\": \"Feature Engineering\"}, \"x\": {\"type\": \"nominal\", \"axis\": {\"title\": \"\"}, \"field\": \"Machine Learning Method\"}, \"y\": {\"type\": \"quantitative\", \"field\": \"BER\"}}, \"$schema\": \"https://vega.github.io/schema/vega-lite/v2.6.0.json\", \"datasets\": {\"data-c9dd47c542d68914b7d063513520e024\": [{\"Feature Engineering\": \"AF\", \"BER\": 0.08287674562720104, \"Machine Learning Method\": \"1) Naive Bayes\"}, {\"Feature Engineering\": \"PR(5,4,1)\", \"BER\": 0.32412082357048133, \"Machine Learning Method\": \"1) Naive Bayes\"}, {\"Feature Engineering\": \"PR(3,2,3)\", \"BER\": 0.15169171126396674, \"Machine Learning Method\": \"1) Naive Bayes\"}, {\"Feature Engineering\": \"PR(3,2,2)\", \"BER\": 0.12150576584015582, \"Machine Learning Method\": \"1) Naive Bayes\"}, {\"Feature Engineering\": \"PR(3,4,1)\", \"BER\": 0.326823526273184, \"Machine Learning Method\": \"1) Naive Bayes\"}, {\"Feature Engineering\": \"PR(4,2,3)\", \"BER\": 0.18263834251245736, \"Machine Learning Method\": \"1) Naive Bayes\"}, {\"Feature Engineering\": \"PR(5,3,3)\", \"BER\": 0.014282216754667898, \"Machine Learning Method\": \"1) Naive Bayes\"}, {\"Feature Engineering\": \"PR(5,2,2)\", \"BER\": 0.1468136624834787, \"Machine Learning Method\": \"1) Naive Bayes\"}, {\"Feature Engineering\": \"PR(3,3,3)\", \"BER\": 0.016802041691869274, \"Machine Learning Method\": \"1) Naive Bayes\"}, {\"Feature Engineering\": \"AF\", \"BER\": 0.021803716825159913, \"Machine Learning Method\": \"2) LDA\"}, {\"Feature Engineering\": \"PR(5,4,1)\", \"BER\": 0.11750107831874379, \"Machine Learning Method\": \"2) LDA\"}, {\"Feature Engineering\": \"PR(3,2,3)\", \"BER\": 0.028569793395524457, \"Machine Learning Method\": \"2) LDA\"}, {\"Feature Engineering\": \"PR(3,2,2)\", \"BER\": 0.0172602399154701, \"Machine Learning Method\": \"2) LDA\"}, {\"Feature Engineering\": \"PR(3,4,1)\", \"BER\": 0.25911926848465416, \"Machine Learning Method\": \"2) LDA\"}, {\"Feature Engineering\": \"PR(4,2,3)\", \"BER\": 0.011479893094660909, \"Machine Learning Method\": \"2) LDA\"}, {\"Feature Engineering\": \"PR(5,3,3)\", \"BER\": 0.00578034682080919, \"Machine Learning Method\": \"2) LDA\"}, {\"Feature Engineering\": \"PR(5,2,2)\", \"BER\": 0.0, \"Machine Learning Method\": \"2) LDA\"}, {\"Feature Engineering\": \"PR(3,3,3)\", \"BER\": 0.027745664739884268, \"Machine Learning Method\": \"2) LDA\"}, {\"Feature Engineering\": \"AF\", \"BER\": 0.009365801445009314, \"Machine Learning Method\": \"3) QDA\"}, {\"Feature Engineering\": \"PR(5,4,1)\", \"BER\": 0.11655462163053443, \"Machine Learning Method\": \"3) QDA\"}, {\"Feature Engineering\": \"PR(3,2,3)\", \"BER\": 0.0010752688172043223, \"Machine Learning Method\": \"3) QDA\"}, {\"Feature Engineering\": \"PR(3,2,2)\", \"BER\": 0.0021505376344085336, \"Machine Learning Method\": \"3) QDA\"}, {\"Feature Engineering\": \"PR(3,4,1)\", \"BER\": 0.3274694062094139, \"Machine Learning Method\": \"3) QDA\"}, {\"Feature Engineering\": \"PR(4,2,3)\", \"BER\": 0.0, \"Machine Learning Method\": \"3) QDA\"}, {\"Feature Engineering\": \"PR(5,3,3)\", \"BER\": 0.0, \"Machine Learning Method\": \"3) QDA\"}, {\"Feature Engineering\": \"PR(5,2,2)\", \"BER\": 0.0010752688172043223, \"Machine Learning Method\": \"3) QDA\"}, {\"Feature Engineering\": \"PR(3,3,3)\", \"BER\": 0.0021505376344085336, \"Machine Learning Method\": \"3) QDA\"}, {\"Feature Engineering\": \"AF\", \"BER\": 0.0, \"Machine Learning Method\": \"4) SVM\"}, {\"Feature Engineering\": \"PR(5,4,1)\", \"BER\": 0.0010752688172043223, \"Machine Learning Method\": \"4) SVM\"}, {\"Feature Engineering\": \"PR(3,2,3)\", \"BER\": 0.0, \"Machine Learning Method\": \"4) SVM\"}, {\"Feature Engineering\": \"PR(3,2,2)\", \"BER\": 0.0, \"Machine Learning Method\": \"4) SVM\"}, {\"Feature Engineering\": \"PR(3,4,1)\", \"BER\": 0.028561097651857992, \"Machine Learning Method\": \"4) SVM\"}, {\"Feature Engineering\": \"PR(4,2,3)\", \"BER\": 0.0, \"Machine Learning Method\": \"4) SVM\"}, {\"Feature Engineering\": \"PR(5,3,3)\", \"BER\": 0.0, \"Machine Learning Method\": \"4) SVM\"}, {\"Feature Engineering\": \"PR(5,2,2)\", \"BER\": 0.0, \"Machine Learning Method\": \"4) SVM\"}, {\"Feature Engineering\": \"PR(3,3,3)\", \"BER\": 0.0, \"Machine Learning Method\": \"4) SVM\"}, {\"Feature Engineering\": \"AF\", \"BER\": 0.040063955193842204, \"Machine Learning Method\": \"5) Decision Tree\"}, {\"Feature Engineering\": \"PR(5,4,1)\", \"BER\": 0.04400737481915262, \"Machine Learning Method\": \"5) Decision Tree\"}, {\"Feature Engineering\": \"PR(3,2,3)\", \"BER\": 0.05257095650384913, \"Machine Learning Method\": \"5) Decision Tree\"}, {\"Feature Engineering\": \"PR(3,2,2)\", \"BER\": 0.07989794345397594, \"Machine Learning Method\": \"5) Decision Tree\"}, {\"Feature Engineering\": \"PR(3,4,1)\", \"BER\": 0.17279750891822154, \"Machine Learning Method\": \"5) Decision Tree\"}, {\"Feature Engineering\": \"PR(4,2,3)\", \"BER\": 0.08306103225574579, \"Machine Learning Method\": \"5) Decision Tree\"}, {\"Feature Engineering\": \"PR(5,3,3)\", \"BER\": 0.0668622252137121, \"Machine Learning Method\": \"5) Decision Tree\"}, {\"Feature Engineering\": \"PR(5,2,2)\", \"BER\": 0.04640693027430487, \"Machine Learning Method\": \"5) Decision Tree\"}, {\"Feature Engineering\": \"PR(3,3,3)\", \"BER\": 0.08796530120256829, \"Machine Learning Method\": \"5) Decision Tree\"}, {\"Feature Engineering\": \"AF\", \"BER\": 0.0, \"Machine Learning Method\": \"6) K-NN\"}, {\"Feature Engineering\": \"PR(5,4,1)\", \"BER\": 0.005376344086021501, \"Machine Learning Method\": \"6) K-NN\"}, {\"Feature Engineering\": \"PR(3,2,3)\", \"BER\": 0.0, \"Machine Learning Method\": \"6) K-NN\"}, {\"Feature Engineering\": \"PR(3,2,2)\", \"BER\": 0.0, \"Machine Learning Method\": \"6) K-NN\"}, {\"Feature Engineering\": \"PR(3,4,1)\", \"BER\": 0.07689645110129495, \"Machine Learning Method\": \"6) K-NN\"}, {\"Feature Engineering\": \"PR(4,2,3)\", \"BER\": 0.0, \"Machine Learning Method\": \"6) K-NN\"}, {\"Feature Engineering\": \"PR(5,3,3)\", \"BER\": 0.0, \"Machine Learning Method\": \"6) K-NN\"}, {\"Feature Engineering\": \"PR(5,2,2)\", \"BER\": 0.0, \"Machine Learning Method\": \"6) K-NN\"}, {\"Feature Engineering\": \"PR(3,3,3)\", \"BER\": 0.0, \"Machine Learning Method\": \"6) K-NN\"}]}};\n",
       "var opt = {};\n",
       "var type = \"vega-lite\";\n",
       "var id = \"de8050b8-ced8-46ae-a330-fba8d953e651\";\n",
       "\n",
       "var output_area = this;\n",
       "\n",
       "require([\"nbextensions/jupyter-vega/index\"], function(vega) {\n",
       "  var target = document.createElement(\"div\");\n",
       "  target.id = id;\n",
       "  target.className = \"vega-embed\";\n",
       "\n",
       "  var style = document.createElement(\"style\");\n",
       "  style.textContent = [\n",
       "    \".vega-embed .error p {\",\n",
       "    \"  color: firebrick;\",\n",
       "    \"  font-size: 14px;\",\n",
       "    \"}\",\n",
       "  ].join(\"\\\\n\");\n",
       "\n",
       "  // element is a jQuery wrapped DOM element inside the output area\n",
       "  // see http://ipython.readthedocs.io/en/stable/api/generated/\\\n",
       "  // IPython.display.html#IPython.display.Javascript.__init__\n",
       "  element[0].appendChild(target);\n",
       "  element[0].appendChild(style);\n",
       "\n",
       "  vega.render(\"#\" + id, spec, type, opt, output_area);\n",
       "}, function (err) {\n",
       "  if (err.requireType !== \"scripterror\") {\n",
       "    throw(err);\n",
       "  }\n",
       "});\n"
      ],
      "text/plain": [
       "<vega.vegalite.VegaLite at 0x13736c940>"
      ]
     },
     "metadata": {
      "jupyter-vega": "#de8050b8-ced8-46ae-a330-fba8d953e651"
     },
     "output_type": "display_data"
    },
    {
     "data": {
      "text/plain": []
     },
     "metadata": {},
     "output_type": "display_data"
    },
    {
     "data": {
      "image/png": "[encoded data removed]"
     },
     "metadata": {
      "jupyter-vega": "#de8050b8-ced8-46ae-a330-fba8d953e651"
     },
     "output_type": "display_data"
    }
   ],
   "source": [
    "# Plot - Leave-User-13-Out BER on User 13\n",
    "\n",
    "chart = alt.Chart(df_plot_13).mark_bar(stroke='transparent').encode(\n",
    "   alt.X('Machine Learning Method', axis=alt.Axis(title='')),\n",
    "   y='BER',\n",
    "   color=alt.Color('Machine Learning Method', scale=alt.Scale(range=['#EA98D2', '#A8D8EA', '#659CCA', '#AA96DA', '#FCBAD3', '#FFFFD2'])),\n",
    "   column='Feature Engineering'    \n",
    ").configure_view(\n",
    "    stroke='transparent',\n",
    ")\n",
    "\n",
    "chart.display()"
   ]
  },
  {
   "cell_type": "markdown",
   "metadata": {},
   "source": [
    "__Above: Leave-User-13-Out BER on User 13 test set by feature engineering methods and classifiers__"
   ]
  },
  {
   "cell_type": "code",
   "execution_count": 651,
   "metadata": {},
   "outputs": [],
   "source": [
    "# Leave-User-10-out on User 10 Test Set\n",
    "\n",
    "# Aggregate Feature\n",
    "af_ber_10 = np.array(af_ber_10_unseen)\n",
    "\n",
    "# Pseudo-rasterized Feature\n",
    "pr_541_ber_10 = np.array(pr_ber_10_unseen[0])\n",
    "pr_323_ber_10 = np.array(pr_ber_10_unseen[1])\n",
    "pr_322_ber_10 = np.array(pr_ber_10_unseen[2])\n",
    "pr_341_ber_10 = np.array(pr_ber_10_unseen[3])\n",
    "pr_423_ber_10 = np.array(pr_ber_10_unseen[4])\n",
    "pr_533_ber_10 = np.array(pr_ber_10_unseen[5])\n",
    "pr_522_ber_10 = np.array(pr_ber_10_unseen[6])\n",
    "pr_333_ber_10 = np.array(pr_ber_10_unseen[7])"
   ]
  },
  {
   "cell_type": "code",
   "execution_count": 652,
   "metadata": {},
   "outputs": [],
   "source": [
    "temp_list = []\n",
    "for i in range(6):\n",
    "    temp_list.append(['AF', af_ber_10[i], clf_name_list[i]])\n",
    "    temp_list.append(['PR(5,4,1)', pr_541_ber_10[i], clf_name_list[i]])\n",
    "    temp_list.append(['PR(3,2,3)', pr_323_ber_10[i], clf_name_list[i]])\n",
    "    temp_list.append(['PR(3,2,2)', pr_322_ber_10[i], clf_name_list[i]])\n",
    "    temp_list.append(['PR(3,4,1)', pr_341_ber_10[i], clf_name_list[i]])\n",
    "    temp_list.append(['PR(4,2,3)', pr_423_ber_10[i], clf_name_list[i]])\n",
    "    temp_list.append(['PR(5,3,3)', pr_533_ber_10[i], clf_name_list[i]])\n",
    "    temp_list.append(['PR(5,2,2)', pr_522_ber_10[i], clf_name_list[i]])\n",
    "    temp_list.append(['PR(3,3,3)', pr_333_ber_10[i], clf_name_list[i]])\n",
    "\n",
    "df_plot_10 = pd.DataFrame(temp_list, columns=['Feature Engineering', 'BER', 'Machine Learning Method'])"
   ]
  },
  {
   "cell_type": "code",
   "execution_count": 659,
   "metadata": {},
   "outputs": [
    {
     "data": {
      "application/javascript": [
       "var spec = {\"config\": {\"view\": {\"width\": 400, \"height\": 300, \"stroke\": \"transparent\"}}, \"data\": {\"name\": \"data-039b80fbbe5d91423375ccd5ebd5d445\"}, \"mark\": {\"type\": \"bar\", \"stroke\": \"transparent\"}, \"encoding\": {\"color\": {\"type\": \"nominal\", \"field\": \"Machine Learning Method\", \"scale\": {\"range\": [\"#EA98D2\", \"#A8D8EA\", \"#659CCA\", \"#AA96DA\", \"#FCBAD3\", \"#FFFFD2\"]}}, \"column\": {\"type\": \"nominal\", \"field\": \"Feature Engineering\"}, \"x\": {\"type\": \"nominal\", \"axis\": {\"title\": \"\"}, \"field\": \"Machine Learning Method\"}, \"y\": {\"type\": \"quantitative\", \"field\": \"BER\"}}, \"$schema\": \"https://vega.github.io/schema/vega-lite/v2.6.0.json\", \"datasets\": {\"data-039b80fbbe5d91423375ccd5ebd5d445\": [{\"Feature Engineering\": \"AF\", \"BER\": 0.029401341969965356, \"Machine Learning Method\": \"1) Naive Bayes\"}, {\"Feature Engineering\": \"PR(5,4,1)\", \"BER\": 0.35465535180270213, \"Machine Learning Method\": \"1) Naive Bayes\"}, {\"Feature Engineering\": \"PR(3,2,3)\", \"BER\": 0.05532481773026987, \"Machine Learning Method\": \"1) Naive Bayes\"}, {\"Feature Engineering\": \"PR(3,2,2)\", \"BER\": 0.011810497574577972, \"Machine Learning Method\": \"1) Naive Bayes\"}, {\"Feature Engineering\": \"PR(3,4,1)\", \"BER\": 0.36018694764317627, \"Machine Learning Method\": \"1) Naive Bayes\"}, {\"Feature Engineering\": \"PR(4,2,3)\", \"BER\": 0.024074127864757155, \"Machine Learning Method\": \"1) Naive Bayes\"}, {\"Feature Engineering\": \"PR(5,3,3)\", \"BER\": 0.05603160310221622, \"Machine Learning Method\": \"1) Naive Bayes\"}, {\"Feature Engineering\": \"PR(5,2,2)\", \"BER\": 0.01512766142853006, \"Machine Learning Method\": \"1) Naive Bayes\"}, {\"Feature Engineering\": \"PR(3,3,3)\", \"BER\": 0.05703662822784439, \"Machine Learning Method\": \"1) Naive Bayes\"}, {\"Feature Engineering\": \"AF\", \"BER\": 0.028797165015830406, \"Machine Learning Method\": \"2) LDA\"}, {\"Feature Engineering\": \"PR(5,4,1)\", \"BER\": 0.15799038545327804, \"Machine Learning Method\": \"2) LDA\"}, {\"Feature Engineering\": \"PR(3,2,3)\", \"BER\": 0.027443576262816904, \"Machine Learning Method\": \"2) LDA\"}, {\"Feature Engineering\": \"PR(3,2,2)\", \"BER\": 0.026589595375722586, \"Machine Learning Method\": \"2) LDA\"}, {\"Feature Engineering\": \"PR(3,4,1)\", \"BER\": 0.1701741931528863, \"Machine Learning Method\": \"2) LDA\"}, {\"Feature Engineering\": \"PR(4,2,3)\", \"BER\": 0.013117611177273614, \"Machine Learning Method\": \"2) LDA\"}, {\"Feature Engineering\": \"PR(5,3,3)\", \"BER\": 0.006785371946437357, \"Machine Learning Method\": \"2) LDA\"}, {\"Feature Engineering\": \"PR(5,2,2)\", \"BER\": 0.014273680541435407, \"Machine Learning Method\": \"2) LDA\"}, {\"Feature Engineering\": \"PR(3,3,3)\", \"BER\": 0.025985418421587636, \"Machine Learning Method\": \"2) LDA\"}, {\"Feature Engineering\": \"AF\", \"BER\": 0.016283730792691742, \"Machine Learning Method\": \"3) QDA\"}, {\"Feature Engineering\": \"PR(5,4,1)\", \"BER\": 0.08485207831062824, \"Machine Learning Method\": \"3) QDA\"}, {\"Feature Engineering\": \"PR(3,2,3)\", \"BER\": 0.010654428210416178, \"Machine Learning Method\": \"3) QDA\"}, {\"Feature Engineering\": \"PR(3,2,2)\", \"BER\": 0.004020100502512447, \"Machine Learning Method\": \"3) QDA\"}, {\"Feature Engineering\": \"PR(3,4,1)\", \"BER\": 0.20606598745170945, \"Machine Learning Method\": \"3) QDA\"}, {\"Feature Engineering\": \"PR(4,2,3)\", \"BER\": 0.0020100502512562235, \"Machine Learning Method\": \"3) QDA\"}, {\"Feature Engineering\": \"PR(5,3,3)\", \"BER\": 0.0010050251256280562, \"Machine Learning Method\": \"3) QDA\"}, {\"Feature Engineering\": \"PR(5,2,2)\", \"BER\": 0.0030150753768842797, \"Machine Learning Method\": \"3) QDA\"}, {\"Feature Engineering\": \"PR(3,3,3)\", \"BER\": 0.004171144741046184, \"Machine Learning Method\": \"3) QDA\"}, {\"Feature Engineering\": \"AF\", \"BER\": 0.0011560693641617936, \"Machine Learning Method\": \"4) SVM\"}, {\"Feature Engineering\": \"PR(5,4,1)\", \"BER\": 0.013193862848318694, \"Machine Learning Method\": \"4) SVM\"}, {\"Feature Engineering\": \"PR(3,2,3)\", \"BER\": 0.0, \"Machine Learning Method\": \"4) SVM\"}, {\"Feature Engineering\": \"PR(3,2,2)\", \"BER\": 0.0, \"Machine Learning Method\": \"4) SVM\"}, {\"Feature Engineering\": \"PR(3,4,1)\", \"BER\": 0.06250070844206235, \"Machine Learning Method\": \"4) SVM\"}, {\"Feature Engineering\": \"PR(4,2,3)\", \"BER\": 0.0, \"Machine Learning Method\": \"4) SVM\"}, {\"Feature Engineering\": \"PR(5,3,3)\", \"BER\": 0.0, \"Machine Learning Method\": \"4) SVM\"}, {\"Feature Engineering\": \"PR(5,2,2)\", \"BER\": 0.0, \"Machine Learning Method\": \"4) SVM\"}, {\"Feature Engineering\": \"PR(3,3,3)\", \"BER\": 0.0, \"Machine Learning Method\": \"4) SVM\"}, {\"Feature Engineering\": \"AF\", \"BER\": 0.046408021885893325, \"Machine Learning Method\": \"5) Decision Tree\"}, {\"Feature Engineering\": \"PR(5,4,1)\", \"BER\": 0.07496371493169562, \"Machine Learning Method\": \"5) Decision Tree\"}, {\"Feature Engineering\": \"PR(3,2,3)\", \"BER\": 0.07909596713878697, \"Machine Learning Method\": \"5) Decision Tree\"}, {\"Feature Engineering\": \"PR(3,2,2)\", \"BER\": 0.06554701734192747, \"Machine Learning Method\": \"5) Decision Tree\"}, {\"Feature Engineering\": \"PR(3,4,1)\", \"BER\": 0.10353567981053269, \"Machine Learning Method\": \"5) Decision Tree\"}, {\"Feature Engineering\": \"PR(4,2,3)\", \"BER\": 0.05026875708019851, \"Machine Learning Method\": \"5) Decision Tree\"}, {\"Feature Engineering\": \"PR(5,3,3)\", \"BER\": 0.06405049976307864, \"Machine Learning Method\": \"5) Decision Tree\"}, {\"Feature Engineering\": \"PR(5,2,2)\", \"BER\": 0.070921442472478, \"Machine Learning Method\": \"5) Decision Tree\"}, {\"Feature Engineering\": \"PR(3,3,3)\", \"BER\": 0.08396050654366127, \"Machine Learning Method\": \"5) Decision Tree\"}, {\"Feature Engineering\": \"AF\", \"BER\": 0.0, \"Machine Learning Method\": \"6) K-NN\"}, {\"Feature Engineering\": \"PR(5,4,1)\", \"BER\": 0.013117611177273614, \"Machine Learning Method\": \"6) K-NN\"}, {\"Feature Engineering\": \"PR(3,2,3)\", \"BER\": 0.0, \"Machine Learning Method\": \"6) K-NN\"}, {\"Feature Engineering\": \"PR(3,2,2)\", \"BER\": 0.0, \"Machine Learning Method\": \"6) K-NN\"}, {\"Feature Engineering\": \"PR(3,4,1)\", \"BER\": 0.03711068533283435, \"Machine Learning Method\": \"6) K-NN\"}, {\"Feature Engineering\": \"PR(4,2,3)\", \"BER\": 0.0010050251256280562, \"Machine Learning Method\": \"6) K-NN\"}, {\"Feature Engineering\": \"PR(5,3,3)\", \"BER\": 0.00216109448978985, \"Machine Learning Method\": \"6) K-NN\"}, {\"Feature Engineering\": \"PR(5,2,2)\", \"BER\": 0.0010050251256280562, \"Machine Learning Method\": \"6) K-NN\"}, {\"Feature Engineering\": \"PR(3,3,3)\", \"BER\": 0.00216109448978985, \"Machine Learning Method\": \"6) K-NN\"}]}};\n",
       "var opt = {};\n",
       "var type = \"vega-lite\";\n",
       "var id = \"89292dc1-cf84-4d68-abc2-ac608fbe6644\";\n",
       "\n",
       "var output_area = this;\n",
       "\n",
       "require([\"nbextensions/jupyter-vega/index\"], function(vega) {\n",
       "  var target = document.createElement(\"div\");\n",
       "  target.id = id;\n",
       "  target.className = \"vega-embed\";\n",
       "\n",
       "  var style = document.createElement(\"style\");\n",
       "  style.textContent = [\n",
       "    \".vega-embed .error p {\",\n",
       "    \"  color: firebrick;\",\n",
       "    \"  font-size: 14px;\",\n",
       "    \"}\",\n",
       "  ].join(\"\\\\n\");\n",
       "\n",
       "  // element is a jQuery wrapped DOM element inside the output area\n",
       "  // see http://ipython.readthedocs.io/en/stable/api/generated/\\\n",
       "  // IPython.display.html#IPython.display.Javascript.__init__\n",
       "  element[0].appendChild(target);\n",
       "  element[0].appendChild(style);\n",
       "\n",
       "  vega.render(\"#\" + id, spec, type, opt, output_area);\n",
       "}, function (err) {\n",
       "  if (err.requireType !== \"scripterror\") {\n",
       "    throw(err);\n",
       "  }\n",
       "});\n"
      ],
      "text/plain": [
       "<vega.vegalite.VegaLite at 0x13736cd30>"
      ]
     },
     "metadata": {
      "jupyter-vega": "#89292dc1-cf84-4d68-abc2-ac608fbe6644"
     },
     "output_type": "display_data"
    },
    {
     "data": {
      "text/plain": []
     },
     "metadata": {},
     "output_type": "display_data"
    },
    {
     "data": {
      "image/png": "[encoded data removed]"
     },
     "metadata": {
      "jupyter-vega": "#89292dc1-cf84-4d68-abc2-ac608fbe6644"
     },
     "output_type": "display_data"
    }
   ],
   "source": [
    "# Plot - Leave-User-10-Out BER on User 10\n",
    "\n",
    "chart = alt.Chart(df_plot_10).mark_bar(stroke='transparent').encode(\n",
    "   alt.X('Machine Learning Method', axis=alt.Axis(title='')),\n",
    "   y='BER',\n",
    "   color=alt.Color('Machine Learning Method', scale=alt.Scale(range=['#EA98D2', '#A8D8EA', '#659CCA', '#AA96DA', '#FCBAD3', '#FFFFD2'])),\n",
    "   column='Feature Engineering'    \n",
    ").configure_view(\n",
    "    stroke='transparent',\n",
    ")\n",
    "\n",
    "chart.display()"
   ]
  },
  {
   "cell_type": "markdown",
   "metadata": {},
   "source": [
    "__Above: Leave-User-10-Out BER on User 10 test set by feature engineering methods and classifiers__"
   ]
  },
  {
   "cell_type": "code",
   "execution_count": 654,
   "metadata": {},
   "outputs": [],
   "source": [
    "# Leave-User-1-out on User 1 Test Set\n",
    "\n",
    "# Aggregate Feature\n",
    "af_ber_1 = np.array(af_ber_1_unseen)\n",
    "\n",
    "# Pseudo-rasterized Feature\n",
    "pr_541_ber_1 = np.array(pr_ber_1_unseen[0])\n",
    "pr_323_ber_1 = np.array(pr_ber_1_unseen[1])\n",
    "pr_322_ber_1 = np.array(pr_ber_1_unseen[2])\n",
    "pr_341_ber_1 = np.array(pr_ber_1_unseen[3])\n",
    "pr_423_ber_1 = np.array(pr_ber_1_unseen[4])\n",
    "pr_533_ber_1 = np.array(pr_ber_1_unseen[5])\n",
    "pr_522_ber_1 = np.array(pr_ber_1_unseen[6])\n",
    "pr_333_ber_1 = np.array(pr_ber_1_unseen[7])"
   ]
  },
  {
   "cell_type": "code",
   "execution_count": 655,
   "metadata": {},
   "outputs": [],
   "source": [
    "temp_list = []\n",
    "for i in range(6):\n",
    "    temp_list.append(['AF', af_ber_1[i], clf_name_list[i]])\n",
    "    temp_list.append(['PR(5,4,1)', pr_541_ber_1[i], clf_name_list[i]])\n",
    "    temp_list.append(['PR(3,2,3)', pr_323_ber_1[i], clf_name_list[i]])\n",
    "    temp_list.append(['PR(3,2,2)', pr_322_ber_1[i], clf_name_list[i]])\n",
    "    temp_list.append(['PR(3,4,1)', pr_341_ber_1[i], clf_name_list[i]])\n",
    "    temp_list.append(['PR(4,2,3)', pr_423_ber_1[i], clf_name_list[i]])\n",
    "    temp_list.append(['PR(5,3,3)', pr_533_ber_1[i], clf_name_list[i]])\n",
    "    temp_list.append(['PR(5,2,2)', pr_522_ber_1[i], clf_name_list[i]])\n",
    "    temp_list.append(['PR(3,3,3)', pr_333_ber_1[i], clf_name_list[i]])\n",
    "\n",
    "df_plot_1 = pd.DataFrame(temp_list, columns=['Feature Engineering', 'BER', 'Machine Learning Method'])"
   ]
  },
  {
   "cell_type": "code",
   "execution_count": 660,
   "metadata": {},
   "outputs": [
    {
     "data": {
      "application/javascript": [
       "var spec = {\"config\": {\"view\": {\"width\": 400, \"height\": 300, \"stroke\": \"transparent\"}}, \"data\": {\"name\": \"data-895f0239719237a8d1f43a0a540d748e\"}, \"mark\": {\"type\": \"bar\", \"stroke\": \"transparent\"}, \"encoding\": {\"color\": {\"type\": \"nominal\", \"field\": \"Machine Learning Method\", \"scale\": {\"range\": [\"#EA98D2\", \"#A8D8EA\", \"#659CCA\", \"#AA96DA\", \"#FCBAD3\", \"#FFFFD2\"]}}, \"column\": {\"type\": \"nominal\", \"field\": \"Feature Engineering\"}, \"x\": {\"type\": \"nominal\", \"axis\": {\"title\": \"\"}, \"field\": \"Machine Learning Method\"}, \"y\": {\"type\": \"quantitative\", \"field\": \"BER\"}}, \"$schema\": \"https://vega.github.io/schema/vega-lite/v2.6.0.json\", \"datasets\": {\"data-895f0239719237a8d1f43a0a540d748e\": [{\"Feature Engineering\": \"AF\", \"BER\": 0.17995365855589252, \"Machine Learning Method\": \"1) Naive Bayes\"}, {\"Feature Engineering\": \"PR(5,4,1)\", \"BER\": 0.42454802656660706, \"Machine Learning Method\": \"1) Naive Bayes\"}, {\"Feature Engineering\": \"PR(3,2,3)\", \"BER\": 0.1678051660534554, \"Machine Learning Method\": \"1) Naive Bayes\"}, {\"Feature Engineering\": \"PR(3,2,2)\", \"BER\": 0.17689607514436445, \"Machine Learning Method\": \"1) Naive Bayes\"}, {\"Feature Engineering\": \"PR(3,4,1)\", \"BER\": 0.44422015771414813, \"Machine Learning Method\": \"1) Naive Bayes\"}, {\"Feature Engineering\": \"PR(4,2,3)\", \"BER\": 0.1344718327201221, \"Machine Learning Method\": \"1) Naive Bayes\"}, {\"Feature Engineering\": \"PR(5,3,3)\", \"BER\": 0.222662242547067, \"Machine Learning Method\": \"1) Naive Bayes\"}, {\"Feature Engineering\": \"PR(5,2,2)\", \"BER\": 0.18901728726557654, \"Machine Learning Method\": \"1) Naive Bayes\"}, {\"Feature Engineering\": \"PR(3,3,3)\", \"BER\": 0.2482436378959041, \"Machine Learning Method\": \"1) Naive Bayes\"}, {\"Feature Engineering\": \"AF\", \"BER\": 0.10220826919262871, \"Machine Learning Method\": \"2) LDA\"}, {\"Feature Engineering\": \"PR(5,4,1)\", \"BER\": 0.2782032760131361, \"Machine Learning Method\": \"2) LDA\"}, {\"Feature Engineering\": \"PR(3,2,3)\", \"BER\": 0.11533289432641314, \"Machine Learning Method\": \"2) LDA\"}, {\"Feature Engineering\": \"PR(3,2,2)\", \"BER\": 0.1139604200603056, \"Machine Learning Method\": \"2) LDA\"}, {\"Feature Engineering\": \"PR(3,4,1)\", \"BER\": 0.43238190315210934, \"Machine Learning Method\": \"2) LDA\"}, {\"Feature Engineering\": \"PR(4,2,3)\", \"BER\": 0.06339706838232018, \"Machine Learning Method\": \"2) LDA\"}, {\"Feature Engineering\": \"PR(5,3,3)\", \"BER\": 0.049385967952494836, \"Machine Learning Method\": \"2) LDA\"}, {\"Feature Engineering\": \"PR(5,2,2)\", \"BER\": 0.037034854838896014, \"Machine Learning Method\": \"2) LDA\"}, {\"Feature Engineering\": \"PR(3,3,3)\", \"BER\": 0.12497818646362902, \"Machine Learning Method\": \"2) LDA\"}, {\"Feature Engineering\": \"AF\", \"BER\": 0.10761614127987573, \"Machine Learning Method\": \"3) QDA\"}, {\"Feature Engineering\": \"PR(5,4,1)\", \"BER\": 0.3664515411149438, \"Machine Learning Method\": \"3) QDA\"}, {\"Feature Engineering\": \"PR(3,2,3)\", \"BER\": 0.0661993249508549, \"Machine Learning Method\": \"3) QDA\"}, {\"Feature Engineering\": \"PR(3,2,2)\", \"BER\": 0.040616075071399305, \"Machine Learning Method\": \"3) QDA\"}, {\"Feature Engineering\": \"PR(3,4,1)\", \"BER\": 0.4685500793191866, \"Machine Learning Method\": \"3) QDA\"}, {\"Feature Engineering\": \"PR(4,2,3)\", \"BER\": 0.041228070175438614, \"Machine Learning Method\": \"3) QDA\"}, {\"Feature Engineering\": \"PR(5,3,3)\", \"BER\": 0.033333333333333215, \"Machine Learning Method\": \"3) QDA\"}, {\"Feature Engineering\": \"PR(5,2,2)\", \"BER\": 0.033333333333333215, \"Machine Learning Method\": \"3) QDA\"}, {\"Feature Engineering\": \"PR(3,3,3)\", \"BER\": 0.038995215311004805, \"Machine Learning Method\": \"3) QDA\"}, {\"Feature Engineering\": \"AF\", \"BER\": 0.0, \"Machine Learning Method\": \"4) SVM\"}, {\"Feature Engineering\": \"PR(5,4,1)\", \"BER\": 0.02402852926709287, \"Machine Learning Method\": \"4) SVM\"}, {\"Feature Engineering\": \"PR(3,2,3)\", \"BER\": 0.0, \"Machine Learning Method\": \"4) SVM\"}, {\"Feature Engineering\": \"PR(3,2,2)\", \"BER\": 0.0, \"Machine Learning Method\": \"4) SVM\"}, {\"Feature Engineering\": \"PR(3,4,1)\", \"BER\": 0.2504802356333019, \"Machine Learning Method\": \"4) SVM\"}, {\"Feature Engineering\": \"PR(4,2,3)\", \"BER\": 0.0, \"Machine Learning Method\": \"4) SVM\"}, {\"Feature Engineering\": \"PR(5,3,3)\", \"BER\": 0.0, \"Machine Learning Method\": \"4) SVM\"}, {\"Feature Engineering\": \"PR(5,2,2)\", \"BER\": 0.0, \"Machine Learning Method\": \"4) SVM\"}, {\"Feature Engineering\": \"PR(3,3,3)\", \"BER\": 0.0, \"Machine Learning Method\": \"4) SVM\"}, {\"Feature Engineering\": \"AF\", \"BER\": 0.13164277112346878, \"Machine Learning Method\": \"5) Decision Tree\"}, {\"Feature Engineering\": \"PR(5,4,1)\", \"BER\": 0.3446475882376263, \"Machine Learning Method\": \"5) Decision Tree\"}, {\"Feature Engineering\": \"PR(3,2,3)\", \"BER\": 0.23135488358716083, \"Machine Learning Method\": \"5) Decision Tree\"}, {\"Feature Engineering\": \"PR(3,2,2)\", \"BER\": 0.16419694871949198, \"Machine Learning Method\": \"5) Decision Tree\"}, {\"Feature Engineering\": \"PR(3,4,1)\", \"BER\": 0.42268806362551026, \"Machine Learning Method\": \"5) Decision Tree\"}, {\"Feature Engineering\": \"PR(4,2,3)\", \"BER\": 0.22796990917664317, \"Machine Learning Method\": \"5) Decision Tree\"}, {\"Feature Engineering\": \"PR(5,3,3)\", \"BER\": 0.10554474252730561, \"Machine Learning Method\": \"5) Decision Tree\"}, {\"Feature Engineering\": \"PR(5,2,2)\", \"BER\": 0.1147355530544727, \"Machine Learning Method\": \"5) Decision Tree\"}, {\"Feature Engineering\": \"PR(3,3,3)\", \"BER\": 0.06383622731316207, \"Machine Learning Method\": \"5) Decision Tree\"}, {\"Feature Engineering\": \"AF\", \"BER\": 0.0, \"Machine Learning Method\": \"6) K-NN\"}, {\"Feature Engineering\": \"PR(5,4,1)\", \"BER\": 0.02139695031972444, \"Machine Learning Method\": \"6) K-NN\"}, {\"Feature Engineering\": \"PR(3,2,3)\", \"BER\": 0.0, \"Machine Learning Method\": \"6) K-NN\"}, {\"Feature Engineering\": \"PR(3,2,2)\", \"BER\": 0.0, \"Machine Learning Method\": \"6) K-NN\"}, {\"Feature Engineering\": \"PR(3,4,1)\", \"BER\": 0.16312570852971608, \"Machine Learning Method\": \"6) K-NN\"}, {\"Feature Engineering\": \"PR(4,2,3)\", \"BER\": 0.0, \"Machine Learning Method\": \"6) K-NN\"}, {\"Feature Engineering\": \"PR(5,3,3)\", \"BER\": 0.0, \"Machine Learning Method\": \"6) K-NN\"}, {\"Feature Engineering\": \"PR(5,2,2)\", \"BER\": 0.0, \"Machine Learning Method\": \"6) K-NN\"}, {\"Feature Engineering\": \"PR(3,3,3)\", \"BER\": 0.0, \"Machine Learning Method\": \"6) K-NN\"}]}};\n",
       "var opt = {};\n",
       "var type = \"vega-lite\";\n",
       "var id = \"ac334756-1bd0-491e-9486-f25f66ecfd27\";\n",
       "\n",
       "var output_area = this;\n",
       "\n",
       "require([\"nbextensions/jupyter-vega/index\"], function(vega) {\n",
       "  var target = document.createElement(\"div\");\n",
       "  target.id = id;\n",
       "  target.className = \"vega-embed\";\n",
       "\n",
       "  var style = document.createElement(\"style\");\n",
       "  style.textContent = [\n",
       "    \".vega-embed .error p {\",\n",
       "    \"  color: firebrick;\",\n",
       "    \"  font-size: 14px;\",\n",
       "    \"}\",\n",
       "  ].join(\"\\\\n\");\n",
       "\n",
       "  // element is a jQuery wrapped DOM element inside the output area\n",
       "  // see http://ipython.readthedocs.io/en/stable/api/generated/\\\n",
       "  // IPython.display.html#IPython.display.Javascript.__init__\n",
       "  element[0].appendChild(target);\n",
       "  element[0].appendChild(style);\n",
       "\n",
       "  vega.render(\"#\" + id, spec, type, opt, output_area);\n",
       "}, function (err) {\n",
       "  if (err.requireType !== \"scripterror\") {\n",
       "    throw(err);\n",
       "  }\n",
       "});\n"
      ],
      "text/plain": [
       "<vega.vegalite.VegaLite at 0x13736c4e0>"
      ]
     },
     "metadata": {
      "jupyter-vega": "#ac334756-1bd0-491e-9486-f25f66ecfd27"
     },
     "output_type": "display_data"
    },
    {
     "data": {
      "text/plain": []
     },
     "metadata": {},
     "output_type": "display_data"
    },
    {
     "data": {
      "image/png": "[encoded data removed]"
     },
     "metadata": {
      "jupyter-vega": "#ac334756-1bd0-491e-9486-f25f66ecfd27"
     },
     "output_type": "display_data"
    }
   ],
   "source": [
    "# Plot - Leave-User-1-Out BER on User 1\n",
    "\n",
    "chart = alt.Chart(df_plot_1).mark_bar(stroke='transparent').encode(\n",
    "   alt.X('Machine Learning Method', axis=alt.Axis(title='')),\n",
    "   y='BER',\n",
    "   color=alt.Color('Machine Learning Method', scale=alt.Scale(range=['#EA98D2', '#A8D8EA', '#659CCA', '#AA96DA', '#FCBAD3', '#FFFFD2'])),\n",
    "   column='Feature Engineering'    \n",
    ").configure_view(\n",
    "    stroke='transparent',\n",
    ")\n",
    "\n",
    "chart.display()"
   ]
  },
  {
   "cell_type": "markdown",
   "metadata": {},
   "source": [
    "__Above: Leave-User-1-Out BER on User 1 test set by feature engineering methods and classifiers__"
   ]
  },
  {
   "cell_type": "code",
   "execution_count": 661,
   "metadata": {},
   "outputs": [],
   "source": [
    "# Leave-User-5-out on User 5 Test Set\n",
    "\n",
    "# Aggregate Feature\n",
    "af_ber_5 = np.array(af_ber_5_unseen)\n",
    "\n",
    "# Pseudo-rasterized Feature\n",
    "pr_541_ber_5 = np.array(pr_ber_5_unseen[0])\n",
    "pr_323_ber_5 = np.array(pr_ber_5_unseen[1])\n",
    "pr_322_ber_5 = np.array(pr_ber_5_unseen[2])\n",
    "pr_341_ber_5 = np.array(pr_ber_5_unseen[3])\n",
    "pr_423_ber_5 = np.array(pr_ber_5_unseen[4])\n",
    "pr_533_ber_5 = np.array(pr_ber_5_unseen[5])\n",
    "pr_522_ber_5 = np.array(pr_ber_5_unseen[6])\n",
    "pr_333_ber_5 = np.array(pr_ber_5_unseen[7])"
   ]
  },
  {
   "cell_type": "code",
   "execution_count": 662,
   "metadata": {},
   "outputs": [],
   "source": [
    "temp_list = []\n",
    "for i in range(6):\n",
    "    temp_list.append(['AF', af_ber_5[i], clf_name_list[i]])\n",
    "    temp_list.append(['PR(5,4,1)', pr_541_ber_5[i], clf_name_list[i]])\n",
    "    temp_list.append(['PR(3,2,3)', pr_323_ber_5[i], clf_name_list[i]])\n",
    "    temp_list.append(['PR(3,2,2)', pr_322_ber_5[i], clf_name_list[i]])\n",
    "    temp_list.append(['PR(3,4,1)', pr_341_ber_5[i], clf_name_list[i]])\n",
    "    temp_list.append(['PR(4,2,3)', pr_423_ber_5[i], clf_name_list[i]])\n",
    "    temp_list.append(['PR(5,3,3)', pr_533_ber_5[i], clf_name_list[i]])\n",
    "    temp_list.append(['PR(5,2,2)', pr_522_ber_5[i], clf_name_list[i]])\n",
    "    temp_list.append(['PR(3,3,3)', pr_333_ber_5[i], clf_name_list[i]])\n",
    "\n",
    "df_plot_5 = pd.DataFrame(temp_list, columns=['Feature Engineering', 'BER', 'Machine Learning Method'])"
   ]
  },
  {
   "cell_type": "code",
   "execution_count": 663,
   "metadata": {},
   "outputs": [
    {
     "data": {
      "application/javascript": [
       "var spec = {\"config\": {\"view\": {\"width\": 400, \"height\": 300, \"stroke\": \"transparent\"}}, \"data\": {\"name\": \"data-054a6c37ba3b10bf3d5aab5c7d266a13\"}, \"mark\": {\"type\": \"bar\", \"stroke\": \"transparent\"}, \"encoding\": {\"color\": {\"type\": \"nominal\", \"field\": \"Machine Learning Method\", \"scale\": {\"range\": [\"#EA98D2\", \"#A8D8EA\", \"#659CCA\", \"#AA96DA\", \"#FCBAD3\", \"#FFFFD2\"]}}, \"column\": {\"type\": \"nominal\", \"field\": \"Feature Engineering\"}, \"x\": {\"type\": \"nominal\", \"axis\": {\"title\": \"\"}, \"field\": \"Machine Learning Method\"}, \"y\": {\"type\": \"quantitative\", \"field\": \"BER\"}}, \"$schema\": \"https://vega.github.io/schema/vega-lite/v2.6.0.json\", \"datasets\": {\"data-054a6c37ba3b10bf3d5aab5c7d266a13\": [{\"Feature Engineering\": \"AF\", \"BER\": 0.28258719416970324, \"Machine Learning Method\": \"1) Naive Bayes\"}, {\"Feature Engineering\": \"PR(5,4,1)\", \"BER\": 0.32654867256637166, \"Machine Learning Method\": \"1) Naive Bayes\"}, {\"Feature Engineering\": \"PR(3,2,3)\", \"BER\": 0.6, \"Machine Learning Method\": \"1) Naive Bayes\"}, {\"Feature Engineering\": \"PR(3,2,2)\", \"BER\": 0.5741176470588235, \"Machine Learning Method\": \"1) Naive Bayes\"}, {\"Feature Engineering\": \"PR(3,4,1)\", \"BER\": 0.35132743362831853, \"Machine Learning Method\": \"1) Naive Bayes\"}, {\"Feature Engineering\": \"PR(4,2,3)\", \"BER\": 0.6, \"Machine Learning Method\": \"1) Naive Bayes\"}, {\"Feature Engineering\": \"PR(5,3,3)\", \"BER\": 0.4185588435510351, \"Machine Learning Method\": \"1) Naive Bayes\"}, {\"Feature Engineering\": \"PR(5,2,2)\", \"BER\": 0.5929411764705883, \"Machine Learning Method\": \"1) Naive Bayes\"}, {\"Feature Engineering\": \"PR(3,3,3)\", \"BER\": 0.42711087975013007, \"Machine Learning Method\": \"1) Naive Bayes\"}, {\"Feature Engineering\": \"AF\", \"BER\": 0.1179854242581988, \"Machine Learning Method\": \"2) LDA\"}, {\"Feature Engineering\": \"PR(5,4,1)\", \"BER\": 0.42169358797912704, \"Machine Learning Method\": \"2) LDA\"}, {\"Feature Engineering\": \"PR(3,2,3)\", \"BER\": 0.540994273815721, \"Machine Learning Method\": \"2) LDA\"}, {\"Feature Engineering\": \"PR(3,2,2)\", \"BER\": 0.536283185840708, \"Machine Learning Method\": \"2) LDA\"}, {\"Feature Engineering\": \"PR(3,4,1)\", \"BER\": 0.6410415248468346, \"Machine Learning Method\": \"2) LDA\"}, {\"Feature Engineering\": \"PR(4,2,3)\", \"BER\": 0.5395236855804268, \"Machine Learning Method\": \"2) LDA\"}, {\"Feature Engineering\": \"PR(5,3,3)\", \"BER\": 0.42639550714771945, \"Machine Learning Method\": \"2) LDA\"}, {\"Feature Engineering\": \"PR(5,2,2)\", \"BER\": 0.5277103271533256, \"Machine Learning Method\": \"2) LDA\"}, {\"Feature Engineering\": \"PR(3,3,3)\", \"BER\": 0.5380530973451327, \"Machine Learning Method\": \"2) LDA\"}, {\"Feature Engineering\": \"AF\", \"BER\": 0.027064029151483537, \"Machine Learning Method\": \"3) QDA\"}, {\"Feature Engineering\": \"PR(5,4,1)\", \"BER\": 0.7339302446642373, \"Machine Learning Method\": \"3) QDA\"}, {\"Feature Engineering\": \"PR(3,2,3)\", \"BER\": 0.6, \"Machine Learning Method\": \"3) QDA\"}, {\"Feature Engineering\": \"PR(3,2,2)\", \"BER\": 0.6, \"Machine Learning Method\": \"3) QDA\"}, {\"Feature Engineering\": \"PR(3,4,1)\", \"BER\": 0.645519160693549, \"Machine Learning Method\": \"3) QDA\"}, {\"Feature Engineering\": \"PR(4,2,3)\", \"BER\": 0.6650078084331077, \"Machine Learning Method\": \"3) QDA\"}, {\"Feature Engineering\": \"PR(5,3,3)\", \"BER\": 0.734360108917631, \"Machine Learning Method\": \"3) QDA\"}, {\"Feature Engineering\": \"PR(5,2,2)\", \"BER\": 0.6477876106194691, \"Machine Learning Method\": \"3) QDA\"}, {\"Feature Engineering\": \"PR(3,3,3)\", \"BER\": 0.6, \"Machine Learning Method\": \"3) QDA\"}, {\"Feature Engineering\": \"AF\", \"BER\": 0.6299999999999999, \"Machine Learning Method\": \"4) SVM\"}, {\"Feature Engineering\": \"PR(5,4,1)\", \"BER\": 0.34187662675689745, \"Machine Learning Method\": \"4) SVM\"}, {\"Feature Engineering\": \"PR(3,2,3)\", \"BER\": 0.4949765747006767, \"Machine Learning Method\": \"4) SVM\"}, {\"Feature Engineering\": \"PR(3,2,2)\", \"BER\": 0.4510281103591879, \"Machine Learning Method\": \"4) SVM\"}, {\"Feature Engineering\": \"PR(3,4,1)\", \"BER\": 0.4761061946902655, \"Machine Learning Method\": \"4) SVM\"}, {\"Feature Engineering\": \"PR(4,2,3)\", \"BER\": 0.4386387298282145, \"Machine Learning Method\": \"4) SVM\"}, {\"Feature Engineering\": \"PR(5,3,3)\", \"BER\": 0.40588235294117647, \"Machine Learning Method\": \"4) SVM\"}, {\"Feature Engineering\": \"PR(5,2,2)\", \"BER\": 0.40588235294117647, \"Machine Learning Method\": \"4) SVM\"}, {\"Feature Engineering\": \"PR(3,3,3)\", \"BER\": 0.467529932326913, \"Machine Learning Method\": \"4) SVM\"}, {\"Feature Engineering\": \"AF\", \"BER\": 0.34334721499219156, \"Machine Learning Method\": \"5) Decision Tree\"}, {\"Feature Engineering\": \"PR(5,4,1)\", \"BER\": 0.6825101109197933, \"Machine Learning Method\": \"5) Decision Tree\"}, {\"Feature Engineering\": \"PR(3,2,3)\", \"BER\": 0.7316641973331197, \"Machine Learning Method\": \"5) Decision Tree\"}, {\"Feature Engineering\": \"PR(3,2,2)\", \"BER\": 0.5794117647058823, \"Machine Learning Method\": \"5) Decision Tree\"}, {\"Feature Engineering\": \"PR(3,4,1)\", \"BER\": 0.6955003869932952, \"Machine Learning Method\": \"5) Decision Tree\"}, {\"Feature Engineering\": \"PR(4,2,3)\", \"BER\": 0.5581418068500281, \"Machine Learning Method\": \"5) Decision Tree\"}, {\"Feature Engineering\": \"PR(5,3,3)\", \"BER\": 0.33414527689905105, \"Machine Learning Method\": \"5) Decision Tree\"}, {\"Feature Engineering\": \"PR(5,2,2)\", \"BER\": 0.6565985264085212, \"Machine Learning Method\": \"5) Decision Tree\"}, {\"Feature Engineering\": \"PR(3,3,3)\", \"BER\": 0.5516277579786169, \"Machine Learning Method\": \"5) Decision Tree\"}, {\"Feature Engineering\": \"AF\", \"BER\": 0.48099547511312224, \"Machine Learning Method\": \"6) K-NN\"}, {\"Feature Engineering\": \"PR(5,4,1)\", \"BER\": 0.44531734273014856, \"Machine Learning Method\": \"6) K-NN\"}, {\"Feature Engineering\": \"PR(3,2,3)\", \"BER\": 0.46192087454450803, \"Machine Learning Method\": \"6) K-NN\"}, {\"Feature Engineering\": \"PR(3,2,2)\", \"BER\": 0.4681025507548152, \"Machine Learning Method\": \"6) K-NN\"}, {\"Feature Engineering\": \"PR(3,4,1)\", \"BER\": 0.551504424778761, \"Machine Learning Method\": \"6) K-NN\"}, {\"Feature Engineering\": \"PR(4,2,3)\", \"BER\": 0.45691046330036433, \"Machine Learning Method\": \"6) K-NN\"}, {\"Feature Engineering\": \"PR(5,3,3)\", \"BER\": 0.44215252472670485, \"Machine Learning Method\": \"6) K-NN\"}, {\"Feature Engineering\": \"PR(5,2,2)\", \"BER\": 0.4636907860489329, \"Machine Learning Method\": \"6) K-NN\"}, {\"Feature Engineering\": \"PR(3,3,3)\", \"BER\": 0.4315330557001561, \"Machine Learning Method\": \"6) K-NN\"}]}};\n",
       "var opt = {};\n",
       "var type = \"vega-lite\";\n",
       "var id = \"20d3b748-7917-4fce-8d4d-1db49c9a962f\";\n",
       "\n",
       "var output_area = this;\n",
       "\n",
       "require([\"nbextensions/jupyter-vega/index\"], function(vega) {\n",
       "  var target = document.createElement(\"div\");\n",
       "  target.id = id;\n",
       "  target.className = \"vega-embed\";\n",
       "\n",
       "  var style = document.createElement(\"style\");\n",
       "  style.textContent = [\n",
       "    \".vega-embed .error p {\",\n",
       "    \"  color: firebrick;\",\n",
       "    \"  font-size: 14px;\",\n",
       "    \"}\",\n",
       "  ].join(\"\\\\n\");\n",
       "\n",
       "  // element is a jQuery wrapped DOM element inside the output area\n",
       "  // see http://ipython.readthedocs.io/en/stable/api/generated/\\\n",
       "  // IPython.display.html#IPython.display.Javascript.__init__\n",
       "  element[0].appendChild(target);\n",
       "  element[0].appendChild(style);\n",
       "\n",
       "  vega.render(\"#\" + id, spec, type, opt, output_area);\n",
       "}, function (err) {\n",
       "  if (err.requireType !== \"scripterror\") {\n",
       "    throw(err);\n",
       "  }\n",
       "});\n"
      ],
      "text/plain": [
       "<vega.vegalite.VegaLite at 0x13736c3c8>"
      ]
     },
     "metadata": {
      "jupyter-vega": "#20d3b748-7917-4fce-8d4d-1db49c9a962f"
     },
     "output_type": "display_data"
    },
    {
     "data": {
      "text/plain": []
     },
     "metadata": {},
     "output_type": "display_data"
    },
    {
     "data": {
      "image/png": "[encoded data removed]"
     },
     "metadata": {
      "jupyter-vega": "#20d3b748-7917-4fce-8d4d-1db49c9a962f"
     },
     "output_type": "display_data"
    }
   ],
   "source": [
    "# Plot - Leave-User-5-Out BER on User 5\n",
    "\n",
    "chart = alt.Chart(df_plot_5).mark_bar(stroke='transparent').encode(\n",
    "   alt.X('Machine Learning Method', axis=alt.Axis(title='')),\n",
    "   y='BER',\n",
    "   color=alt.Color('Machine Learning Method', scale=alt.Scale(range=['#EA98D2', '#A8D8EA', '#659CCA', '#AA96DA', '#FCBAD3', '#FFFFD2'])),\n",
    "   column='Feature Engineering'    \n",
    ").configure_view(\n",
    "    stroke='transparent',\n",
    ")\n",
    "\n",
    "chart.display()"
   ]
  },
  {
   "cell_type": "markdown",
   "metadata": {},
   "source": [
    "__Above: Leave-User-5-Out BER on User 5 test set by feature engineering methods and classifiers__"
   ]
  },
  {
   "cell_type": "markdown",
   "metadata": {},
   "source": [
    "## Analysis\n",
    "\n",
    "The above plots offer significant insights into the feature engineering methods and machine learning algorithms that are employed in this project. Further, some unexpected observations are made and reveal issues that are present in the dataset and might impact the performance of the predictive models in practical use.\n",
    "\n",
    "A collection of observations are listed as follows.\n",
    "\n",
    "__Machine Learning Methods:__\n",
    "\n",
    "I. According to the barplots above, we can observe that, in most of the test cases, Naive Bayes and Decision Tree fail to produce predictions with satisfactory accuracy, as their Balanced Error Rates exceed substantially those of the other four classifiers. The poor performance of the former can be attributed to the conditional independence assumption, which obviously does not hold in this case, while that of the latter might be due to overfitting since, during the training stage, cross-validation favored a little regularized decision tree classifier.\n",
    "\n",
    "II. By far, the best classifiers are Support Vector Machine and K-Nearest Neighbors. These two classifiers almost always beat their peers, except in some rare cases like in the User 5 Test Set, where the entire results are abnormally off as a whole. In some test sets, such as in the User 13 Test Set and User 10 Test Set, the SVM and the K-NN even yield nearly perfect prediction (achieve a BER of 0 in many of the test results). Interestingly, in many cases, these two classifiers perform equally well. The excellent performance may be ascribed to the fact that the features are scaled prior to training and prediction, yet the exact underlying factor is unknown.\n",
    "\n",
    "III. The Linear Discriminant Analysis and the Quadratic Disciminant Analysis are acceptable classifiers, as their overall performance lies between those in i) and those in ii). In some case they are even able to outperform all other competitors, like the QDA does in the User 5 Test Set. Nevertheless, they still fail to be ideal candidates in the competition for the best classifier, as the SVM and K-NN prove to be superior in most situations.\n",
    "\n",
    "__Feature Engineering Methods:__\n",
    "\n",
    "I. Surprisingly, the Aggregate Features proves itself a very strong candidate, as it manages to outperform most of the Pseudo-rasterized Features in most test cases. The Aggregate Features is a good proxy for the patterns behind different types of hand postures and is computationally inexpensive to implement at the same time.\n",
    "\n",
    "II. For the Pseudo-rasterized Features, it turns out that the selection of the three parameters, $m$, $r$ and $f_{i}$, largely dictates how well the classifiers trained on these features will perform.\n",
    "\n",
    "   i) The most influential parameter is $f_{i}$, i.e. the feature value function. Particularly, $f_{1}$ is an awful choice, as all test results in groups that employ $f_{1}$ illustrate astonishingly large error rate. The mostly likely reason is the oversimplicity of its computation; it is binary and ignores any positional context within in the sphere. $f_{2}$ and $f_{3}$ do not exhibit significant difference, as the plots suggest.\n",
    "   \n",
    "   ii) The test results imply that, the larger the $m$ (the number of spheres in a dimension) is, the better prediction we typically obtain. Equivalently, a finer grid is preferred as it is able to embrace more information.\n",
    "   \n",
    "   iii) The radius of the sphere, $r$, does not seem to be a significant factor compared to the two parameters mentioned above.\n",
    "   \n",
    "__Test Cases Analysis:__\n",
    "\n",
    "Interestingly, many of the test case results in this project are unexpected and slightly counterintuitive, especially in the last four test cases, where we tested our leave-one-user-out classifiers on the corresponding left-out user. Intuitively, these test results are expected to be worse than the test on the entire test set. The logic behind this hypothesis is that, since the classifiers are asked to exclusively label observations produced by users that they have never been trained on, they have to deal with posture patterns with which they are unfamiliar and would thus produce poor prediction.\n",
    "\n",
    "In reality, however, this is not the case. The tests across the four different groups exhibit starkly different results. In Group 1 (User 13) and Group 2 (User 10), the test results turn out to be much better than the average test on the whole test set. The test result in Group 3 (User 1) is roughly consistent with that on the whole test set. In Group 4 (User 5), we observe abyssmal test results that are way worse than the test on the whole test set. The tremendous variations in the test performance on different users imply that, the classifiers perform extremely well on some users, whereas they completely fail on other users. In other words, the classifiers are very sensitive to users.\n",
    "\n",
    "The instability might be explained by the nature of the users. Some users tend to give postures in a fairly standard fashion, while other users may be very \"creative\" about this. Alternatively, the imbalance in the number of intances given by each users might play a role in the instability. The exact reason is still unclear."
   ]
  },
  {
   "cell_type": "markdown",
   "metadata": {},
   "source": [
    "## Conclusion\n",
    "\n",
    "In this project, using two feature engineering methods to transform the raw data, we developed a wide variety of classifiers that, given a collection of 3-D coordinates, are able to classify the instance into one of the five types of hand postures. A thorough analysis with data visualization was provided and some observations that provide insights into the problems we face were made.\n",
    "\n",
    "__Recommendation for Building Classifier:__\n",
    "\n",
    "In accordance with the analysis section, we recommend that a classifier that uses Aggregate Features or Pseudo-rasterized Features with $m = 5$ and $f_{2}$ or $f_{3}$ as its feature value function and employs Support Machine Vector or K-Nearest Neighbors. The choice of feature engineering methods depends on the preference between accuracy and computational cost. A user that values accuracy more might find Pseudo-rasterized Features more desirable and vice versa.\n",
    "\n",
    "__Application of the Hand Posture Classifier:__\n",
    "\n",
    "Although the classifiers were developed in an experimental setting, there exist a number of potential fields that might benefit from the the hand posture classifiers or their theoretical basis. One of the possible applications is for training surgeons, who will conduct surgeries that require certain postures to be correctly positioned. The classifier may serve as a corrective tool for training purposes. Another application is for special nighttime military operations, where lights and oral commands are impossible due to the secrecy of the operations. The team lead might display a hand posture as a command and the soldiers will be able to interpret the hand posture using a classifier while remaining in dark and silence, minimizing the risk of being detected."
   ]
  }
 ],
 "metadata": {
  "kernelspec": {
   "display_name": "Python 3",
   "language": "python",
   "name": "python3"
  },
  "language_info": {
   "codemirror_mode": {
    "name": "ipython",
    "version": 3
   },
   "file_extension": ".py",
   "mimetype": "text/x-python",
   "name": "python",
   "nbconvert_exporter": "python",
   "pygments_lexer": "ipython3",
   "version": "3.6.5"
  }
 },
 "nbformat": 4,
 "nbformat_minor": 2
}
